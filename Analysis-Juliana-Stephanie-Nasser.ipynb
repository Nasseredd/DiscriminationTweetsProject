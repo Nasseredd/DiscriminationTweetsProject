{
 "cells": [
  {
   "cell_type": "code",
   "execution_count": 1,
   "metadata": {},
   "outputs": [],
   "source": [
    "import pandas as pd "
   ]
  },
  {
   "cell_type": "code",
   "execution_count": 8,
   "metadata": {},
   "outputs": [],
   "source": [
    "wassem_1 = pd.read_csv('wassem_css.csv', sep='\\t', error_bad_lines=True)\n",
    "wassem_2 = pd.read_csv('wassem_hovy_naacl.csv', sep='\\t')"
   ]
  },
  {
   "cell_type": "code",
   "execution_count": 9,
   "metadata": {},
   "outputs": [
    {
     "data": {
      "text/html": [
       "<div>\n",
       "<style scoped>\n",
       "    .dataframe tbody tr th:only-of-type {\n",
       "        vertical-align: middle;\n",
       "    }\n",
       "\n",
       "    .dataframe tbody tr th {\n",
       "        vertical-align: top;\n",
       "    }\n",
       "\n",
       "    .dataframe thead th {\n",
       "        text-align: right;\n",
       "    }\n",
       "</style>\n",
       "<table border=\"1\" class=\"dataframe\">\n",
       "  <thead>\n",
       "    <tr style=\"text-align: right;\">\n",
       "      <th></th>\n",
       "      <th>Tweet_ID</th>\n",
       "      <th>Previous</th>\n",
       "      <th>User_ID</th>\n",
       "      <th>Text</th>\n",
       "      <th>Expert_Annotation</th>\n",
       "      <th>Amateur_Annotations</th>\n",
       "    </tr>\n",
       "  </thead>\n",
       "  <tbody>\n",
       "    <tr>\n",
       "      <th>0</th>\n",
       "      <td>570775709343461377</td>\n",
       "      <td>5.707751e+17</td>\n",
       "      <td>24414732</td>\n",
       "      <td>@TVBachelor @NewJerzeyBoy what about the femin...</td>\n",
       "      <td>both</td>\n",
       "      <td>[neither,sexism,sexism]</td>\n",
       "    </tr>\n",
       "    <tr>\n",
       "      <th>1</th>\n",
       "      <td>596730741490253824</td>\n",
       "      <td>5.967300e+17</td>\n",
       "      <td>13857342</td>\n",
       "      <td>@ThelmaSleaze uh... did you watch the video? o...</td>\n",
       "      <td>both</td>\n",
       "      <td>[neither,racism,sexism]</td>\n",
       "    </tr>\n",
       "    <tr>\n",
       "      <th>2</th>\n",
       "      <td>600800567426883585</td>\n",
       "      <td>NaN</td>\n",
       "      <td>254174483</td>\n",
       "      <td>Managed to hit a bird and a small rodent on my...</td>\n",
       "      <td>both</td>\n",
       "      <td>[neither,neither,neither]</td>\n",
       "    </tr>\n",
       "    <tr>\n",
       "      <th>3</th>\n",
       "      <td>603546751841230848</td>\n",
       "      <td>NaN</td>\n",
       "      <td>2264363900</td>\n",
       "      <td>If you believe a #holohoax or #gays, LGBT &amp;amp...</td>\n",
       "      <td>both</td>\n",
       "      <td>[sexism,both,sexism]</td>\n",
       "    </tr>\n",
       "    <tr>\n",
       "      <th>4</th>\n",
       "      <td>603584564582326272</td>\n",
       "      <td>NaN</td>\n",
       "      <td>2198745044</td>\n",
       "      <td>Rid yourself of #Feminazi, #Fag &amp;amp; #Jewf. E...</td>\n",
       "      <td>both</td>\n",
       "      <td>[sexism,sexism,sexism]</td>\n",
       "    </tr>\n",
       "  </tbody>\n",
       "</table>\n",
       "</div>"
      ],
      "text/plain": [
       "             Tweet_ID      Previous     User_ID  \\\n",
       "0  570775709343461377  5.707751e+17    24414732   \n",
       "1  596730741490253824  5.967300e+17    13857342   \n",
       "2  600800567426883585           NaN   254174483   \n",
       "3  603546751841230848           NaN  2264363900   \n",
       "4  603584564582326272           NaN  2198745044   \n",
       "\n",
       "                                                Text Expert_Annotation  \\\n",
       "0  @TVBachelor @NewJerzeyBoy what about the femin...              both   \n",
       "1  @ThelmaSleaze uh... did you watch the video? o...              both   \n",
       "2  Managed to hit a bird and a small rodent on my...              both   \n",
       "3  If you believe a #holohoax or #gays, LGBT &amp...              both   \n",
       "4  Rid yourself of #Feminazi, #Fag &amp; #Jewf. E...              both   \n",
       "\n",
       "         Amateur_Annotations  \n",
       "0    [neither,sexism,sexism]  \n",
       "1    [neither,racism,sexism]  \n",
       "2  [neither,neither,neither]  \n",
       "3       [sexism,both,sexism]  \n",
       "4     [sexism,sexism,sexism]  "
      ]
     },
     "execution_count": 9,
     "metadata": {},
     "output_type": "execute_result"
    }
   ],
   "source": [
    "wassem_1.head()"
   ]
  },
  {
   "cell_type": "markdown",
   "metadata": {},
   "source": [
    "**Wassem 1**"
   ]
  },
  {
   "cell_type": "code",
   "execution_count": 16,
   "metadata": {},
   "outputs": [],
   "source": [
    "wassem_1 = wassem_1[['Text','Expert_Annotation']]\n",
    "\n",
    "racism_data_1 = wassem_1[wassem_1['Expert_Annotation']!='sexism']\n",
    "sexism_data_1 = wassem_1[wassem_1['Expert_Annotation']!='racism']"
   ]
  },
  {
   "cell_type": "code",
   "execution_count": 18,
   "metadata": {},
   "outputs": [
    {
     "data": {
      "text/plain": [
       "neither    5729\n",
       "racism       88\n",
       "both         35\n",
       "Name: Expert_Annotation, dtype: int64"
      ]
     },
     "execution_count": 18,
     "metadata": {},
     "output_type": "execute_result"
    }
   ],
   "source": [
    "racism_data_1['Expert_Annotation'].value_counts()"
   ]
  },
  {
   "cell_type": "code",
   "execution_count": 19,
   "metadata": {},
   "outputs": [
    {
     "data": {
      "text/plain": [
       "neither    5729\n",
       "sexism      815\n",
       "both         35\n",
       "Name: Expert_Annotation, dtype: int64"
      ]
     },
     "execution_count": 19,
     "metadata": {},
     "output_type": "execute_result"
    }
   ],
   "source": [
    "sexism_data_1['Expert_Annotation'].value_counts()"
   ]
  },
  {
   "cell_type": "markdown",
   "metadata": {},
   "source": [
    "**Wassem 2**"
   ]
  },
  {
   "cell_type": "code",
   "execution_count": 22,
   "metadata": {},
   "outputs": [
    {
     "data": {
      "text/html": [
       "<div>\n",
       "<style scoped>\n",
       "    .dataframe tbody tr th:only-of-type {\n",
       "        vertical-align: middle;\n",
       "    }\n",
       "\n",
       "    .dataframe tbody tr th {\n",
       "        vertical-align: top;\n",
       "    }\n",
       "\n",
       "    .dataframe thead th {\n",
       "        text-align: right;\n",
       "    }\n",
       "</style>\n",
       "<table border=\"1\" class=\"dataframe\">\n",
       "  <thead>\n",
       "    <tr style=\"text-align: right;\">\n",
       "      <th></th>\n",
       "      <th>Tweet_ID</th>\n",
       "      <th>Previous</th>\n",
       "      <th>User_ID</th>\n",
       "      <th>Text</th>\n",
       "      <th>Label</th>\n",
       "    </tr>\n",
       "  </thead>\n",
       "  <tbody>\n",
       "    <tr>\n",
       "      <th>0</th>\n",
       "      <td>567080871472017408</td>\n",
       "      <td>5.670786e+17</td>\n",
       "      <td>2941145694</td>\n",
       "      <td>@truaemusic The followers of the religion give...</td>\n",
       "      <td>racism</td>\n",
       "    </tr>\n",
       "    <tr>\n",
       "      <th>1</th>\n",
       "      <td>566098518616449024</td>\n",
       "      <td>5.660874e+17</td>\n",
       "      <td>2941145694</td>\n",
       "      <td>@Love___Egypt @washingtonpost All the land tha...</td>\n",
       "      <td>racism</td>\n",
       "    </tr>\n",
       "    <tr>\n",
       "      <th>2</th>\n",
       "      <td>554672350361571328</td>\n",
       "      <td>NaN</td>\n",
       "      <td>2941145694</td>\n",
       "      <td>@CamilleHughes16 @edbarber101658 @_Watch_Obser...</td>\n",
       "      <td>racism</td>\n",
       "    </tr>\n",
       "    <tr>\n",
       "      <th>3</th>\n",
       "      <td>569878129772081153</td>\n",
       "      <td>5.698451e+17</td>\n",
       "      <td>2941145694</td>\n",
       "      <td>@KellyTurner99 @brushyblues @buellerishere The...</td>\n",
       "      <td>racism</td>\n",
       "    </tr>\n",
       "    <tr>\n",
       "      <th>4</th>\n",
       "      <td>568541747849998337</td>\n",
       "      <td>NaN</td>\n",
       "      <td>2941145694</td>\n",
       "      <td>@buellerishere Who cares. ISIS does what Moham...</td>\n",
       "      <td>racism</td>\n",
       "    </tr>\n",
       "  </tbody>\n",
       "</table>\n",
       "</div>"
      ],
      "text/plain": [
       "             Tweet_ID      Previous     User_ID  \\\n",
       "0  567080871472017408  5.670786e+17  2941145694   \n",
       "1  566098518616449024  5.660874e+17  2941145694   \n",
       "2  554672350361571328           NaN  2941145694   \n",
       "3  569878129772081153  5.698451e+17  2941145694   \n",
       "4  568541747849998337           NaN  2941145694   \n",
       "\n",
       "                                                Text   Label  \n",
       "0  @truaemusic The followers of the religion give...  racism  \n",
       "1  @Love___Egypt @washingtonpost All the land tha...  racism  \n",
       "2  @CamilleHughes16 @edbarber101658 @_Watch_Obser...  racism  \n",
       "3  @KellyTurner99 @brushyblues @buellerishere The...  racism  \n",
       "4  @buellerishere Who cares. ISIS does what Moham...  racism  "
      ]
     },
     "execution_count": 22,
     "metadata": {},
     "output_type": "execute_result"
    }
   ],
   "source": [
    "wassem_2.head()"
   ]
  },
  {
   "cell_type": "code",
   "execution_count": 23,
   "metadata": {},
   "outputs": [
    {
     "data": {
      "text/plain": [
       "none      11115\n",
       "sexism     3148\n",
       "racism     1939\n",
       "Name: Label, dtype: int64"
      ]
     },
     "execution_count": 23,
     "metadata": {},
     "output_type": "execute_result"
    }
   ],
   "source": [
    "wassem_2['Label'].value_counts()"
   ]
  },
  {
   "cell_type": "code",
   "execution_count": 24,
   "metadata": {},
   "outputs": [],
   "source": [
    "wassem_2 = wassem_2[['Text','Label']]\n",
    "\n",
    "racism_data_2 = wassem_2[wassem_2['Label']!='sexism']\n",
    "sexism_data_2 = wassem_2[wassem_2['Label']!='racism']"
   ]
  },
  {
   "cell_type": "code",
   "execution_count": 25,
   "metadata": {},
   "outputs": [
    {
     "data": {
      "text/plain": [
       "none      11115\n",
       "racism     1939\n",
       "Name: Label, dtype: int64"
      ]
     },
     "execution_count": 25,
     "metadata": {},
     "output_type": "execute_result"
    }
   ],
   "source": [
    "racism_data_2['Label'].value_counts()"
   ]
  },
  {
   "cell_type": "code",
   "execution_count": 27,
   "metadata": {},
   "outputs": [
    {
     "data": {
      "text/plain": [
       "none      11115\n",
       "sexism     3148\n",
       "Name: Label, dtype: int64"
      ]
     },
     "execution_count": 27,
     "metadata": {},
     "output_type": "execute_result"
    }
   ],
   "source": [
    "sexism_data_2['Label'].value_counts()"
   ]
  },
  {
   "cell_type": "code",
   "execution_count": null,
   "metadata": {},
   "outputs": [],
   "source": []
  },
  {
   "cell_type": "code",
   "execution_count": null,
   "metadata": {},
   "outputs": [],
   "source": []
  },
  {
   "cell_type": "code",
   "execution_count": null,
   "metadata": {},
   "outputs": [],
   "source": [
    "RacismData = racism_data_1 & racism_data_2\n",
    "SexismData = sexism_data_1 & sexism_data_2 "
   ]
  }
 ],
 "metadata": {
  "kernelspec": {
   "display_name": "Python 3",
   "language": "python",
   "name": "python3"
  },
  "language_info": {
   "codemirror_mode": {
    "name": "ipython",
    "version": 3
   },
   "file_extension": ".py",
   "mimetype": "text/x-python",
   "name": "python",
   "nbconvert_exporter": "python",
   "pygments_lexer": "ipython3",
   "version": "3.7.4"
  }
 },
 "nbformat": 4,
 "nbformat_minor": 4
}
