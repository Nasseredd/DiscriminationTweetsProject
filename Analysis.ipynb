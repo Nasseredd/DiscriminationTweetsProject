{
 "cells": [
  {
   "cell_type": "markdown",
   "metadata": {},
   "source": [
    "# Analysis & Comparison "
   ]
  },
  {
   "cell_type": "markdown",
   "metadata": {},
   "source": [
    "## Libraries "
   ]
  },
  {
   "cell_type": "code",
   "execution_count": 1,
   "metadata": {},
   "outputs": [],
   "source": [
    "import numpy as np\n",
    "import pandas as pd\n",
    "import warnings\n",
    "warnings.filterwarnings(\"ignore\")"
   ]
  },
  {
   "cell_type": "markdown",
   "metadata": {},
   "source": [
    "## Data set "
   ]
  },
  {
   "cell_type": "code",
   "execution_count": 2,
   "metadata": {},
   "outputs": [
    {
     "name": "stdout",
     "output_type": "stream",
     "text": [
      "Data set's shape =  (43721, 2)\n",
      "There is 0 missing values in the target\n"
     ]
    }
   ],
   "source": [
    "#file = 'Data/data.csv'\n",
    "file = 'Data/new_dataset_clean.csv'\n",
    "dataframe = pd.read_csv(file, error_bad_lines=False, sep=\";\")\n",
    "df = dataframe.copy()\n",
    "print(\"Data set's shape = \", df.shape) \n",
    "print(\"There is {} missing values in the target\".format(df['Label'].isnull().sum()))"
   ]
  },
  {
   "cell_type": "code",
   "execution_count": 4,
   "metadata": {},
   "outputs": [
    {
     "data": {
      "text/html": [
       "<div>\n",
       "<style scoped>\n",
       "    .dataframe tbody tr th:only-of-type {\n",
       "        vertical-align: middle;\n",
       "    }\n",
       "\n",
       "    .dataframe tbody tr th {\n",
       "        vertical-align: top;\n",
       "    }\n",
       "\n",
       "    .dataframe thead th {\n",
       "        text-align: right;\n",
       "    }\n",
       "</style>\n",
       "<table border=\"1\" class=\"dataframe\">\n",
       "  <thead>\n",
       "    <tr style=\"text-align: right;\">\n",
       "      <th></th>\n",
       "      <th>Tweets</th>\n",
       "      <th>Label</th>\n",
       "    </tr>\n",
       "  </thead>\n",
       "  <tbody>\n",
       "    <tr>\n",
       "      <th>43714</th>\n",
       "      <td>you're all niggers</td>\n",
       "      <td>1</td>\n",
       "    </tr>\n",
       "    <tr>\n",
       "      <th>43715</th>\n",
       "      <td>you're such a retard i hope you get type 2 dia...</td>\n",
       "      <td>1</td>\n",
       "    </tr>\n",
       "    <tr>\n",
       "      <th>43716</th>\n",
       "      <td>you's a muthaf***in lie     right his tl is tr...</td>\n",
       "      <td>1</td>\n",
       "    </tr>\n",
       "    <tr>\n",
       "      <th>43717</th>\n",
       "      <td>you've gone and broke the wrong hea  baby and ...</td>\n",
       "      <td>0</td>\n",
       "    </tr>\n",
       "    <tr>\n",
       "      <th>43718</th>\n",
       "      <td>young buck wanna eat dat nigguh like i aint fu...</td>\n",
       "      <td>1</td>\n",
       "    </tr>\n",
       "    <tr>\n",
       "      <th>43719</th>\n",
       "      <td>youu got wild bitches tellin you lies</td>\n",
       "      <td>1</td>\n",
       "    </tr>\n",
       "    <tr>\n",
       "      <th>43720</th>\n",
       "      <td>ruffled  ntac eileen dahlia  beautiful color c...</td>\n",
       "      <td>0</td>\n",
       "    </tr>\n",
       "  </tbody>\n",
       "</table>\n",
       "</div>"
      ],
      "text/plain": [
       "                                                  Tweets  Label\n",
       "43714                                 you're all niggers      1\n",
       "43715  you're such a retard i hope you get type 2 dia...      1\n",
       "43716  you's a muthaf***in lie     right his tl is tr...      1\n",
       "43717  you've gone and broke the wrong hea  baby and ...      0\n",
       "43718  young buck wanna eat dat nigguh like i aint fu...      1\n",
       "43719              youu got wild bitches tellin you lies      1\n",
       "43720  ruffled  ntac eileen dahlia  beautiful color c...      0"
      ]
     },
     "execution_count": 4,
     "metadata": {},
     "output_type": "execute_result"
    }
   ],
   "source": [
    "df.tail(7)"
   ]
  },
  {
   "cell_type": "markdown",
   "metadata": {},
   "source": [
    "# Canonization : Lemmatization vs Stemming"
   ]
  },
  {
   "cell_type": "markdown",
   "metadata": {},
   "source": [
    "### Number of Tokens per canonization method (100% of data set)"
   ]
  },
  {
   "cell_type": "code",
   "execution_count": 13,
   "metadata": {},
   "outputs": [],
   "source": [
    "from DPreprocessing import canonization\n",
    "nbr_lemmatized_tokens = len(canonization(df['Tweets'], method=\"lemmatization\"))\n",
    "nbr_stemmed_tokens = len(canonization(df['Tweets'], method=\"stemming\"))"
   ]
  },
  {
   "cell_type": "code",
   "execution_count": 73,
   "metadata": {},
   "outputs": [
    {
     "data": {
      "image/png": "[encoded data removed]",
      "text/plain": [
       "<Figure size 504x504 with 1 Axes>"
      ]
     },
     "metadata": {
      "needs_background": "light"
     },
     "output_type": "display_data"
    }
   ],
   "source": [
    "import matplotlib.pyplot as plt \n",
    "plt.figure(figsize=(7,7))\n",
    "methods = [\"Lemmatization\",\"Stemming\"]\n",
    "nbr_tokens = [nbr_lemmatized_tokens, nbr_stemmed_tokens]\n",
    "plt.bar(methods, nbr_tokens, width=0.4, color=['m','b'], edgecolor='black')\n",
    "plt.hlines(nbr_tokens[1], -0.5, 1.5, colors='k', linestyles='dashed')\n",
    "plt.xlabel(\"Canonization Methods\")\n",
    "plt.ylabel(\"Number of Tokens\")\n",
    "plt.title(\"Number of Tokens per canonization method on a data set of {} tweets \\n\".format(df.shape[0]))\n",
    "plt.show()"
   ]
  },
  {
   "cell_type": "markdown",
   "metadata": {},
   "source": [
    "### Most frequent tokens after Lemmatization & Stemming (10'000 exp from data set)"
   ]
  },
  {
   "cell_type": "code",
   "execution_count": 5,
   "metadata": {},
   "outputs": [
    {
     "name": "stdout",
     "output_type": "stream",
     "text": [
      "CPU times: user 1min 34s, sys: 6.66 s, total: 1min 41s\n",
      "Wall time: 1min 41s\n"
     ]
    }
   ],
   "source": [
    "%%time\n",
    "from DPreprocessing import data_cleaning, canonization, stop_words, balanced_sample\n",
    "\n",
    "data = balanced_sample(df,10000)\n",
    "cleaned_data = data_cleaning(data)\n",
    "lemmatized_tokens = stop_words(canonization(cleaned_data['Tweets'],method=\"lemmatization\"))\n",
    "stemmed_tokens = stop_words(canonization(cleaned_data['Tweets'],method=\"stemming\"))"
   ]
  },
  {
   "cell_type": "code",
   "execution_count": 21,
   "metadata": {},
   "outputs": [
    {
     "data": {
      "image/png": "[encoded data removed]",
      "text/plain": [
       "<Figure size 1008x648 with 2 Axes>"
      ]
     },
     "metadata": {
      "needs_background": "light"
     },
     "output_type": "display_data"
    }
   ],
   "source": [
    "import matplotlib.pyplot as plt \n",
    "\n",
    "colors_list = list('rgbkymc')\n",
    "fig, ax = plt.subplots(2,1, figsize=(14,9))\n",
    "\n",
    "pd.DataFrame(lemmatized_tokens).value_counts()[:40].plot(kind='bar', color=colors_list, ax=ax[0])\n",
    "ax[0].hlines(300, -0.5, 40, colors='k', linestyles='dashed')\n",
    "\n",
    "pd.DataFrame(stemmed_tokens).value_counts()[:40].plot(kind='bar', color=colors_list, ax=ax[1])\n",
    "ax[1].hlines(300, -0.5, 40, colors='k', linestyles='dashed')\n",
    "\n",
    "plt.subplots_adjust(top = 0.99, bottom=0.01, hspace=0.5, wspace=0.4)\n",
    "plt.show()"
   ]
  },
  {
   "cell_type": "markdown",
   "metadata": {},
   "source": [
    "### Evaluation of Lemmatization & Stemming (10'000 exp from data set)"
   ]
  },
  {
   "cell_type": "code",
   "execution_count": 37,
   "metadata": {},
   "outputs": [
    {
     "name": "stdout",
     "output_type": "stream",
     "text": [
      ">>> Copy data set\n",
      ">>> Preprocessing start\n",
      ">>> Data cleaned \n",
      ">>> Canonization done\n",
      ">>> Vectorization done\n",
      ">>> Split Data done \n",
      ">>> End of Preprocessing\n",
      ">>> Copy data set\n",
      ">>> Preprocessing start\n",
      ">>> Data cleaned \n",
      ">>> Canonization done\n",
      ">>> Vectorization done\n",
      ">>> Split Data done \n",
      ">>> End of Preprocessing\n",
      "CPU times: user 1min 19s, sys: 538 ms, total: 1min 20s\n",
      "Wall time: 1min 20s\n"
     ]
    }
   ],
   "source": [
    "%%time\n",
    "from DPreprocessing import preprocessing \n",
    "from Models import support_vector_machine \n",
    "\n",
    "data = balanced_sample(df,10000)\n",
    "\n",
    "# Lemmatization \n",
    "X_train, X_test, y_train, y_test = preprocessing(data, nbr_tokens=100, vectorizer=\"bow\", canon=\"lemmatization\")\n",
    "f1_score_lemma = support_vector_machine(X_train, X_test, y_train, y_test, metric=\"f1score\")\n",
    "accuracy_lemma = support_vector_machine(X_train, X_test, y_train, y_test, metric=\"accuracy\")\n",
    "\n",
    "# Stemming \n",
    "X_train, X_test, y_train, y_test = preprocessing(data, nbr_tokens=100, vectorizer=\"tfidf\", canon=\"stemming\")\n",
    "f1_score_stem = support_vector_machine(X_train, X_test, y_train, y_test, metric=\"f1score\")\n",
    "accuracy_stem = support_vector_machine(X_train, X_test, y_train, y_test, metric=\"accuracy\")\n"
   ]
  },
  {
   "cell_type": "code",
   "execution_count": 38,
   "metadata": {},
   "outputs": [
    {
     "data": {
      "image/png": "[encoded data removed]",
      "text/plain": [
       "<Figure size 504x504 with 1 Axes>"
      ]
     },
     "metadata": {
      "needs_background": "light"
     },
     "output_type": "display_data"
    }
   ],
   "source": [
    "from Evaluations import metrics_graphic \n",
    "\n",
    "lemmatization_metrics = [accuracy_lemma,f1_score_lemma]\n",
    "stemming_metrics = [accuracy_stem,f1_score_stem]\n",
    "\n",
    "metrics_graphic(stemming_metrics, lemmatization_metrics)"
   ]
  },
  {
   "cell_type": "markdown",
   "metadata": {},
   "source": [
    "## Tweets length "
   ]
  },
  {
   "cell_type": "code",
   "execution_count": 66,
   "metadata": {},
   "outputs": [
    {
     "data": {
      "image/png": "[encoded data removed]",
      "text/plain": [
       "<Figure size 432x288 with 1 Axes>"
      ]
     },
     "metadata": {
      "needs_background": "light"
     },
     "output_type": "display_data"
    }
   ],
   "source": [
    "h = 'step'\n",
    "df['Tweets'][df['Label']==1].str.len().hist(histtype=h)\n",
    "df['Tweets'][df['Label']==0].str.len().hist(histtype=h)\n",
    "plt.xlabel('Tweets length')\n",
    "plt.ylabel('Number of Tweets')\n",
    "plt.show()"
   ]
  },
  {
   "cell_type": "code",
   "execution_count": 51,
   "metadata": {},
   "outputs": [],
   "source": [
    "# Build a function that returns the length of each tweet \n",
    "def len_tweets(tweets):\n",
    "    pass "
   ]
  },
  {
   "cell_type": "markdown",
   "metadata": {},
   "source": [
    "## Shallow parsing (Chunking)"
   ]
  },
  {
   "cell_type": "code",
   "execution_count": 67,
   "metadata": {},
   "outputs": [],
   "source": [
    "import spacy \n",
    "nlp = spacy.load('en_core_web_sm')"
   ]
  },
  {
   "cell_type": "markdown",
   "metadata": {},
   "source": [
    "**Noun phrase extraction**"
   ]
  },
  {
   "cell_type": "code",
   "execution_count": 221,
   "metadata": {},
   "outputs": [],
   "source": [
    "def tweet_noun_chunks(tweets):\n",
    "    '''\n",
    "        This function generates a list of noun chunks who's tokens are not in stopwords list \n",
    "    '''\n",
    "    from nltk.corpus import stopwords\n",
    "    \n",
    "    tweets_noun_chunks = []\n",
    "    for tweet in tweets:\n",
    "        doc = nlp(tweet)\n",
    "        for chunk in doc.noun_chunks: \n",
    "            if len(str(chunk).split())>1 and any(word in str(chunk).split() for word in stopwords.words('english'))==False:\n",
    "                #print(\">>>>> \", chunk) \n",
    "                tweets_noun_chunks.append(chunk.text.strip())\n",
    "    return tweets_noun_chunks    "
   ]
  },
  {
   "cell_type": "code",
   "execution_count": 222,
   "metadata": {},
   "outputs": [
    {
     "name": "stdout",
     "output_type": "stream",
     "text": [
      "CPU times: user 1min 9s, sys: 1.06 s, total: 1min 10s\n",
      "Wall time: 1min 10s\n"
     ]
    }
   ],
   "source": [
    "%%time\n",
    "# noun chunks + stop words \n",
    "from DPreprocessing import stop_words \n",
    "tweet_noun_chunks = tweet_noun_chunks(cleaned_data['Tweets'])"
   ]
  },
  {
   "cell_type": "code",
   "execution_count": 220,
   "metadata": {},
   "outputs": [
    {
     "data": {
      "text/plain": [
       "<AxesSubplot:xlabel='0'>"
      ]
     },
     "execution_count": 220,
     "metadata": {},
     "output_type": "execute_result"
    },
    {
     "data": {
      "image/png": "[encoded data removed]",
      "text/plain": [
       "<Figure size 720x504 with 1 Axes>"
      ]
     },
     "metadata": {
      "needs_background": "light"
     },
     "output_type": "display_data"
    }
   ],
   "source": [
    "plt.figure(figsize=(10,7))\n",
    "colors_list = list('rgbkymc')\n",
    "pd.DataFrame(tweet_noun_chunks).value_counts()[:20].plot(kind='bar', color=colors_list)"
   ]
  },
  {
   "cell_type": "markdown",
   "metadata": {},
   "source": [
    "**Verb phrases extraction**"
   ]
  },
  {
   "cell_type": "code",
   "execution_count": null,
   "metadata": {},
   "outputs": [],
   "source": []
  },
  {
   "cell_type": "code",
   "execution_count": null,
   "metadata": {},
   "outputs": [],
   "source": []
  },
  {
   "cell_type": "code",
   "execution_count": null,
   "metadata": {},
   "outputs": [],
   "source": []
  },
  {
   "cell_type": "markdown",
   "metadata": {},
   "source": [
    "## Named-Entity Recognition (NER)"
   ]
  },
  {
   "cell_type": "code",
   "execution_count": 229,
   "metadata": {},
   "outputs": [],
   "source": [
    "def named_entity_recognition(tweets):    \n",
    "    nlp = spacy.load('en_core_web_sm')\n",
    "    bloc = []\n",
    "    for tweet in tweets: \n",
    "        doc = nlp(tweet)\n",
    "        for ent in doc.ents:\n",
    "            bloc.append([ent.text, ent.label_])\n",
    "    return bloc"
   ]
  },
  {
   "cell_type": "code",
   "execution_count": 234,
   "metadata": {},
   "outputs": [
    {
     "name": "stdout",
     "output_type": "stream",
     "text": [
      "CPU times: user 1min 31s, sys: 558 ms, total: 1min 31s\n",
      "Wall time: 1min 32s\n"
     ]
    }
   ],
   "source": [
    "%%time\n",
    "ner = named_entity_recognition(cleaned_data['Tweets'])"
   ]
  },
  {
   "cell_type": "code",
   "execution_count": 252,
   "metadata": {},
   "outputs": [
    {
     "data": {
      "image/png": "[encoded data removed]",
      "text/plain": [
       "<Figure size 1152x648 with 4 Axes>"
      ]
     },
     "metadata": {
      "needs_background": "light"
     },
     "output_type": "display_data"
    }
   ],
   "source": [
    "import matplotlib.pyplot as plt \n",
    "\n",
    "colors_list = list('rgbkymc')\n",
    "NER = pd.DataFrame(ner,columns=['Text','Label'])\n",
    "\n",
    "fig, ax = plt.subplots(2,2, figsize=(16,9))\n",
    "\n",
    "# All labels \n",
    "NER['Label'].value_counts().plot(kind='bar', color=colors_list, ax=ax[0,0])\n",
    "\n",
    "# Person\n",
    "NER[NER['Label']==\"PERSON\"].value_counts()[:20].plot(kind='bar', color=colors_list, ax=ax[0,1])\n",
    "\n",
    "# Organizations\n",
    "NER[NER['Label']==\"ORG\"].value_counts()[:20].plot(kind='bar', color=colors_list, ax=ax[1,0])\n",
    "\n",
    "# Ordinal \n",
    "NER[NER['Label']==\"ORDINAL\"].value_counts()[:20].plot(kind='bar', color=colors_list, ax=ax[1,1])\n",
    "\n",
    "\n",
    "plt.subplots_adjust(top = 1.0, bottom=0.02, hspace=0.6, wspace=0.4)\n",
    "plt.show()"
   ]
  },
  {
   "cell_type": "markdown",
   "metadata": {},
   "source": [
    "## N-Gram Extraction "
   ]
  },
  {
   "cell_type": "code",
   "execution_count": 257,
   "metadata": {},
   "outputs": [],
   "source": [
    "def n_most_frequent_ngram(tweets, nbr_gram, nbr_mfg):\n",
    "    from sklearn.feature_extraction.text import CountVectorizer\n",
    "    vectorizer = CountVectorizer(max_features=1000, \n",
    "                                stop_words='english',\n",
    "                                ngram_range = (nbr_gram,nbr_gram)\n",
    "                                )\n",
    "    vectorizer.fit(tweets)\n",
    "    vocab = list(vectorizer.vocabulary_.keys())\n",
    "    vector = vectorizer.transform(tweets).toarray()\n",
    "\n",
    "    # Convert the matrix into a dataframe\n",
    "    matrix = pd.DataFrame(vector, columns=vocab)\n",
    "    \n",
    "    return matrix "
   ]
  },
  {
   "cell_type": "markdown",
   "metadata": {},
   "source": [
    "**1-Gram**"
   ]
  },
  {
   "cell_type": "code",
   "execution_count": 263,
   "metadata": {},
   "outputs": [
    {
     "data": {
      "text/html": [
       "<div>\n",
       "<style scoped>\n",
       "    .dataframe tbody tr th:only-of-type {\n",
       "        vertical-align: middle;\n",
       "    }\n",
       "\n",
       "    .dataframe tbody tr th {\n",
       "        vertical-align: top;\n",
       "    }\n",
       "\n",
       "    .dataframe thead th {\n",
       "        text-align: right;\n",
       "    }\n",
       "</style>\n",
       "<table border=\"1\" class=\"dataframe\">\n",
       "  <thead>\n",
       "    <tr style=\"text-align: right;\">\n",
       "      <th></th>\n",
       "      <th>ready</th>\n",
       "      <th>tell</th>\n",
       "      <th>bitch</th>\n",
       "      <th>shut</th>\n",
       "      <th>da</th>\n",
       "      <th>fuck</th>\n",
       "      <th>lol</th>\n",
       "      <th>stress</th>\n",
       "      <th>away</th>\n",
       "      <th>come</th>\n",
       "      <th>...</th>\n",
       "      <th>crazy</th>\n",
       "      <th>cool</th>\n",
       "      <th>fags</th>\n",
       "      <th>violation</th>\n",
       "      <th>demands</th>\n",
       "      <th>beheaded</th>\n",
       "      <th>burned</th>\n",
       "      <th>pretty</th>\n",
       "      <th>prettier</th>\n",
       "      <th>titties</th>\n",
       "    </tr>\n",
       "  </thead>\n",
       "  <tbody>\n",
       "    <tr>\n",
       "      <th>0</th>\n",
       "      <td>0</td>\n",
       "      <td>0</td>\n",
       "      <td>0</td>\n",
       "      <td>0</td>\n",
       "      <td>0</td>\n",
       "      <td>0</td>\n",
       "      <td>0</td>\n",
       "      <td>0</td>\n",
       "      <td>0</td>\n",
       "      <td>0</td>\n",
       "      <td>...</td>\n",
       "      <td>0</td>\n",
       "      <td>0</td>\n",
       "      <td>0</td>\n",
       "      <td>0</td>\n",
       "      <td>0</td>\n",
       "      <td>0</td>\n",
       "      <td>0</td>\n",
       "      <td>0</td>\n",
       "      <td>0</td>\n",
       "      <td>0</td>\n",
       "    </tr>\n",
       "    <tr>\n",
       "      <th>1</th>\n",
       "      <td>0</td>\n",
       "      <td>0</td>\n",
       "      <td>0</td>\n",
       "      <td>0</td>\n",
       "      <td>0</td>\n",
       "      <td>0</td>\n",
       "      <td>0</td>\n",
       "      <td>0</td>\n",
       "      <td>0</td>\n",
       "      <td>0</td>\n",
       "      <td>...</td>\n",
       "      <td>0</td>\n",
       "      <td>0</td>\n",
       "      <td>0</td>\n",
       "      <td>0</td>\n",
       "      <td>0</td>\n",
       "      <td>0</td>\n",
       "      <td>0</td>\n",
       "      <td>0</td>\n",
       "      <td>0</td>\n",
       "      <td>0</td>\n",
       "    </tr>\n",
       "    <tr>\n",
       "      <th>2</th>\n",
       "      <td>0</td>\n",
       "      <td>0</td>\n",
       "      <td>0</td>\n",
       "      <td>0</td>\n",
       "      <td>0</td>\n",
       "      <td>0</td>\n",
       "      <td>0</td>\n",
       "      <td>0</td>\n",
       "      <td>0</td>\n",
       "      <td>0</td>\n",
       "      <td>...</td>\n",
       "      <td>0</td>\n",
       "      <td>0</td>\n",
       "      <td>0</td>\n",
       "      <td>0</td>\n",
       "      <td>0</td>\n",
       "      <td>0</td>\n",
       "      <td>0</td>\n",
       "      <td>0</td>\n",
       "      <td>0</td>\n",
       "      <td>0</td>\n",
       "    </tr>\n",
       "    <tr>\n",
       "      <th>3</th>\n",
       "      <td>0</td>\n",
       "      <td>0</td>\n",
       "      <td>0</td>\n",
       "      <td>0</td>\n",
       "      <td>0</td>\n",
       "      <td>0</td>\n",
       "      <td>0</td>\n",
       "      <td>0</td>\n",
       "      <td>0</td>\n",
       "      <td>0</td>\n",
       "      <td>...</td>\n",
       "      <td>0</td>\n",
       "      <td>0</td>\n",
       "      <td>0</td>\n",
       "      <td>0</td>\n",
       "      <td>0</td>\n",
       "      <td>0</td>\n",
       "      <td>0</td>\n",
       "      <td>0</td>\n",
       "      <td>0</td>\n",
       "      <td>0</td>\n",
       "    </tr>\n",
       "    <tr>\n",
       "      <th>4</th>\n",
       "      <td>0</td>\n",
       "      <td>0</td>\n",
       "      <td>0</td>\n",
       "      <td>0</td>\n",
       "      <td>1</td>\n",
       "      <td>0</td>\n",
       "      <td>0</td>\n",
       "      <td>0</td>\n",
       "      <td>0</td>\n",
       "      <td>0</td>\n",
       "      <td>...</td>\n",
       "      <td>0</td>\n",
       "      <td>0</td>\n",
       "      <td>0</td>\n",
       "      <td>0</td>\n",
       "      <td>0</td>\n",
       "      <td>0</td>\n",
       "      <td>0</td>\n",
       "      <td>0</td>\n",
       "      <td>0</td>\n",
       "      <td>0</td>\n",
       "    </tr>\n",
       "    <tr>\n",
       "      <th>...</th>\n",
       "      <td>...</td>\n",
       "      <td>...</td>\n",
       "      <td>...</td>\n",
       "      <td>...</td>\n",
       "      <td>...</td>\n",
       "      <td>...</td>\n",
       "      <td>...</td>\n",
       "      <td>...</td>\n",
       "      <td>...</td>\n",
       "      <td>...</td>\n",
       "      <td>...</td>\n",
       "      <td>...</td>\n",
       "      <td>...</td>\n",
       "      <td>...</td>\n",
       "      <td>...</td>\n",
       "      <td>...</td>\n",
       "      <td>...</td>\n",
       "      <td>...</td>\n",
       "      <td>...</td>\n",
       "      <td>...</td>\n",
       "      <td>...</td>\n",
       "    </tr>\n",
       "    <tr>\n",
       "      <th>95</th>\n",
       "      <td>0</td>\n",
       "      <td>0</td>\n",
       "      <td>0</td>\n",
       "      <td>0</td>\n",
       "      <td>0</td>\n",
       "      <td>1</td>\n",
       "      <td>0</td>\n",
       "      <td>0</td>\n",
       "      <td>0</td>\n",
       "      <td>0</td>\n",
       "      <td>...</td>\n",
       "      <td>0</td>\n",
       "      <td>0</td>\n",
       "      <td>0</td>\n",
       "      <td>0</td>\n",
       "      <td>0</td>\n",
       "      <td>0</td>\n",
       "      <td>0</td>\n",
       "      <td>0</td>\n",
       "      <td>0</td>\n",
       "      <td>0</td>\n",
       "    </tr>\n",
       "    <tr>\n",
       "      <th>96</th>\n",
       "      <td>0</td>\n",
       "      <td>0</td>\n",
       "      <td>0</td>\n",
       "      <td>0</td>\n",
       "      <td>0</td>\n",
       "      <td>0</td>\n",
       "      <td>0</td>\n",
       "      <td>0</td>\n",
       "      <td>0</td>\n",
       "      <td>0</td>\n",
       "      <td>...</td>\n",
       "      <td>0</td>\n",
       "      <td>0</td>\n",
       "      <td>0</td>\n",
       "      <td>0</td>\n",
       "      <td>0</td>\n",
       "      <td>0</td>\n",
       "      <td>0</td>\n",
       "      <td>0</td>\n",
       "      <td>0</td>\n",
       "      <td>0</td>\n",
       "    </tr>\n",
       "    <tr>\n",
       "      <th>97</th>\n",
       "      <td>0</td>\n",
       "      <td>0</td>\n",
       "      <td>0</td>\n",
       "      <td>0</td>\n",
       "      <td>0</td>\n",
       "      <td>0</td>\n",
       "      <td>0</td>\n",
       "      <td>0</td>\n",
       "      <td>0</td>\n",
       "      <td>0</td>\n",
       "      <td>...</td>\n",
       "      <td>0</td>\n",
       "      <td>0</td>\n",
       "      <td>0</td>\n",
       "      <td>0</td>\n",
       "      <td>0</td>\n",
       "      <td>0</td>\n",
       "      <td>0</td>\n",
       "      <td>1</td>\n",
       "      <td>0</td>\n",
       "      <td>0</td>\n",
       "    </tr>\n",
       "    <tr>\n",
       "      <th>98</th>\n",
       "      <td>0</td>\n",
       "      <td>0</td>\n",
       "      <td>0</td>\n",
       "      <td>0</td>\n",
       "      <td>0</td>\n",
       "      <td>0</td>\n",
       "      <td>0</td>\n",
       "      <td>0</td>\n",
       "      <td>0</td>\n",
       "      <td>0</td>\n",
       "      <td>...</td>\n",
       "      <td>0</td>\n",
       "      <td>0</td>\n",
       "      <td>0</td>\n",
       "      <td>0</td>\n",
       "      <td>0</td>\n",
       "      <td>0</td>\n",
       "      <td>0</td>\n",
       "      <td>0</td>\n",
       "      <td>0</td>\n",
       "      <td>0</td>\n",
       "    </tr>\n",
       "    <tr>\n",
       "      <th>99</th>\n",
       "      <td>0</td>\n",
       "      <td>0</td>\n",
       "      <td>0</td>\n",
       "      <td>0</td>\n",
       "      <td>0</td>\n",
       "      <td>0</td>\n",
       "      <td>0</td>\n",
       "      <td>0</td>\n",
       "      <td>0</td>\n",
       "      <td>0</td>\n",
       "      <td>...</td>\n",
       "      <td>0</td>\n",
       "      <td>0</td>\n",
       "      <td>0</td>\n",
       "      <td>0</td>\n",
       "      <td>0</td>\n",
       "      <td>0</td>\n",
       "      <td>0</td>\n",
       "      <td>0</td>\n",
       "      <td>0</td>\n",
       "      <td>0</td>\n",
       "    </tr>\n",
       "  </tbody>\n",
       "</table>\n",
       "<p>100 rows × 452 columns</p>\n",
       "</div>"
      ],
      "text/plain": [
       "    ready  tell  bitch  shut  da  fuck  lol  stress  away  come  ...  crazy  \\\n",
       "0       0     0      0     0   0     0    0       0     0     0  ...      0   \n",
       "1       0     0      0     0   0     0    0       0     0     0  ...      0   \n",
       "2       0     0      0     0   0     0    0       0     0     0  ...      0   \n",
       "3       0     0      0     0   0     0    0       0     0     0  ...      0   \n",
       "4       0     0      0     0   1     0    0       0     0     0  ...      0   \n",
       "..    ...   ...    ...   ...  ..   ...  ...     ...   ...   ...  ...    ...   \n",
       "95      0     0      0     0   0     1    0       0     0     0  ...      0   \n",
       "96      0     0      0     0   0     0    0       0     0     0  ...      0   \n",
       "97      0     0      0     0   0     0    0       0     0     0  ...      0   \n",
       "98      0     0      0     0   0     0    0       0     0     0  ...      0   \n",
       "99      0     0      0     0   0     0    0       0     0     0  ...      0   \n",
       "\n",
       "    cool  fags  violation  demands  beheaded  burned  pretty  prettier  \\\n",
       "0      0     0          0        0         0       0       0         0   \n",
       "1      0     0          0        0         0       0       0         0   \n",
       "2      0     0          0        0         0       0       0         0   \n",
       "3      0     0          0        0         0       0       0         0   \n",
       "4      0     0          0        0         0       0       0         0   \n",
       "..   ...   ...        ...      ...       ...     ...     ...       ...   \n",
       "95     0     0          0        0         0       0       0         0   \n",
       "96     0     0          0        0         0       0       0         0   \n",
       "97     0     0          0        0         0       0       1         0   \n",
       "98     0     0          0        0         0       0       0         0   \n",
       "99     0     0          0        0         0       0       0         0   \n",
       "\n",
       "    titties  \n",
       "0         0  \n",
       "1         0  \n",
       "2         0  \n",
       "3         0  \n",
       "4         0  \n",
       "..      ...  \n",
       "95        0  \n",
       "96        0  \n",
       "97        0  \n",
       "98        0  \n",
       "99        0  \n",
       "\n",
       "[100 rows x 452 columns]"
      ]
     },
     "execution_count": 263,
     "metadata": {},
     "output_type": "execute_result"
    }
   ],
   "source": [
    "onegram = n_most_frequent_ngram(tweets=cleaned_data['Tweets'][:100], nbr_gram=1, nbr_mfg=20)\n",
    "#onegram.value_counts().plot(kind='bar')\n",
    "onegram"
   ]
  },
  {
   "cell_type": "markdown",
   "metadata": {},
   "source": [
    "**2-Gram**"
   ]
  },
  {
   "cell_type": "code",
   "execution_count": null,
   "metadata": {},
   "outputs": [],
   "source": [
    "onegram = n_most_frequent_ngram(tweets=cleaned_data['Tweets'][:100], nbr_gram=2, nbr_mfg=20)\n",
    "onegram.plot(kind='bar')"
   ]
  },
  {
   "cell_type": "markdown",
   "metadata": {},
   "source": [
    "**3-Gram**"
   ]
  },
  {
   "cell_type": "code",
   "execution_count": null,
   "metadata": {},
   "outputs": [],
   "source": [
    "onegram = n_most_frequent_ngram(tweets=cleaned_data['Tweets'][:100], nbr_gram=3, nbr_mfg=20)\n",
    "onegram.plot(kind='bar')"
   ]
  },
  {
   "cell_type": "markdown",
   "metadata": {},
   "source": [
    "## Polarity "
   ]
  },
  {
   "cell_type": "code",
   "execution_count": null,
   "metadata": {},
   "outputs": [],
   "source": []
  },
  {
   "cell_type": "code",
   "execution_count": null,
   "metadata": {},
   "outputs": [],
   "source": []
  },
  {
   "cell_type": "code",
   "execution_count": null,
   "metadata": {},
   "outputs": [],
   "source": []
  },
  {
   "cell_type": "code",
   "execution_count": null,
   "metadata": {},
   "outputs": [],
   "source": []
  }
 ],
 "metadata": {
  "kernelspec": {
   "display_name": "Python 3",
   "language": "python",
   "name": "python3"
  },
  "language_info": {
   "codemirror_mode": {
    "name": "ipython",
    "version": 3
   },
   "file_extension": ".py",
   "mimetype": "text/x-python",
   "name": "python",
   "nbconvert_exporter": "python",
   "pygments_lexer": "ipython3",
   "version": "3.7.4"
  }
 },
 "nbformat": 4,
 "nbformat_minor": 4
}
