{
 "cells": [
  {
   "cell_type": "markdown",
   "metadata": {},
   "source": [
    "# Analysis & Comparison "
   ]
  },
  {
   "cell_type": "markdown",
   "metadata": {},
   "source": [
    "## Libraries "
   ]
  },
  {
   "cell_type": "code",
   "execution_count": 1,
   "metadata": {},
   "outputs": [],
   "source": [
    "import numpy as np\n",
    "import pandas as pd\n",
    "import warnings\n",
    "warnings.filterwarnings(\"ignore\")"
   ]
  },
  {
   "cell_type": "markdown",
   "metadata": {},
   "source": [
    "## Data set "
   ]
  },
  {
   "cell_type": "code",
   "execution_count": 2,
   "metadata": {},
   "outputs": [
    {
     "output_type": "stream",
     "name": "stdout",
     "text": [
      "Data set's shape =  (43721, 2)\nThere is 0 missing values in the target\n"
     ]
    }
   ],
   "source": [
    "#file = 'Data/data.csv'\n",
    "file = 'Data/new_dataset_clean.csv'\n",
    "dataframe = pd.read_csv(file, error_bad_lines=False, sep=\";\")\n",
    "df = dataframe.copy()\n",
    "print(\"Data set's shape = \", df.shape) \n",
    "print(\"There is {} missing values in the target\".format(df['Label'].isnull().sum()))"
   ]
  },
  {
   "cell_type": "code",
   "execution_count": 35,
   "metadata": {},
   "outputs": [
    {
     "output_type": "execute_result",
     "data": {
      "text/plain": [
       "                                                  Tweets  Label\n",
       "43714                                 you're all niggers      1\n",
       "43715  you're such a retard i hope you get type 2 dia...      1\n",
       "43716  you's a muthaf***in lie     right his tl is tr...      1\n",
       "43717  you've gone and broke the wrong hea  baby and ...      0\n",
       "43718  young buck wanna eat dat nigguh like i aint fu...      1\n",
       "43719              youu got wild bitches tellin you lies      1\n",
       "43720  ruffled  ntac eileen dahlia  beautiful color c...      0"
      ],
      "text/html": "<div>\n<style scoped>\n    .dataframe tbody tr th:only-of-type {\n        vertical-align: middle;\n    }\n\n    .dataframe tbody tr th {\n        vertical-align: top;\n    }\n\n    .dataframe thead th {\n        text-align: right;\n    }\n</style>\n<table border=\"1\" class=\"dataframe\">\n  <thead>\n    <tr style=\"text-align: right;\">\n      <th></th>\n      <th>Tweets</th>\n      <th>Label</th>\n    </tr>\n  </thead>\n  <tbody>\n    <tr>\n      <th>43714</th>\n      <td>you're all niggers</td>\n      <td>1</td>\n    </tr>\n    <tr>\n      <th>43715</th>\n      <td>you're such a retard i hope you get type 2 dia...</td>\n      <td>1</td>\n    </tr>\n    <tr>\n      <th>43716</th>\n      <td>you's a muthaf***in lie     right his tl is tr...</td>\n      <td>1</td>\n    </tr>\n    <tr>\n      <th>43717</th>\n      <td>you've gone and broke the wrong hea  baby and ...</td>\n      <td>0</td>\n    </tr>\n    <tr>\n      <th>43718</th>\n      <td>young buck wanna eat dat nigguh like i aint fu...</td>\n      <td>1</td>\n    </tr>\n    <tr>\n      <th>43719</th>\n      <td>youu got wild bitches tellin you lies</td>\n      <td>1</td>\n    </tr>\n    <tr>\n      <th>43720</th>\n      <td>ruffled  ntac eileen dahlia  beautiful color c...</td>\n      <td>0</td>\n    </tr>\n  </tbody>\n</table>\n</div>"
     },
     "metadata": {},
     "execution_count": 35
    }
   ],
   "source": [
    "df.tail(7)"
   ]
  },
  {
   "source": [
    "**Number of Tokens per canonization method** "
   ],
   "cell_type": "markdown",
   "metadata": {}
  },
  {
   "cell_type": "code",
   "execution_count": 13,
   "metadata": {},
   "outputs": [],
   "source": [
    "from DPreprocessing import canonization\n",
    "nbr_lemmatized_tokens = len(canonization(df['Tweets'], method=\"lemmatization\"))\n",
    "nbr_stemmed_tokens = len(canonization(df['Tweets'], method=\"stemming\"))"
   ]
  },
  {
   "cell_type": "code",
   "execution_count": 34,
   "metadata": {},
   "outputs": [
    {
     "output_type": "display_data",
     "data": {
      "text/plain": "<Figure size 504x504 with 1 Axes>",
      "image/png": "[encoded data removed]"
     },
     "metadata": {
      "needs_background": "light"
     }
    }
   ],
   "source": [
    "import matplotlib.pyplot as plt \n",
    "plt.figure(figsize=(7,7))\n",
    "methods = [\"Lemmatization\",\"Stemming\"]\n",
    "nbr_tokens = [nbr_lemmatized_tokens, nbr_stemmed_tokens]\n",
    "plt.bar(methods, nbr_tokens, width=0.4, align='center', color=['m','b'])\n",
    "plt.hlines(nbr_tokens[1], -0.5, 1.5, colors='k', linestyles='dashed')\n",
    "plt.show()"
   ]
  },
  {
   "cell_type": "code",
   "execution_count": null,
   "metadata": {},
   "outputs": [],
   "source": []
  }
 ],
 "metadata": {
  "kernelspec": {
   "display_name": "Python 3",
   "language": "python",
   "name": "python3"
  },
  "language_info": {
   "codemirror_mode": {
    "name": "ipython",
    "version": 3
   },
   "file_extension": ".py",
   "mimetype": "text/x-python",
   "name": "python",
   "nbconvert_exporter": "python",
   "pygments_lexer": "ipython3",
   "version": "3.7.3-final"
  }
 },
 "nbformat": 4,
 "nbformat_minor": 4
}