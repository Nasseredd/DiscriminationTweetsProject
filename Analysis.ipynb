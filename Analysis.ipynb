{
 "cells": [
  {
   "cell_type": "markdown",
   "metadata": {},
   "source": [
    "# Analysis "
   ]
  },
  {
   "cell_type": "markdown",
   "metadata": {},
   "source": [
    "## Libraries "
   ]
  },
  {
   "cell_type": "code",
   "execution_count": 7,
   "metadata": {},
   "outputs": [],
   "source": [
    "import numpy as np\n",
    "import pandas as pd\n",
    "import warnings\n",
    "warnings.filterwarnings(\"ignore\")"
   ]
  },
  {
   "cell_type": "markdown",
   "metadata": {},
   "source": [
    "## Data set & Preprocessing"
   ]
  },
  {
   "cell_type": "markdown",
   "metadata": {},
   "source": [
    "**Import Data set**"
   ]
  },
  {
   "cell_type": "code",
   "execution_count": 11,
   "metadata": {},
   "outputs": [
    {
     "name": "stdout",
     "output_type": "stream",
     "text": [
      "Data set's shape =  (19340, 2)\n",
      "There is 0 missing values in the target\n"
     ]
    }
   ],
   "source": [
    "#file = 'Data/data.csv'\n",
    "file = 'Data/discrimant_tweet_47368_dataset.csv'\n",
    "dataframe = pd.read_csv(file, error_bad_lines=False, sep=\";\")\n",
    "dataframe = dataframe[['Tweets','Label']]\n",
    "\n",
    "# Data set for a supervised learning \n",
    "df = dataframe[dataframe['Label'].isnull()==False]\n",
    "\n",
    "print(\"Data set's shape = \", df.shape) \n",
    "print(\"There is {} missing values in the target\".format(df['Label'].isnull().sum()))"
   ]
  },
  {
   "cell_type": "markdown",
   "metadata": {},
   "source": [
    "**Data Cleaning**"
   ]
  },
  {
   "cell_type": "code",
   "execution_count": 15,
   "metadata": {},
   "outputs": [
    {
     "name": "stdout",
     "output_type": "stream",
     "text": [
      "          Tokens  Frequencies\n",
      "0          video            7\n",
      "1      peshmerga            6\n",
      "2     decimating            1\n",
      "3           isis           26\n",
      "4            far           10\n",
      "...          ...          ...\n",
      "3353      feicin            1\n",
      "3354  hillarious            1\n",
      "3355         leo            1\n",
      "3356        dies            1\n",
      "3357       grabs            1\n",
      "\n",
      "[3358 rows x 2 columns]\n",
      "0.0    679\n",
      "1.0    321\n",
      "Name: Label, dtype: int64\n"
     ]
    }
   ],
   "source": [
    "from Vectorizer import preprocessing \n",
    "#X_train, X_test, y_train, y_test = preprocessing(df[:1000], 20, \"bow\")"
   ]
  },
  {
   "cell_type": "code",
   "execution_count": 16,
   "metadata": {},
   "outputs": [
    {
     "data": {
      "text/plain": [
       "3"
      ]
     },
     "execution_count": 16,
     "metadata": {},
     "output_type": "execute_result"
    }
   ],
   "source": [
    "from packages.Models import test\n",
    "test(2)"
   ]
  }
 ],
 "metadata": {
  "kernelspec": {
   "display_name": "Python 3",
   "language": "python",
   "name": "python3"
  },
  "language_info": {
   "codemirror_mode": {
    "name": "ipython",
    "version": 3
   },
   "file_extension": ".py",
   "mimetype": "text/x-python",
   "name": "python",
   "nbconvert_exporter": "python",
   "pygments_lexer": "ipython3",
   "version": "3.7.4"
  }
 },
 "nbformat": 4,
 "nbformat_minor": 4
}
