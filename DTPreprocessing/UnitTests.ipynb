{
 "cells": [
  {
   "source": [
    "# Notes "
   ],
   "cell_type": "markdown",
   "metadata": {}
  },
  {
   "source": [
    "**Progressing**\n",
    "* Target Encoding \n",
    "\n",
    "**Further** \n",
    "* Debug convert emojis \n",
    "* Continue the unit testing "
   ],
   "cell_type": "markdown",
   "metadata": {}
  },
  {
   "source": [
    "# Libraries "
   ],
   "cell_type": "markdown",
   "metadata": {}
  },
  {
   "cell_type": "code",
   "execution_count": 22,
   "metadata": {},
   "outputs": [],
   "source": [
    "import DTPreprocessing as dtp\n",
    "import pandas as pd "
   ]
  },
  {
   "source": [
    "### Target Encoding "
   ],
   "cell_type": "markdown",
   "metadata": {}
  },
  {
   "cell_type": "code",
   "execution_count": 23,
   "metadata": {},
   "outputs": [
    {
     "output_type": "execute_result",
     "data": {
      "text/plain": [
       "0    0\n",
       "1    1\n",
       "2    0\n",
       "3    0\n",
       "4    1\n",
       "5    1\n",
       "dtype: int64"
      ]
     },
     "metadata": {},
     "execution_count": 23
    }
   ],
   "source": [
    "y = pd.Series(['none','sexism','none','none','racist','sexism'])\n",
    "dtp.encoding_target(y)"
   ]
  },
  {
   "source": [
    "### Convert Emoji "
   ],
   "cell_type": "markdown",
   "metadata": {}
  },
  {
   "cell_type": "code",
   "execution_count": 30,
   "metadata": {},
   "outputs": [
    {
     "output_type": "error",
     "ename": "AttributeError",
     "evalue": "module 'DTPreprocessing' has no attribute 'convert_emojis'",
     "traceback": [
      "\u001b[0;31m---------------------------------------------------------------------------\u001b[0m",
      "\u001b[0;31mAttributeError\u001b[0m                            Traceback (most recent call last)",
      "\u001b[0;32m<ipython-input-30-0e68aa329c38>\u001b[0m in \u001b[0;36m<module>\u001b[0;34m\u001b[0m\n\u001b[0;32m----> 1\u001b[0;31m \u001b[0mdtp\u001b[0m\u001b[0;34m.\u001b[0m\u001b[0mconvert_emojis\u001b[0m\u001b[0;34m(\u001b[0m\u001b[0;34m\"😉 😉 😅 😅\"\u001b[0m\u001b[0;34m)\u001b[0m\u001b[0;34m\u001b[0m\u001b[0;34m\u001b[0m\u001b[0m\n\u001b[0m",
      "\u001b[0;31mAttributeError\u001b[0m: module 'DTPreprocessing' has no attribute 'convert_emojis'"
     ]
    }
   ],
   "source": [
    "dtp.convert_emojis(\"😉 😉 😅 😅\")"
   ]
  }
 ],
 "metadata": {
  "kernelspec": {
   "display_name": "Python 3",
   "language": "python",
   "name": "python3"
  },
  "language_info": {
   "codemirror_mode": {
    "name": "ipython",
    "version": 3
   },
   "file_extension": ".py",
   "mimetype": "text/x-python",
   "name": "python",
   "nbconvert_exporter": "python",
   "pygments_lexer": "ipython3",
   "version": "3.7.4-final"
  }
 },
 "nbformat": 4,
 "nbformat_minor": 4
}