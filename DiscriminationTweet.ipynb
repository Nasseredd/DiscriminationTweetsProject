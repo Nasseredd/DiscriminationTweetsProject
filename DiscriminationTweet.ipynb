{
 "cells": [
  {
   "cell_type": "markdown",
   "metadata": {},
   "source": [
    "## Import des librairies "
   ]
  },
  {
   "cell_type": "code",
   "execution_count": 559,
   "metadata": {},
   "outputs": [],
   "source": [
    "import pandas as pd"
   ]
  },
  {
   "cell_type": "markdown",
   "metadata": {},
   "source": [
    "## Importations des dataset preparation pour fusion"
   ]
  },
  {
   "cell_type": "code",
   "execution_count": 599,
   "metadata": {},
   "outputs": [],
   "source": [
    "wassem_css = pd.read_csv('wassem_css.csv', sep='\\t')\n",
    "wassem_hovy_naacl = pd.read_csv('wassem_hovy_naacl.csv', sep='\\t')\n",
    "davidson = pd.read_csv('davison.csv', sep=',')\n",
    "#df_train = pd.read_csv('data.csv', sep=';', header = None, names=['id','tweets','label')\n",
    "df_train = pd.read_csv('data.csv', sep=';')"
   ]
  },
  {
   "cell_type": "code",
   "execution_count": 600,
   "metadata": {},
   "outputs": [
    {
     "data": {
      "text/html": [
       "<div>\n",
       "<style scoped>\n",
       "    .dataframe tbody tr th:only-of-type {\n",
       "        vertical-align: middle;\n",
       "    }\n",
       "\n",
       "    .dataframe tbody tr th {\n",
       "        vertical-align: top;\n",
       "    }\n",
       "\n",
       "    .dataframe thead th {\n",
       "        text-align: right;\n",
       "    }\n",
       "</style>\n",
       "<table border=\"1\" class=\"dataframe\">\n",
       "  <thead>\n",
       "    <tr style=\"text-align: right;\">\n",
       "      <th></th>\n",
       "      <th>Tweet_ID</th>\n",
       "      <th>Previous</th>\n",
       "      <th>User_ID</th>\n",
       "      <th>Text</th>\n",
       "      <th>Label</th>\n",
       "    </tr>\n",
       "  </thead>\n",
       "  <tbody>\n",
       "    <tr>\n",
       "      <th>0</th>\n",
       "      <td>567080871472017408</td>\n",
       "      <td>5.670786e+17</td>\n",
       "      <td>2941145694</td>\n",
       "      <td>@truaemusic The followers of the religion give...</td>\n",
       "      <td>racism</td>\n",
       "    </tr>\n",
       "  </tbody>\n",
       "</table>\n",
       "</div>"
      ],
      "text/plain": [
       "             Tweet_ID      Previous     User_ID  \\\n",
       "0  567080871472017408  5.670786e+17  2941145694   \n",
       "\n",
       "                                                Text   Label  \n",
       "0  @truaemusic The followers of the religion give...  racism  "
      ]
     },
     "execution_count": 600,
     "metadata": {},
     "output_type": "execute_result"
    }
   ],
   "source": [
    "wassem_hovy_naacl.head(1)"
   ]
  },
  {
   "cell_type": "code",
   "execution_count": 601,
   "metadata": {},
   "outputs": [
    {
     "data": {
      "text/plain": [
       "(16202, 5)"
      ]
     },
     "execution_count": 601,
     "metadata": {},
     "output_type": "execute_result"
    }
   ],
   "source": [
    "wassem_hovy_naacl.shape"
   ]
  },
  {
   "cell_type": "code",
   "execution_count": 602,
   "metadata": {},
   "outputs": [],
   "source": [
    "#recherche et supprission des doublons\n",
    "#dataTestDoublon = wassem_hovy_naacl\n",
    "#for i in range(0,len(dataTestDoublon)):\n",
    " #   for j in range(i+1,len(dataTestDoublon)):\n",
    "  #      if(dataTestDoublon.Text[i]==dataTestDoublon.Text[j]):"
   ]
  },
  {
   "cell_type": "code",
   "execution_count": 603,
   "metadata": {},
   "outputs": [
    {
     "name": "stdout",
     "output_type": "stream",
     "text": [
      "racism\n",
      "@truaemusic The followers of the religion give a shit about the prophet of the religion. He is their example and always will be.\n",
      "racism\n",
      "@Love___Egypt @washingtonpost All the land that Islam holds came from war and murder. The US does not occupy a single country anywhere.\n",
      "racism\n",
      "@CamilleHughes16 @edbarber101658 @_Watch_Observe_ A piece at a time. Start by outlawing new Mosques and stoping Muslim immigration.\n",
      "racism\n",
      "@KellyTurner99 @brushyblues @buellerishere The rapist represent Islam because it's approved in the Quran and Hadiths, microbrain.\n",
      "racism\n",
      "@buellerishere Who cares. ISIS does what Mohammed did. Tens of thousands also do and have joined him. Muslims crazy. http://t.co/JXkY2pdJ93\n",
      "racism\n",
      "@MaDaSaHaTtEr_17 @buttercupashby There is no love and respect in the Quran. It is full of hatred, bigotry, sexism and incitement to murder.\n",
      "racism\n",
      "@discerningmumin But your whole conversation about slavery is phony bull shit propaganda since you follow a slave owner prophet.\n",
      "racism\n",
      "@ExposeFalsehood @arabthomness Mohammed was illiterate and superstitious and Islam's backwardness is catching up to it's Jihadis.\n",
      "racism\n",
      "@golddinar1 @uygaraktas @Islam4EA When you wake up tomorrow you will find that Daesh reports were as real as your 72 virgin pigs.\n",
      "racism\n",
      "@buellerishere @KellyTurner99 And the Hadiths are even more specific about approving sexual slavery.\n"
     ]
    }
   ],
   "source": [
    "# Dans le jeux de donnée wassem_hovy_naacl, 'none' == 'none' 'racism' == racism 'sexism' == sexism\n",
    "#afficher la fonction si dessous pour le comprendre en analysant quelque tweets\n",
    "for i in range(0, 10):\n",
    "    print(wassem_hovy_naacl.Label[i])\n",
    "    print(wassem_hovy_naacl.Text[i])"
   ]
  },
  {
   "cell_type": "code",
   "execution_count": null,
   "metadata": {},
   "outputs": [],
   "source": []
  },
  {
   "cell_type": "code",
   "execution_count": 604,
   "metadata": {},
   "outputs": [
    {
     "data": {
      "text/html": [
       "<div>\n",
       "<style scoped>\n",
       "    .dataframe tbody tr th:only-of-type {\n",
       "        vertical-align: middle;\n",
       "    }\n",
       "\n",
       "    .dataframe tbody tr th {\n",
       "        vertical-align: top;\n",
       "    }\n",
       "\n",
       "    .dataframe thead th {\n",
       "        text-align: right;\n",
       "    }\n",
       "</style>\n",
       "<table border=\"1\" class=\"dataframe\">\n",
       "  <thead>\n",
       "    <tr style=\"text-align: right;\">\n",
       "      <th></th>\n",
       "      <th>Tweet_ID</th>\n",
       "      <th>Previous</th>\n",
       "      <th>User_ID</th>\n",
       "      <th>Text</th>\n",
       "      <th>Expert_Annotation</th>\n",
       "      <th>Amateur_Annotations</th>\n",
       "    </tr>\n",
       "  </thead>\n",
       "  <tbody>\n",
       "    <tr>\n",
       "      <th>0</th>\n",
       "      <td>570775709343461377</td>\n",
       "      <td>5.707751e+17</td>\n",
       "      <td>24414732</td>\n",
       "      <td>@TVBachelor @NewJerzeyBoy what about the femin...</td>\n",
       "      <td>both</td>\n",
       "      <td>[neither,sexism,sexism]</td>\n",
       "    </tr>\n",
       "  </tbody>\n",
       "</table>\n",
       "</div>"
      ],
      "text/plain": [
       "             Tweet_ID      Previous   User_ID  \\\n",
       "0  570775709343461377  5.707751e+17  24414732   \n",
       "\n",
       "                                                Text Expert_Annotation  \\\n",
       "0  @TVBachelor @NewJerzeyBoy what about the femin...              both   \n",
       "\n",
       "       Amateur_Annotations  \n",
       "0  [neither,sexism,sexism]  "
      ]
     },
     "execution_count": 604,
     "metadata": {},
     "output_type": "execute_result"
    }
   ],
   "source": [
    "wassem_css.head(1)"
   ]
  },
  {
   "cell_type": "code",
   "execution_count": 605,
   "metadata": {},
   "outputs": [
    {
     "data": {
      "text/plain": [
       "(6667, 6)"
      ]
     },
     "execution_count": 605,
     "metadata": {},
     "output_type": "execute_result"
    }
   ],
   "source": [
    "wassem_css.shape"
   ]
  },
  {
   "cell_type": "code",
   "execution_count": 606,
   "metadata": {},
   "outputs": [],
   "source": [
    "# renomens les colonne car class est un mot clé du langage et ne peut etre indexé je le modifie en class = classification\n",
    "davidson.rename(columns={'Unnamed: 0': 'Unnamed: 0', 'count': 'count', 'hate_speech': 'hate_speech', 'offensive_language': 'offensive_language','neither': 'neither','class': 'Label', 'tweet':'Tweet'}, inplace=True)"
   ]
  },
  {
   "cell_type": "code",
   "execution_count": 607,
   "metadata": {},
   "outputs": [
    {
     "data": {
      "text/html": [
       "<div>\n",
       "<style scoped>\n",
       "    .dataframe tbody tr th:only-of-type {\n",
       "        vertical-align: middle;\n",
       "    }\n",
       "\n",
       "    .dataframe tbody tr th {\n",
       "        vertical-align: top;\n",
       "    }\n",
       "\n",
       "    .dataframe thead th {\n",
       "        text-align: right;\n",
       "    }\n",
       "</style>\n",
       "<table border=\"1\" class=\"dataframe\">\n",
       "  <thead>\n",
       "    <tr style=\"text-align: right;\">\n",
       "      <th></th>\n",
       "      <th>Unnamed: 0</th>\n",
       "      <th>count</th>\n",
       "      <th>hate_speech</th>\n",
       "      <th>offensive_language</th>\n",
       "      <th>neither</th>\n",
       "      <th>Label</th>\n",
       "      <th>Tweet</th>\n",
       "    </tr>\n",
       "  </thead>\n",
       "  <tbody>\n",
       "    <tr>\n",
       "      <th>0</th>\n",
       "      <td>0</td>\n",
       "      <td>3</td>\n",
       "      <td>0</td>\n",
       "      <td>0</td>\n",
       "      <td>3</td>\n",
       "      <td>2</td>\n",
       "      <td>!!! RT @mayasolovely: As a woman you shouldn't...</td>\n",
       "    </tr>\n",
       "  </tbody>\n",
       "</table>\n",
       "</div>"
      ],
      "text/plain": [
       "   Unnamed: 0  count  hate_speech  offensive_language  neither  Label  \\\n",
       "0           0      3            0                   0        3      2   \n",
       "\n",
       "                                               Tweet  \n",
       "0  !!! RT @mayasolovely: As a woman you shouldn't...  "
      ]
     },
     "execution_count": 607,
     "metadata": {},
     "output_type": "execute_result"
    }
   ],
   "source": [
    "# nouvelle affichage de davidson\n",
    "davidson.head(1)"
   ]
  },
  {
   "cell_type": "code",
   "execution_count": 608,
   "metadata": {},
   "outputs": [
    {
     "name": "stdout",
     "output_type": "stream",
     "text": [
      "2\n",
      "!!! RT @mayasolovely: As a woman you shouldn't complain about cleaning up your house. &amp; as a man you should always take the trash out...\n",
      "1\n",
      "!!!!! RT @mleew17: boy dats cold...tyga dwn bad for cuffin dat hoe in the 1st place!!\n",
      "1\n",
      "!!!!!!! RT @UrKindOfBrand Dawg!!!! RT @80sbaby4life: You ever fuck a bitch and she start to cry? You be confused as shit\n",
      "1\n",
      "!!!!!!!!! RT @C_G_Anderson: @viva_based she look like a tranny\n",
      "1\n",
      "!!!!!!!!!!!!! RT @ShenikaRoberts: The shit you hear about me might be true or it might be faker than the bitch who told it to ya &#57361;\n",
      "1\n",
      "!!!!!!!!!!!!!!!!!!\"@T_Madison_x: The shit just blows me..claim you so faithful and down for somebody but still fucking with hoes! &#128514;&#128514;&#128514;\"\n",
      "1\n",
      "!!!!!!\"@__BrighterDays: I can not just sit up and HATE on another bitch .. I got too much shit going on!\"\n",
      "1\n",
      "!!!!&#8220;@selfiequeenbri: cause I'm tired of you big bitches coming for us skinny girls!!&#8221;\n",
      "1\n",
      "\" &amp; you might not get ya bitch back &amp; thats that \"\n",
      "1\n",
      "\" @rhythmixx_ :hobbies include: fighting Mariam\"\n",
      "\n",
      "bitch\n"
     ]
    }
   ],
   "source": [
    "# Dans le jeux de donnée Davidson, '2' == 'none' '0' == racism '1' == sexism\n",
    "#afficher la fonction si dessous pour le comprendre en analysant quelque tweets\n",
    "\n",
    "for i in range(0, 10):\n",
    "    print(davidson.Label[i])\n",
    "    print(davidson.Tweet[i])"
   ]
  },
  {
   "cell_type": "code",
   "execution_count": 609,
   "metadata": {},
   "outputs": [],
   "source": [
    "# suppression des @anotation de nom dans davidson.csv\n",
    "import re"
   ]
  },
  {
   "cell_type": "code",
   "execution_count": 610,
   "metadata": {},
   "outputs": [
    {
     "name": "stdout",
     "output_type": "stream",
     "text": [
      "!!! RT  As a woman you shouldn't complain about cleaning up your house. &amp; as a man you should always take the trash out...\n",
      "!!!!! RT  boy dats cold...tyga dwn bad for cuffin dat hoe in the 1st place!!\n",
      "!!!!!!! RT  Dawg!!!! RT  You ever fuck a bitch and she start to cry? You be confused as shit\n",
      "!!!!!!!!! RT   she look like a tranny\n",
      "!!!!!!!!!!!!! RT  The shit you hear about me might be true or it might be faker than the bitch who told it to ya &#57361;\n",
      "!!!!!!!!!!!!!!!!!!\" The shit just blows me..claim you so faithful and down for somebody but still fucking with hoes! &#128514;&#128514;&#128514;\"\n",
      "!!!!!!\" I can not just sit up and HATE on another bitch .. I got too much shit going on!\"\n",
      "!!!!&#8220; cause I'm tired of you big bitches coming for us skinny girls!!&#8221;\n",
      "\" &amp; you might not get ya bitch back &amp; thats that \"\n",
      "\"  :hobbies include: fighting Mariam\"\n",
      "\n",
      "bitch\n"
     ]
    },
    {
     "name": "stderr",
     "output_type": "stream",
     "text": [
      "/home/eric/anaconda3/envs/NLPMachineLearning/lib/python3.7/site-packages/ipykernel_launcher.py:4: SettingWithCopyWarning: \n",
      "A value is trying to be set on a copy of a slice from a DataFrame\n",
      "\n",
      "See the caveats in the documentation: https://pandas.pydata.org/pandas-docs/stable/user_guide/indexing.html#returning-a-view-versus-a-copy\n",
      "  after removing the cwd from sys.path.\n"
     ]
    }
   ],
   "source": [
    "# suppression des @anotation de nom dans davidson.csv\n",
    "import re\n",
    "for i in range(0,10):\n",
    "    davidson['Tweet'][i]=re.sub(r'(@.*?)[\\s]', ' ', davidson['Tweet'][i])\n",
    "    print(davidson['Tweet'][i])\n",
    "\n",
    "\n",
    "#tweet = re.sub(r'(@.*?)[\\s]', ' ', tweet)"
   ]
  },
  {
   "cell_type": "code",
   "execution_count": null,
   "metadata": {},
   "outputs": [],
   "source": []
  },
  {
   "cell_type": "code",
   "execution_count": null,
   "metadata": {},
   "outputs": [],
   "source": []
  },
  {
   "cell_type": "code",
   "execution_count": 611,
   "metadata": {},
   "outputs": [
    {
     "data": {
      "text/plain": [
       "(24783, 7)"
      ]
     },
     "execution_count": 611,
     "metadata": {},
     "output_type": "execute_result"
    }
   ],
   "source": [
    "davidson.shape"
   ]
  },
  {
   "cell_type": "code",
   "execution_count": 612,
   "metadata": {},
   "outputs": [
    {
     "name": "stdout",
     "output_type": "stream",
     "text": [
      "none\n",
      "@azzamalirhabi @JihadiA8 This video of the Peshmerga decimating ISIS is far more interesting. https://t.co/d36g1z12NP\n",
      "none\n",
      "Oh really? No more instant restaurants? THAT'S SHOCKING. #MKR #MKR2015\n",
      "none\n",
      "RT @Benfrancisallen: It hasn't been a good few weeks for #ISIS. A new front has opened up in #Sinjar and they're about to lose the battle fâ€¦\n",
      "none\n",
      "RT @NoToFeminism: I donâ€™t need femisnsn because men carry heavy things that i cannot!!! like shopping, boxes, and a huge sense of superioriâ€¦\n",
      "none\n",
      "@MariachiMacabre 19% is not the vast majority\n",
      "racism\n",
      "@DianH4 @ExposeFalsehood And it is Muslims who were the first crusaders, attacking the Christian world for centuries before it attacked back\n",
      "racism\n",
      "@truaemusic @mattybboi83 @Number10gov Capital Hill is a great example of how seldom the world attacks Islam given the daily provocations.\n",
      "sexism\n",
      "RT @fruitondabottom: #FeminismisEQUALITYwhen Men are actually listened to and part of the dialog. #HeForShe #WomenAgainstFeminism http://t.â€¦\n",
      "none\n",
      "Gather round, kids. It's story time, brought to you by my good friend @jcmanous.\n",
      "none\n",
      "Did you hear that? That's the sound of a bunch of women in tech setting up filters to fwd emails from @ninaburleigh to /dev/null. Good job.\n"
     ]
    }
   ],
   "source": [
    "# Dans le jeux de donnée data qui est le notre, 'none' == 'none' 'racism' == racism 'sexism' == sexism\n",
    "#afficher la fonction si dessous pour le comprendre en analysant quelque tweets\n",
    "\n",
    "for i in range(0, 10):\n",
    "    print(df_train.Label[i])\n",
    "    print(df_train.Tweets[i])"
   ]
  },
  {
   "cell_type": "markdown",
   "metadata": {},
   "source": [
    "# COMPARAISON DES DATASETS AFIN DE LES FUSIONNER"
   ]
  },
  {
   "cell_type": "markdown",
   "metadata": {},
   "source": [
    "##### Pour chaque dataset on aura :\n",
    "- Pour les non discriminatif\n",
    "    * none + neither + 2\n",
    "- Pour les tweets discriminatif\n",
    "    * both + racism + sexism + 1 + 0"
   ]
  },
  {
   "cell_type": "markdown",
   "metadata": {},
   "source": [
    "### Transformation des labels des dataset afin de les fusionner au notre"
   ]
  },
  {
   "cell_type": "code",
   "execution_count": 613,
   "metadata": {},
   "outputs": [
    {
     "data": {
      "text/html": [
       "<div>\n",
       "<style scoped>\n",
       "    .dataframe tbody tr th:only-of-type {\n",
       "        vertical-align: middle;\n",
       "    }\n",
       "\n",
       "    .dataframe tbody tr th {\n",
       "        vertical-align: top;\n",
       "    }\n",
       "\n",
       "    .dataframe thead th {\n",
       "        text-align: right;\n",
       "    }\n",
       "</style>\n",
       "<table border=\"1\" class=\"dataframe\">\n",
       "  <thead>\n",
       "    <tr style=\"text-align: right;\">\n",
       "      <th></th>\n",
       "      <th>Unnamed: 0</th>\n",
       "      <th>count</th>\n",
       "      <th>hate_speech</th>\n",
       "      <th>offensive_language</th>\n",
       "      <th>neither</th>\n",
       "      <th>Label</th>\n",
       "      <th>Tweet</th>\n",
       "    </tr>\n",
       "  </thead>\n",
       "  <tbody>\n",
       "    <tr>\n",
       "      <th>0</th>\n",
       "      <td>0</td>\n",
       "      <td>3</td>\n",
       "      <td>0</td>\n",
       "      <td>0</td>\n",
       "      <td>3</td>\n",
       "      <td>2</td>\n",
       "      <td>!!! RT  As a woman you shouldn't complain abou...</td>\n",
       "    </tr>\n",
       "  </tbody>\n",
       "</table>\n",
       "</div>"
      ],
      "text/plain": [
       "   Unnamed: 0  count  hate_speech  offensive_language  neither  Label  \\\n",
       "0           0      3            0                   0        3      2   \n",
       "\n",
       "                                               Tweet  \n",
       "0  !!! RT  As a woman you shouldn't complain abou...  "
      ]
     },
     "execution_count": 613,
     "metadata": {},
     "output_type": "execute_result"
    }
   ],
   "source": [
    "davidson.head(1)"
   ]
  },
  {
   "cell_type": "code",
   "execution_count": 614,
   "metadata": {},
   "outputs": [],
   "source": [
    "# renomens les colonne car class est un mot clé du langage et ne peut etre indexé je le modifie en class = classification\n",
    "davidson.rename(columns={'Unnamed: 0': 'del', 'count': 'del', 'hate_speech': 'del', 'offensive_language': 'del','neither': 'del','classification': 'Label', 'tweet':'Tweet'}, inplace=True)"
   ]
  },
  {
   "cell_type": "code",
   "execution_count": 615,
   "metadata": {},
   "outputs": [
    {
     "data": {
      "text/html": [
       "<div>\n",
       "<style scoped>\n",
       "    .dataframe tbody tr th:only-of-type {\n",
       "        vertical-align: middle;\n",
       "    }\n",
       "\n",
       "    .dataframe tbody tr th {\n",
       "        vertical-align: top;\n",
       "    }\n",
       "\n",
       "    .dataframe thead th {\n",
       "        text-align: right;\n",
       "    }\n",
       "</style>\n",
       "<table border=\"1\" class=\"dataframe\">\n",
       "  <thead>\n",
       "    <tr style=\"text-align: right;\">\n",
       "      <th></th>\n",
       "      <th>del</th>\n",
       "      <th>del</th>\n",
       "      <th>del</th>\n",
       "      <th>del</th>\n",
       "      <th>del</th>\n",
       "      <th>Label</th>\n",
       "      <th>Tweet</th>\n",
       "    </tr>\n",
       "  </thead>\n",
       "  <tbody>\n",
       "    <tr>\n",
       "      <th>0</th>\n",
       "      <td>0</td>\n",
       "      <td>3</td>\n",
       "      <td>0</td>\n",
       "      <td>0</td>\n",
       "      <td>3</td>\n",
       "      <td>2</td>\n",
       "      <td>!!! RT  As a woman you shouldn't complain abou...</td>\n",
       "    </tr>\n",
       "  </tbody>\n",
       "</table>\n",
       "</div>"
      ],
      "text/plain": [
       "   del  del  del  del  del  Label  \\\n",
       "0    0    3    0    0    3      2   \n",
       "\n",
       "                                               Tweet  \n",
       "0  !!! RT  As a woman you shouldn't complain abou...  "
      ]
     },
     "execution_count": 615,
     "metadata": {},
     "output_type": "execute_result"
    }
   ],
   "source": [
    "davidson.head(1)"
   ]
  },
  {
   "cell_type": "code",
   "execution_count": 616,
   "metadata": {},
   "outputs": [],
   "source": [
    "#on renomme les colones a supprimer\n",
    "wassem_css.rename(columns={'Tweet_ID': 'del', 'Previous': 'del', 'User_ID': 'del', 'Text': 'Tweet','Expert_Annotation': 'Label','Amateur_Annotations': 'del'}, inplace=True)"
   ]
  },
  {
   "cell_type": "code",
   "execution_count": 617,
   "metadata": {},
   "outputs": [
    {
     "data": {
      "text/html": [
       "<div>\n",
       "<style scoped>\n",
       "    .dataframe tbody tr th:only-of-type {\n",
       "        vertical-align: middle;\n",
       "    }\n",
       "\n",
       "    .dataframe tbody tr th {\n",
       "        vertical-align: top;\n",
       "    }\n",
       "\n",
       "    .dataframe thead th {\n",
       "        text-align: right;\n",
       "    }\n",
       "</style>\n",
       "<table border=\"1\" class=\"dataframe\">\n",
       "  <thead>\n",
       "    <tr style=\"text-align: right;\">\n",
       "      <th></th>\n",
       "      <th>del</th>\n",
       "      <th>del</th>\n",
       "      <th>del</th>\n",
       "      <th>Tweet</th>\n",
       "      <th>Label</th>\n",
       "      <th>del</th>\n",
       "    </tr>\n",
       "  </thead>\n",
       "  <tbody>\n",
       "    <tr>\n",
       "      <th>0</th>\n",
       "      <td>570775709343461377</td>\n",
       "      <td>5.707751e+17</td>\n",
       "      <td>24414732</td>\n",
       "      <td>@TVBachelor @NewJerzeyBoy what about the femin...</td>\n",
       "      <td>both</td>\n",
       "      <td>[neither,sexism,sexism]</td>\n",
       "    </tr>\n",
       "  </tbody>\n",
       "</table>\n",
       "</div>"
      ],
      "text/plain": [
       "                  del           del       del  \\\n",
       "0  570775709343461377  5.707751e+17  24414732   \n",
       "\n",
       "                                               Tweet Label  \\\n",
       "0  @TVBachelor @NewJerzeyBoy what about the femin...  both   \n",
       "\n",
       "                       del  \n",
       "0  [neither,sexism,sexism]  "
      ]
     },
     "execution_count": 617,
     "metadata": {},
     "output_type": "execute_result"
    }
   ],
   "source": [
    "wassem_css.head(1)"
   ]
  },
  {
   "cell_type": "code",
   "execution_count": 618,
   "metadata": {},
   "outputs": [],
   "source": [
    "#on renomme les colones a supprimer\n",
    "wassem_hovy_naacl.rename(columns={'Tweet_ID': 'del', 'Previous': 'del', 'User_ID': 'del', 'Text': 'Tweet','label': 'Label','Amateur_Annotations': 'del'}, inplace=True)"
   ]
  },
  {
   "cell_type": "code",
   "execution_count": 619,
   "metadata": {},
   "outputs": [
    {
     "data": {
      "text/html": [
       "<div>\n",
       "<style scoped>\n",
       "    .dataframe tbody tr th:only-of-type {\n",
       "        vertical-align: middle;\n",
       "    }\n",
       "\n",
       "    .dataframe tbody tr th {\n",
       "        vertical-align: top;\n",
       "    }\n",
       "\n",
       "    .dataframe thead th {\n",
       "        text-align: right;\n",
       "    }\n",
       "</style>\n",
       "<table border=\"1\" class=\"dataframe\">\n",
       "  <thead>\n",
       "    <tr style=\"text-align: right;\">\n",
       "      <th></th>\n",
       "      <th>del</th>\n",
       "      <th>del</th>\n",
       "      <th>del</th>\n",
       "      <th>Tweet</th>\n",
       "      <th>Label</th>\n",
       "    </tr>\n",
       "  </thead>\n",
       "  <tbody>\n",
       "    <tr>\n",
       "      <th>0</th>\n",
       "      <td>567080871472017408</td>\n",
       "      <td>5.670786e+17</td>\n",
       "      <td>2941145694</td>\n",
       "      <td>@truaemusic The followers of the religion give...</td>\n",
       "      <td>racism</td>\n",
       "    </tr>\n",
       "  </tbody>\n",
       "</table>\n",
       "</div>"
      ],
      "text/plain": [
       "                  del           del         del  \\\n",
       "0  567080871472017408  5.670786e+17  2941145694   \n",
       "\n",
       "                                               Tweet   Label  \n",
       "0  @truaemusic The followers of the religion give...  racism  "
      ]
     },
     "execution_count": 619,
     "metadata": {},
     "output_type": "execute_result"
    }
   ],
   "source": [
    "wassem_hovy_naacl.head(1)"
   ]
  },
  {
   "cell_type": "code",
   "execution_count": 620,
   "metadata": {},
   "outputs": [
    {
     "data": {
      "text/html": [
       "<div>\n",
       "<style scoped>\n",
       "    .dataframe tbody tr th:only-of-type {\n",
       "        vertical-align: middle;\n",
       "    }\n",
       "\n",
       "    .dataframe tbody tr th {\n",
       "        vertical-align: top;\n",
       "    }\n",
       "\n",
       "    .dataframe thead th {\n",
       "        text-align: right;\n",
       "    }\n",
       "</style>\n",
       "<table border=\"1\" class=\"dataframe\">\n",
       "  <thead>\n",
       "    <tr style=\"text-align: right;\">\n",
       "      <th></th>\n",
       "      <th>ID</th>\n",
       "      <th>Tweets</th>\n",
       "      <th>Label</th>\n",
       "    </tr>\n",
       "  </thead>\n",
       "  <tbody>\n",
       "    <tr>\n",
       "      <th>0</th>\n",
       "      <td>560934139403436032</td>\n",
       "      <td>@azzamalirhabi @JihadiA8 This video of the Pes...</td>\n",
       "      <td>none</td>\n",
       "    </tr>\n",
       "  </tbody>\n",
       "</table>\n",
       "</div>"
      ],
      "text/plain": [
       "                   ID                                             Tweets Label\n",
       "0  560934139403436032  @azzamalirhabi @JihadiA8 This video of the Pes...  none"
      ]
     },
     "execution_count": 620,
     "metadata": {},
     "output_type": "execute_result"
    }
   ],
   "source": [
    "df_train.head(1)"
   ]
  },
  {
   "cell_type": "markdown",
   "metadata": {},
   "source": [
    "## Suppression des colones inutiles"
   ]
  },
  {
   "cell_type": "code",
   "execution_count": 621,
   "metadata": {},
   "outputs": [],
   "source": [
    "# Nous les commentons car on deja été utilisé et ne peut plus etre relancé        \n",
    "del df_train['ID']\n",
    "del wassem_css['del']\n",
    "del wassem_hovy_naacl['del']\n",
    "del davidson['del']"
   ]
  },
  {
   "cell_type": "code",
   "execution_count": 622,
   "metadata": {},
   "outputs": [
    {
     "data": {
      "text/html": [
       "<div>\n",
       "<style scoped>\n",
       "    .dataframe tbody tr th:only-of-type {\n",
       "        vertical-align: middle;\n",
       "    }\n",
       "\n",
       "    .dataframe tbody tr th {\n",
       "        vertical-align: top;\n",
       "    }\n",
       "\n",
       "    .dataframe thead th {\n",
       "        text-align: right;\n",
       "    }\n",
       "</style>\n",
       "<table border=\"1\" class=\"dataframe\">\n",
       "  <thead>\n",
       "    <tr style=\"text-align: right;\">\n",
       "      <th></th>\n",
       "      <th>Tweet</th>\n",
       "      <th>Label</th>\n",
       "    </tr>\n",
       "  </thead>\n",
       "  <tbody>\n",
       "    <tr>\n",
       "      <th>0</th>\n",
       "      <td>@truaemusic The followers of the religion give...</td>\n",
       "      <td>racism</td>\n",
       "    </tr>\n",
       "  </tbody>\n",
       "</table>\n",
       "</div>"
      ],
      "text/plain": [
       "                                               Tweet   Label\n",
       "0  @truaemusic The followers of the religion give...  racism"
      ]
     },
     "execution_count": 622,
     "metadata": {},
     "output_type": "execute_result"
    }
   ],
   "source": [
    "wassem_hovy_naacl.head(1)"
   ]
  },
  {
   "cell_type": "code",
   "execution_count": 623,
   "metadata": {},
   "outputs": [
    {
     "data": {
      "text/plain": [
       "0        @truaemusic The followers of the religion give...\n",
       "1        @Love___Egypt @washingtonpost All the land tha...\n",
       "2        @CamilleHughes16 @edbarber101658 @_Watch_Obser...\n",
       "3        @KellyTurner99 @brushyblues @buellerishere The...\n",
       "4        @buellerishere Who cares. ISIS does what Moham...\n",
       "                               ...                        \n",
       "16197       @scaryjen @Alfuriuskj @Nayadrikj undead 4ever.\n",
       "16198    Here's a suggestion, let's make Manu and Colin...\n",
       "16199    @ardiem1m @Alfonso_AraujoG @MaxBlumenthal @old...\n",
       "16200    Oh I knew it. Fuuuck. More restaurants. Ok I s...\n",
       "16201    @Kickyfast @bonegolem @Totalbiscuit @srhbutts ...\n",
       "Name: Tweet, Length: 16202, dtype: object"
      ]
     },
     "execution_count": 623,
     "metadata": {},
     "output_type": "execute_result"
    }
   ],
   "source": [
    "wassem_hovy_naacl.Tweet\n"
   ]
  },
  {
   "cell_type": "code",
   "execution_count": 624,
   "metadata": {},
   "outputs": [
    {
     "data": {
      "text/html": [
       "<div>\n",
       "<style scoped>\n",
       "    .dataframe tbody tr th:only-of-type {\n",
       "        vertical-align: middle;\n",
       "    }\n",
       "\n",
       "    .dataframe tbody tr th {\n",
       "        vertical-align: top;\n",
       "    }\n",
       "\n",
       "    .dataframe thead th {\n",
       "        text-align: right;\n",
       "    }\n",
       "</style>\n",
       "<table border=\"1\" class=\"dataframe\">\n",
       "  <thead>\n",
       "    <tr style=\"text-align: right;\">\n",
       "      <th></th>\n",
       "      <th>Tweet</th>\n",
       "      <th>Label</th>\n",
       "    </tr>\n",
       "  </thead>\n",
       "  <tbody>\n",
       "    <tr>\n",
       "      <th>0</th>\n",
       "      <td>The followers of the religion give a shit abo...</td>\n",
       "      <td>racism</td>\n",
       "    </tr>\n",
       "    <tr>\n",
       "      <th>1</th>\n",
       "      <td>All the land that Islam holds came from war ...</td>\n",
       "      <td>racism</td>\n",
       "    </tr>\n",
       "    <tr>\n",
       "      <th>2</th>\n",
       "      <td>A piece at a time. Start by outlawing new M...</td>\n",
       "      <td>racism</td>\n",
       "    </tr>\n",
       "    <tr>\n",
       "      <th>3</th>\n",
       "      <td>The rapist represent Islam because it's app...</td>\n",
       "      <td>racism</td>\n",
       "    </tr>\n",
       "    <tr>\n",
       "      <th>4</th>\n",
       "      <td>Who cares. ISIS does what Mohammed did. Tens ...</td>\n",
       "      <td>racism</td>\n",
       "    </tr>\n",
       "    <tr>\n",
       "      <th>...</th>\n",
       "      <td>...</td>\n",
       "      <td>...</td>\n",
       "    </tr>\n",
       "    <tr>\n",
       "      <th>16197</th>\n",
       "      <td>undead 4ever.</td>\n",
       "      <td>none</td>\n",
       "    </tr>\n",
       "    <tr>\n",
       "      <th>16198</th>\n",
       "      <td>Here's a suggestion, let's make Manu and Colin...</td>\n",
       "      <td>none</td>\n",
       "    </tr>\n",
       "    <tr>\n",
       "      <th>16199</th>\n",
       "      <td>No answer to any of the data I gave you. S...</td>\n",
       "      <td>none</td>\n",
       "    </tr>\n",
       "    <tr>\n",
       "      <th>16200</th>\n",
       "      <td>Oh I knew it. Fuuuck. More restaurants. Ok I s...</td>\n",
       "      <td>none</td>\n",
       "    </tr>\n",
       "    <tr>\n",
       "      <th>16201</th>\n",
       "      <td>nice interface! much prettier than the gra...</td>\n",
       "      <td>none</td>\n",
       "    </tr>\n",
       "  </tbody>\n",
       "</table>\n",
       "<p>16202 rows × 2 columns</p>\n",
       "</div>"
      ],
      "text/plain": [
       "                                                   Tweet   Label\n",
       "0       The followers of the religion give a shit abo...  racism\n",
       "1        All the land that Islam holds came from war ...  racism\n",
       "2         A piece at a time. Start by outlawing new M...  racism\n",
       "3         The rapist represent Islam because it's app...  racism\n",
       "4       Who cares. ISIS does what Mohammed did. Tens ...  racism\n",
       "...                                                  ...     ...\n",
       "16197                                      undead 4ever.    none\n",
       "16198  Here's a suggestion, let's make Manu and Colin...    none\n",
       "16199      No answer to any of the data I gave you. S...    none\n",
       "16200  Oh I knew it. Fuuuck. More restaurants. Ok I s...    none\n",
       "16201      nice interface! much prettier than the gra...    none\n",
       "\n",
       "[16202 rows x 2 columns]"
      ]
     },
     "execution_count": 624,
     "metadata": {},
     "output_type": "execute_result"
    }
   ],
   "source": [
    "# suppression des @anotation de nom dans df_train.csv\n",
    "import re\n",
    "for i in range(0,len(wassem_hovy_naacl)):\n",
    "    #suppression des @anotation\n",
    "    wassem_hovy_naacl['Tweet'][i]=re.sub(r'(@.*?)[\\s]', ' ',wassem_hovy_naacl['Tweet'][i])\n",
    "    #suppression des urls\n",
    "    wassem_hovy_naacl['Tweet'][i]=re.sub(r'(https|http)?:\\/\\/(\\w|\\.|\\/|\\?|\\=|\\&|\\%)*\\b', ' ',wassem_hovy_naacl['Tweet'][i])\n",
    "    \n",
    "    \n",
    "wassem_hovy_naacl\n",
    "\n",
    "#tweet = re.sub(r'(@.*?)[\\s]', ' ', tweet)"
   ]
  },
  {
   "cell_type": "code",
   "execution_count": null,
   "metadata": {},
   "outputs": [],
   "source": []
  },
  {
   "cell_type": "code",
   "execution_count": 586,
   "metadata": {},
   "outputs": [
    {
     "data": {
      "text/plain": [
       "\"Rid yourself of #Feminazi, #Fag &amp; #Jewf. Erol's #Funny stand-up reveals #AfMErica. http://t.co/IE4FBNuvA8\""
      ]
     },
     "execution_count": 586,
     "metadata": {},
     "output_type": "execute_result"
    }
   ],
   "source": [
    "wassem_css['Tweet'][4]"
   ]
  },
  {
   "cell_type": "code",
   "execution_count": 587,
   "metadata": {},
   "outputs": [
    {
     "data": {
      "text/html": [
       "<div>\n",
       "<style scoped>\n",
       "    .dataframe tbody tr th:only-of-type {\n",
       "        vertical-align: middle;\n",
       "    }\n",
       "\n",
       "    .dataframe tbody tr th {\n",
       "        vertical-align: top;\n",
       "    }\n",
       "\n",
       "    .dataframe thead th {\n",
       "        text-align: right;\n",
       "    }\n",
       "</style>\n",
       "<table border=\"1\" class=\"dataframe\">\n",
       "  <thead>\n",
       "    <tr style=\"text-align: right;\">\n",
       "      <th></th>\n",
       "      <th>Tweet</th>\n",
       "      <th>Label</th>\n",
       "    </tr>\n",
       "  </thead>\n",
       "  <tbody>\n",
       "    <tr>\n",
       "      <th>0</th>\n",
       "      <td>what about the feminazi and the isis member?</td>\n",
       "      <td>both</td>\n",
       "    </tr>\n",
       "    <tr>\n",
       "      <th>1</th>\n",
       "      <td>uh... did you watch the video? one of the wom...</td>\n",
       "      <td>both</td>\n",
       "    </tr>\n",
       "    <tr>\n",
       "      <th>2</th>\n",
       "      <td>Managed to hit a bird and a small rodent on my...</td>\n",
       "      <td>both</td>\n",
       "    </tr>\n",
       "    <tr>\n",
       "      <th>3</th>\n",
       "      <td>If you believe a #holohoax or #gays, LGBT &amp;amp...</td>\n",
       "      <td>both</td>\n",
       "    </tr>\n",
       "    <tr>\n",
       "      <th>4</th>\n",
       "      <td>Rid yourself of #Feminazi, #Fag &amp;amp; #Jewf. E...</td>\n",
       "      <td>both</td>\n",
       "    </tr>\n",
       "    <tr>\n",
       "      <th>...</th>\n",
       "      <td>...</td>\n",
       "      <td>...</td>\n",
       "    </tr>\n",
       "    <tr>\n",
       "      <th>6662</th>\n",
       "      <td>Fark. At this rate #mkr won't crown a winner u...</td>\n",
       "      <td>neither</td>\n",
       "    </tr>\n",
       "    <tr>\n",
       "      <th>6663</th>\n",
       "      <td>It's voilá, not walla #mkr</td>\n",
       "      <td>neither</td>\n",
       "    </tr>\n",
       "    <tr>\n",
       "      <th>6664</th>\n",
       "      <td>Possibly respond to some support requests with...</td>\n",
       "      <td>neither</td>\n",
       "    </tr>\n",
       "    <tr>\n",
       "      <th>6665</th>\n",
       "      <td>. congrats on finding that bug. I'm sure gamer...</td>\n",
       "      <td>neither</td>\n",
       "    </tr>\n",
       "    <tr>\n",
       "      <th>6666</th>\n",
       "      <td>I am sorry, journalists, but this is kind of a...</td>\n",
       "      <td>neither</td>\n",
       "    </tr>\n",
       "  </tbody>\n",
       "</table>\n",
       "<p>6667 rows × 2 columns</p>\n",
       "</div>"
      ],
      "text/plain": [
       "                                                  Tweet    Label\n",
       "0          what about the feminazi and the isis member?     both\n",
       "1      uh... did you watch the video? one of the wom...     both\n",
       "2     Managed to hit a bird and a small rodent on my...     both\n",
       "3     If you believe a #holohoax or #gays, LGBT &amp...     both\n",
       "4     Rid yourself of #Feminazi, #Fag &amp; #Jewf. E...     both\n",
       "...                                                 ...      ...\n",
       "6662  Fark. At this rate #mkr won't crown a winner u...  neither\n",
       "6663                         It's voilá, not walla #mkr  neither\n",
       "6664  Possibly respond to some support requests with...  neither\n",
       "6665  . congrats on finding that bug. I'm sure gamer...  neither\n",
       "6666  I am sorry, journalists, but this is kind of a...  neither\n",
       "\n",
       "[6667 rows x 2 columns]"
      ]
     },
     "execution_count": 587,
     "metadata": {},
     "output_type": "execute_result"
    }
   ],
   "source": [
    "# suppression des @anotation de nom dans wassem_css.csv\n",
    "import re\n",
    "for i in range(0,len(wassem_css)):\n",
    "    #suppression des @anotation\n",
    "    wassem_css['Tweet'][i]=re.sub(r'(@.*?)[\\s]', ' ',wassem_css['Tweet'][i])\n",
    "    #suppression des urls\n",
    "    wassem_css['Tweet'][i]=re.sub(r'(https|http)?:\\/\\/(\\w|\\.|\\/|\\?|\\=|\\&|\\%)*\\b', ' ',wassem_css['Tweet'][i])\n",
    "    \n",
    "    \n",
    "    \n",
    "wassem_css"
   ]
  },
  {
   "cell_type": "code",
   "execution_count": null,
   "metadata": {},
   "outputs": [],
   "source": []
  },
  {
   "cell_type": "code",
   "execution_count": null,
   "metadata": {},
   "outputs": [],
   "source": []
  },
  {
   "cell_type": "code",
   "execution_count": 588,
   "metadata": {},
   "outputs": [
    {
     "data": {
      "text/plain": [
       "0        !!! RT  As a woman you shouldn't complain abou...\n",
       "1        !!!!! RT  boy dats cold...tyga dwn bad for cuf...\n",
       "2        !!!!!!! RT  Dawg!!!! RT  You ever fuck a bitch...\n",
       "3                    !!!!!!!!! RT   she look like a tranny\n",
       "4        !!!!!!!!!!!!! RT  The shit you hear about me m...\n",
       "                               ...                        \n",
       "24778    you's a muthaf***in lie &#8220;@LifeAsKing: @2...\n",
       "24779    you've gone and broke the wrong heart baby, an...\n",
       "24780    young buck wanna eat!!.. dat nigguh like I ain...\n",
       "24781                youu got wild bitches tellin you lies\n",
       "24782    ~~Ruffled | Ntac Eileen Dahlia - Beautiful col...\n",
       "Name: Tweet, Length: 24783, dtype: object"
      ]
     },
     "execution_count": 588,
     "metadata": {},
     "output_type": "execute_result"
    }
   ],
   "source": [
    "davidson['Tweet']"
   ]
  },
  {
   "cell_type": "code",
   "execution_count": 589,
   "metadata": {},
   "outputs": [
    {
     "data": {
      "text/html": [
       "<div>\n",
       "<style scoped>\n",
       "    .dataframe tbody tr th:only-of-type {\n",
       "        vertical-align: middle;\n",
       "    }\n",
       "\n",
       "    .dataframe tbody tr th {\n",
       "        vertical-align: top;\n",
       "    }\n",
       "\n",
       "    .dataframe thead th {\n",
       "        text-align: right;\n",
       "    }\n",
       "</style>\n",
       "<table border=\"1\" class=\"dataframe\">\n",
       "  <thead>\n",
       "    <tr style=\"text-align: right;\">\n",
       "      <th></th>\n",
       "      <th>Label</th>\n",
       "      <th>Tweet</th>\n",
       "    </tr>\n",
       "  </thead>\n",
       "  <tbody>\n",
       "    <tr>\n",
       "      <th>0</th>\n",
       "      <td>2</td>\n",
       "      <td>!!! RT  As a woman you shouldn't complain abou...</td>\n",
       "    </tr>\n",
       "    <tr>\n",
       "      <th>1</th>\n",
       "      <td>1</td>\n",
       "      <td>!!!!! RT  boy dats cold...tyga dwn bad for cuf...</td>\n",
       "    </tr>\n",
       "    <tr>\n",
       "      <th>2</th>\n",
       "      <td>1</td>\n",
       "      <td>!!!!!!! RT  Dawg!!!! RT  You ever fuck a bitch...</td>\n",
       "    </tr>\n",
       "    <tr>\n",
       "      <th>3</th>\n",
       "      <td>1</td>\n",
       "      <td>!!!!!!!!! RT   she look like a tranny</td>\n",
       "    </tr>\n",
       "    <tr>\n",
       "      <th>4</th>\n",
       "      <td>1</td>\n",
       "      <td>!!!!!!!!!!!!! RT  The shit you hear about me m...</td>\n",
       "    </tr>\n",
       "    <tr>\n",
       "      <th>...</th>\n",
       "      <td>...</td>\n",
       "      <td>...</td>\n",
       "    </tr>\n",
       "    <tr>\n",
       "      <th>24778</th>\n",
       "      <td>1</td>\n",
       "      <td>you's a muthaf***in lie &amp;#8220;@LifeAsKing: @2...</td>\n",
       "    </tr>\n",
       "    <tr>\n",
       "      <th>24779</th>\n",
       "      <td>2</td>\n",
       "      <td>you've gone and broke the wrong heart baby, an...</td>\n",
       "    </tr>\n",
       "    <tr>\n",
       "      <th>24780</th>\n",
       "      <td>1</td>\n",
       "      <td>young buck wanna eat!!.. dat nigguh like I ain...</td>\n",
       "    </tr>\n",
       "    <tr>\n",
       "      <th>24781</th>\n",
       "      <td>1</td>\n",
       "      <td>youu got wild bitches tellin you lies</td>\n",
       "    </tr>\n",
       "    <tr>\n",
       "      <th>24782</th>\n",
       "      <td>2</td>\n",
       "      <td>~~Ruffled | Ntac Eileen Dahlia - Beautiful col...</td>\n",
       "    </tr>\n",
       "  </tbody>\n",
       "</table>\n",
       "<p>24783 rows × 2 columns</p>\n",
       "</div>"
      ],
      "text/plain": [
       "       Label                                              Tweet\n",
       "0          2  !!! RT  As a woman you shouldn't complain abou...\n",
       "1          1  !!!!! RT  boy dats cold...tyga dwn bad for cuf...\n",
       "2          1  !!!!!!! RT  Dawg!!!! RT  You ever fuck a bitch...\n",
       "3          1              !!!!!!!!! RT   she look like a tranny\n",
       "4          1  !!!!!!!!!!!!! RT  The shit you hear about me m...\n",
       "...      ...                                                ...\n",
       "24778      1  you's a muthaf***in lie &#8220;@LifeAsKing: @2...\n",
       "24779      2  you've gone and broke the wrong heart baby, an...\n",
       "24780      1  young buck wanna eat!!.. dat nigguh like I ain...\n",
       "24781      1              youu got wild bitches tellin you lies\n",
       "24782      2  ~~Ruffled | Ntac Eileen Dahlia - Beautiful col...\n",
       "\n",
       "[24783 rows x 2 columns]"
      ]
     },
     "execution_count": 589,
     "metadata": {},
     "output_type": "execute_result"
    }
   ],
   "source": [
    "davidson"
   ]
  },
  {
   "cell_type": "code",
   "execution_count": 590,
   "metadata": {},
   "outputs": [],
   "source": [
    "copieDavid = davidson"
   ]
  },
  {
   "cell_type": "code",
   "execution_count": 591,
   "metadata": {},
   "outputs": [],
   "source": [
    "davidson = copieDavid"
   ]
  },
  {
   "cell_type": "code",
   "execution_count": 592,
   "metadata": {},
   "outputs": [
    {
     "data": {
      "text/plain": [
       "\"you's a muthaf***in lie &#8220;@LifeAsKing: @20_Pearls @corey_emanuel right! His TL is trash &#8230;. Now, mine? Bible scriptures and hymns&#8221;\""
      ]
     },
     "execution_count": 592,
     "metadata": {},
     "output_type": "execute_result"
    }
   ],
   "source": [
    "davidson['Tweet'][24778]"
   ]
  },
  {
   "cell_type": "code",
   "execution_count": 593,
   "metadata": {},
   "outputs": [],
   "source": [
    "import string"
   ]
  },
  {
   "cell_type": "code",
   "execution_count": 638,
   "metadata": {},
   "outputs": [],
   "source": [
    "# suppression des @anotation de nom dans wassem_css.csv\n",
    "def data_cleaning_new(dataset):\n",
    "    \n",
    "    for i in range(0,len(dataset)):\n",
    "        # Uppercase -> Lowercase \n",
    "        dataset['Tweet'][i] = dataset['Tweet'][i].lower()\n",
    "        dataset['Tweet'][i]=re.sub(r'(&#[0-9]*;)', ' ',dataset['Tweet'][i])\n",
    "        dataset['Tweet'][i]=re.sub(r'(@.*?)[\\s]', ' ',dataset['Tweet'][i])\n",
    "        dataset['Tweet'][i]=re.sub(r'(https|http)?:\\/\\/(\\w|\\.|\\/|\\?|\\=|\\&|\\%)*\\b', ' ',dataset['Tweet'][i])\n",
    "        dataset['Tweet'][i]=re.sub(r'rt', ' ',dataset['Tweet'][i])\n",
    "        dataset['Tweet'][i]=re.sub(r'!', ' ',dataset['Tweet'][i])\n",
    "        dataset['Tweet'][i]=re.sub(r'~', ' ',dataset['Tweet'][i])\n",
    "        # Remove punctuation\n",
    "        #davidson['Tweet'][i] = \"\".join([char for char in davidson['Tweet'][i] if char not in string.punctuation])\n",
    "        # Delete characters \n",
    "        #davidson['Tweet'][i] = re.sub(\"(ð|ÿ|‘|œ|¦|€|˜|™|¸|¤|‚|©|¡|…|”|“|‹|š|±|³|iâ|§|„|~)*\", '', davidson['Tweet'][i]) \n",
    "\n",
    "\n",
    "    return dataset"
   ]
  },
  {
   "cell_type": "code",
   "execution_count": 639,
   "metadata": {},
   "outputs": [
    {
     "name": "stderr",
     "output_type": "stream",
     "text": [
      "/home/eric/anaconda3/envs/NLPMachineLearning/lib/python3.7/site-packages/ipykernel_launcher.py:6: SettingWithCopyWarning: \n",
      "A value is trying to be set on a copy of a slice from a DataFrame\n",
      "\n",
      "See the caveats in the documentation: https://pandas.pydata.org/pandas-docs/stable/user_guide/indexing.html#returning-a-view-versus-a-copy\n",
      "  \n",
      "/home/eric/anaconda3/envs/NLPMachineLearning/lib/python3.7/site-packages/ipykernel_launcher.py:7: SettingWithCopyWarning: \n",
      "A value is trying to be set on a copy of a slice from a DataFrame\n",
      "\n",
      "See the caveats in the documentation: https://pandas.pydata.org/pandas-docs/stable/user_guide/indexing.html#returning-a-view-versus-a-copy\n",
      "  import sys\n",
      "/home/eric/anaconda3/envs/NLPMachineLearning/lib/python3.7/site-packages/ipykernel_launcher.py:8: SettingWithCopyWarning: \n",
      "A value is trying to be set on a copy of a slice from a DataFrame\n",
      "\n",
      "See the caveats in the documentation: https://pandas.pydata.org/pandas-docs/stable/user_guide/indexing.html#returning-a-view-versus-a-copy\n",
      "  \n",
      "/home/eric/anaconda3/envs/NLPMachineLearning/lib/python3.7/site-packages/ipykernel_launcher.py:9: SettingWithCopyWarning: \n",
      "A value is trying to be set on a copy of a slice from a DataFrame\n",
      "\n",
      "See the caveats in the documentation: https://pandas.pydata.org/pandas-docs/stable/user_guide/indexing.html#returning-a-view-versus-a-copy\n",
      "  if __name__ == '__main__':\n",
      "/home/eric/anaconda3/envs/NLPMachineLearning/lib/python3.7/site-packages/ipykernel_launcher.py:10: SettingWithCopyWarning: \n",
      "A value is trying to be set on a copy of a slice from a DataFrame\n",
      "\n",
      "See the caveats in the documentation: https://pandas.pydata.org/pandas-docs/stable/user_guide/indexing.html#returning-a-view-versus-a-copy\n",
      "  # Remove the CWD from sys.path while we load stuff.\n",
      "/home/eric/anaconda3/envs/NLPMachineLearning/lib/python3.7/site-packages/ipykernel_launcher.py:11: SettingWithCopyWarning: \n",
      "A value is trying to be set on a copy of a slice from a DataFrame\n",
      "\n",
      "See the caveats in the documentation: https://pandas.pydata.org/pandas-docs/stable/user_guide/indexing.html#returning-a-view-versus-a-copy\n",
      "  # This is added back by InteractiveShellApp.init_path()\n",
      "/home/eric/anaconda3/envs/NLPMachineLearning/lib/python3.7/site-packages/ipykernel_launcher.py:12: SettingWithCopyWarning: \n",
      "A value is trying to be set on a copy of a slice from a DataFrame\n",
      "\n",
      "See the caveats in the documentation: https://pandas.pydata.org/pandas-docs/stable/user_guide/indexing.html#returning-a-view-versus-a-copy\n",
      "  if sys.path[0] == '':\n"
     ]
    },
    {
     "data": {
      "text/html": [
       "<div>\n",
       "<style scoped>\n",
       "    .dataframe tbody tr th:only-of-type {\n",
       "        vertical-align: middle;\n",
       "    }\n",
       "\n",
       "    .dataframe tbody tr th {\n",
       "        vertical-align: top;\n",
       "    }\n",
       "\n",
       "    .dataframe thead th {\n",
       "        text-align: right;\n",
       "    }\n",
       "</style>\n",
       "<table border=\"1\" class=\"dataframe\">\n",
       "  <thead>\n",
       "    <tr style=\"text-align: right;\">\n",
       "      <th></th>\n",
       "      <th>Label</th>\n",
       "      <th>Tweet</th>\n",
       "    </tr>\n",
       "  </thead>\n",
       "  <tbody>\n",
       "    <tr>\n",
       "      <th>0</th>\n",
       "      <td>2</td>\n",
       "      <td>as a woman you shouldn't complain about...</td>\n",
       "    </tr>\n",
       "    <tr>\n",
       "      <th>1</th>\n",
       "      <td>1</td>\n",
       "      <td>boy dats cold...tyga dwn bad for cuff...</td>\n",
       "    </tr>\n",
       "    <tr>\n",
       "      <th>2</th>\n",
       "      <td>1</td>\n",
       "      <td>dawg        you ever fuck a bitch a...</td>\n",
       "    </tr>\n",
       "    <tr>\n",
       "      <th>3</th>\n",
       "      <td>1</td>\n",
       "      <td>she look like a tranny</td>\n",
       "    </tr>\n",
       "    <tr>\n",
       "      <th>4</th>\n",
       "      <td>1</td>\n",
       "      <td>the shit you hear about me mi...</td>\n",
       "    </tr>\n",
       "    <tr>\n",
       "      <th>...</th>\n",
       "      <td>...</td>\n",
       "      <td>...</td>\n",
       "    </tr>\n",
       "    <tr>\n",
       "      <th>24778</th>\n",
       "      <td>1</td>\n",
       "      <td>you's a muthaf***in lie     right  his tl is t...</td>\n",
       "    </tr>\n",
       "    <tr>\n",
       "      <th>24779</th>\n",
       "      <td>2</td>\n",
       "      <td>you've gone and broke the wrong hea  baby, and...</td>\n",
       "    </tr>\n",
       "    <tr>\n",
       "      <th>24780</th>\n",
       "      <td>1</td>\n",
       "      <td>young buck wanna eat  .. dat nigguh like i ain...</td>\n",
       "    </tr>\n",
       "    <tr>\n",
       "      <th>24781</th>\n",
       "      <td>1</td>\n",
       "      <td>youu got wild bitches tellin you lies</td>\n",
       "    </tr>\n",
       "    <tr>\n",
       "      <th>24782</th>\n",
       "      <td>2</td>\n",
       "      <td>ruffled | ntac eileen dahlia - beautiful col...</td>\n",
       "    </tr>\n",
       "  </tbody>\n",
       "</table>\n",
       "<p>24783 rows × 2 columns</p>\n",
       "</div>"
      ],
      "text/plain": [
       "       Label                                              Tweet\n",
       "0          2         as a woman you shouldn't complain about...\n",
       "1          1           boy dats cold...tyga dwn bad for cuff...\n",
       "2          1             dawg        you ever fuck a bitch a...\n",
       "3          1                             she look like a tranny\n",
       "4          1                   the shit you hear about me mi...\n",
       "...      ...                                                ...\n",
       "24778      1  you's a muthaf***in lie     right  his tl is t...\n",
       "24779      2  you've gone and broke the wrong hea  baby, and...\n",
       "24780      1  young buck wanna eat  .. dat nigguh like i ain...\n",
       "24781      1              youu got wild bitches tellin you lies\n",
       "24782      2    ruffled | ntac eileen dahlia - beautiful col...\n",
       "\n",
       "[24783 rows x 2 columns]"
      ]
     },
     "execution_count": 639,
     "metadata": {},
     "output_type": "execute_result"
    }
   ],
   "source": [
    "data_cleaning_new(davidson)"
   ]
  },
  {
   "cell_type": "code",
   "execution_count": 640,
   "metadata": {},
   "outputs": [
    {
     "data": {
      "text/html": [
       "<div>\n",
       "<style scoped>\n",
       "    .dataframe tbody tr th:only-of-type {\n",
       "        vertical-align: middle;\n",
       "    }\n",
       "\n",
       "    .dataframe tbody tr th {\n",
       "        vertical-align: top;\n",
       "    }\n",
       "\n",
       "    .dataframe thead th {\n",
       "        text-align: right;\n",
       "    }\n",
       "</style>\n",
       "<table border=\"1\" class=\"dataframe\">\n",
       "  <thead>\n",
       "    <tr style=\"text-align: right;\">\n",
       "      <th></th>\n",
       "      <th>Tweet</th>\n",
       "      <th>Label</th>\n",
       "    </tr>\n",
       "  </thead>\n",
       "  <tbody>\n",
       "    <tr>\n",
       "      <th>0</th>\n",
       "      <td>what about the feminazi and the isis member?</td>\n",
       "      <td>both</td>\n",
       "    </tr>\n",
       "    <tr>\n",
       "      <th>1</th>\n",
       "      <td>uh... did you watch the video? one of the wom...</td>\n",
       "      <td>both</td>\n",
       "    </tr>\n",
       "    <tr>\n",
       "      <th>2</th>\n",
       "      <td>managed to hit a bird and a small rodent on my...</td>\n",
       "      <td>both</td>\n",
       "    </tr>\n",
       "    <tr>\n",
       "      <th>3</th>\n",
       "      <td>if you believe a #holohoax or #gays, lgbt &amp;amp...</td>\n",
       "      <td>both</td>\n",
       "    </tr>\n",
       "    <tr>\n",
       "      <th>4</th>\n",
       "      <td>rid yourself of #feminazi, #fag &amp;amp; #jewf. e...</td>\n",
       "      <td>both</td>\n",
       "    </tr>\n",
       "    <tr>\n",
       "      <th>...</th>\n",
       "      <td>...</td>\n",
       "      <td>...</td>\n",
       "    </tr>\n",
       "    <tr>\n",
       "      <th>6662</th>\n",
       "      <td>fark. at this rate #mkr won't crown a winner u...</td>\n",
       "      <td>neither</td>\n",
       "    </tr>\n",
       "    <tr>\n",
       "      <th>6663</th>\n",
       "      <td>it's voilá, not walla #mkr</td>\n",
       "      <td>neither</td>\n",
       "    </tr>\n",
       "    <tr>\n",
       "      <th>6664</th>\n",
       "      <td>possibly respond to some suppo  requests with ...</td>\n",
       "      <td>neither</td>\n",
       "    </tr>\n",
       "    <tr>\n",
       "      <th>6665</th>\n",
       "      <td>. congrats on finding that bug. i'm sure gamer...</td>\n",
       "      <td>neither</td>\n",
       "    </tr>\n",
       "    <tr>\n",
       "      <th>6666</th>\n",
       "      <td>i am sorry, journalists, but this is kind of a...</td>\n",
       "      <td>neither</td>\n",
       "    </tr>\n",
       "  </tbody>\n",
       "</table>\n",
       "<p>6667 rows × 2 columns</p>\n",
       "</div>"
      ],
      "text/plain": [
       "                                                  Tweet    Label\n",
       "0          what about the feminazi and the isis member?     both\n",
       "1      uh... did you watch the video? one of the wom...     both\n",
       "2     managed to hit a bird and a small rodent on my...     both\n",
       "3     if you believe a #holohoax or #gays, lgbt &amp...     both\n",
       "4     rid yourself of #feminazi, #fag &amp; #jewf. e...     both\n",
       "...                                                 ...      ...\n",
       "6662  fark. at this rate #mkr won't crown a winner u...  neither\n",
       "6663                         it's voilá, not walla #mkr  neither\n",
       "6664  possibly respond to some suppo  requests with ...  neither\n",
       "6665  . congrats on finding that bug. i'm sure gamer...  neither\n",
       "6666  i am sorry, journalists, but this is kind of a...  neither\n",
       "\n",
       "[6667 rows x 2 columns]"
      ]
     },
     "execution_count": 640,
     "metadata": {},
     "output_type": "execute_result"
    }
   ],
   "source": [
    "data_cleaning_new(wassem_css)"
   ]
  },
  {
   "cell_type": "code",
   "execution_count": 641,
   "metadata": {},
   "outputs": [
    {
     "data": {
      "text/html": [
       "<div>\n",
       "<style scoped>\n",
       "    .dataframe tbody tr th:only-of-type {\n",
       "        vertical-align: middle;\n",
       "    }\n",
       "\n",
       "    .dataframe tbody tr th {\n",
       "        vertical-align: top;\n",
       "    }\n",
       "\n",
       "    .dataframe thead th {\n",
       "        text-align: right;\n",
       "    }\n",
       "</style>\n",
       "<table border=\"1\" class=\"dataframe\">\n",
       "  <thead>\n",
       "    <tr style=\"text-align: right;\">\n",
       "      <th></th>\n",
       "      <th>Tweet</th>\n",
       "      <th>Label</th>\n",
       "    </tr>\n",
       "  </thead>\n",
       "  <tbody>\n",
       "    <tr>\n",
       "      <th>0</th>\n",
       "      <td>the followers of the religion give a shit abo...</td>\n",
       "      <td>racism</td>\n",
       "    </tr>\n",
       "    <tr>\n",
       "      <th>1</th>\n",
       "      <td>all the land that islam holds came from war ...</td>\n",
       "      <td>racism</td>\n",
       "    </tr>\n",
       "    <tr>\n",
       "      <th>2</th>\n",
       "      <td>a piece at a time. sta  by outlawing new mo...</td>\n",
       "      <td>racism</td>\n",
       "    </tr>\n",
       "    <tr>\n",
       "      <th>3</th>\n",
       "      <td>the rapist represent islam because it's app...</td>\n",
       "      <td>racism</td>\n",
       "    </tr>\n",
       "    <tr>\n",
       "      <th>4</th>\n",
       "      <td>who cares. isis does what mohammed did. tens ...</td>\n",
       "      <td>racism</td>\n",
       "    </tr>\n",
       "    <tr>\n",
       "      <th>...</th>\n",
       "      <td>...</td>\n",
       "      <td>...</td>\n",
       "    </tr>\n",
       "    <tr>\n",
       "      <th>16197</th>\n",
       "      <td>undead 4ever.</td>\n",
       "      <td>none</td>\n",
       "    </tr>\n",
       "    <tr>\n",
       "      <th>16198</th>\n",
       "      <td>here's a suggestion, let's make manu and colin...</td>\n",
       "      <td>none</td>\n",
       "    </tr>\n",
       "    <tr>\n",
       "      <th>16199</th>\n",
       "      <td>no answer to any of the data i gave you. s...</td>\n",
       "      <td>none</td>\n",
       "    </tr>\n",
       "    <tr>\n",
       "      <th>16200</th>\n",
       "      <td>oh i knew it. fuuuck. more restaurants. ok i s...</td>\n",
       "      <td>none</td>\n",
       "    </tr>\n",
       "    <tr>\n",
       "      <th>16201</th>\n",
       "      <td>nice interface  much prettier than the gra...</td>\n",
       "      <td>none</td>\n",
       "    </tr>\n",
       "  </tbody>\n",
       "</table>\n",
       "<p>16202 rows × 2 columns</p>\n",
       "</div>"
      ],
      "text/plain": [
       "                                                   Tweet   Label\n",
       "0       the followers of the religion give a shit abo...  racism\n",
       "1        all the land that islam holds came from war ...  racism\n",
       "2         a piece at a time. sta  by outlawing new mo...  racism\n",
       "3         the rapist represent islam because it's app...  racism\n",
       "4       who cares. isis does what mohammed did. tens ...  racism\n",
       "...                                                  ...     ...\n",
       "16197                                      undead 4ever.    none\n",
       "16198  here's a suggestion, let's make manu and colin...    none\n",
       "16199      no answer to any of the data i gave you. s...    none\n",
       "16200  oh i knew it. fuuuck. more restaurants. ok i s...    none\n",
       "16201      nice interface  much prettier than the gra...    none\n",
       "\n",
       "[16202 rows x 2 columns]"
      ]
     },
     "execution_count": 641,
     "metadata": {},
     "output_type": "execute_result"
    }
   ],
   "source": [
    "data_cleaning_new(wassem_hovy_naacl)"
   ]
  },
  {
   "cell_type": "code",
   "execution_count": 645,
   "metadata": {},
   "outputs": [
    {
     "data": {
      "text/plain": [
       "<bound method DataFrame.count of                                                    Tweet   Label\n",
       "0       the followers of the religion give a shit abo...  racism\n",
       "1        all the land that islam holds came from war ...  racism\n",
       "2         a piece at a time. sta  by outlawing new mo...  racism\n",
       "3         the rapist represent islam because it's app...  racism\n",
       "4       who cares. isis does what mohammed did. tens ...  racism\n",
       "...                                                  ...     ...\n",
       "16197                                      undead 4ever.    none\n",
       "16198  here's a suggestion, let's make manu and colin...    none\n",
       "16199      no answer to any of the data i gave you. s...    none\n",
       "16200  oh i knew it. fuuuck. more restaurants. ok i s...    none\n",
       "16201      nice interface  much prettier than the gra...    none\n",
       "\n",
       "[16202 rows x 2 columns]>"
      ]
     },
     "execution_count": 645,
     "metadata": {},
     "output_type": "execute_result"
    }
   ],
   "source": [
    "wassem_hovy_naacl.count"
   ]
  },
  {
   "cell_type": "code",
   "execution_count": 625,
   "metadata": {},
   "outputs": [
    {
     "data": {
      "text/plain": [
       "'~~Ruffled | Ntac Eileen Dahlia - Beautiful color combination of pink, orange, yellow &amp; white. A Coll http://t.co/H0dYEBvnZB'"
      ]
     },
     "execution_count": 625,
     "metadata": {},
     "output_type": "execute_result"
    }
   ],
   "source": [
    "davidson['Tweet'][24782]"
   ]
  },
  {
   "cell_type": "code",
   "execution_count": null,
   "metadata": {},
   "outputs": [],
   "source": []
  },
  {
   "cell_type": "code",
   "execution_count": null,
   "metadata": {},
   "outputs": [],
   "source": [
    "df_train.rename(columns={'Tweets': 'Tweet'}, inplace=True)"
   ]
  },
  {
   "cell_type": "code",
   "execution_count": null,
   "metadata": {},
   "outputs": [],
   "source": [
    "df_train.head(10)"
   ]
  },
  {
   "cell_type": "code",
   "execution_count": null,
   "metadata": {},
   "outputs": [],
   "source": [
    "# suppression des @anotation de nom dans df_train.csv\n",
    "for i in range(0,len(df_train)):\n",
    "    #suppression des @anotation\n",
    "    df_train['Tweet'][i]=re.sub(r'(@.*?)[\\s]', ' ',df_train['Tweet'][i])\n",
    "    #suppression des urls\n",
    "    df_train['Tweet'][i]=re.sub(r'(https|http)?:\\/\\/(\\w|\\.|\\/|\\?|\\=|\\&|\\%)*\\b', ' ',df_train['Tweet'][i])\n",
    "    #suppression des retweet\n",
    "    df_train['Tweet'][i]=re.sub(r'RT', ' ',df_train['Tweet'][i])\n",
    "    \n",
    "    \n",
    "df_train"
   ]
  },
  {
   "cell_type": "code",
   "execution_count": 42,
   "metadata": {},
   "outputs": [
    {
     "name": "stdout",
     "output_type": "stream",
     "text": [
      "oil\n",
      "{'pil', 'kid', 'kal', 'nil', 'kie', 'skil', 'keil', 'lil', 'kilt', 'kir', 'fil', 'kilo', 'oil', 'il', 'gil', 'ail', 'kl', 'ki', 'til', 'kcl', 'bil', 'kif', 'kit', 'kiln', 'mil', 'kel', 'kia', 'kin', 'kix', 'eil', 'kim', 'kill', 'kiel', 'kiu', 'kip', 'xil', 'kio', 'wil'}\n"
     ]
    },
    {
     "data": {
      "text/plain": [
       "set"
      ]
     },
     "execution_count": 42,
     "metadata": {},
     "output_type": "execute_result"
    }
   ],
   "source": [
    "#pip install pyspellchecker\n",
    "\n",
    "from spellchecker import SpellChecker\n",
    "\n",
    "spell = SpellChecker(language='en')\n",
    "\n",
    "# find those words that may be misspelled\n",
    "misspelled = spell.unknown([\"kil\"])\n",
    "\n",
    "for word in misspelled:\n",
    "    # Get the one `most likely` answer\n",
    "    print(spell.correction(word))\n",
    "    mot = spell.correction(word)\n",
    "    # Get a list of `likely` options\n",
    "    print(spell.candidates(word))\n",
    "\n",
    "type(misspelled)"
   ]
  },
  {
   "cell_type": "code",
   "execution_count": 44,
   "metadata": {},
   "outputs": [
    {
     "data": {
      "text/plain": [
       "'oil'"
      ]
     },
     "execution_count": 44,
     "metadata": {},
     "output_type": "execute_result"
    }
   ],
   "source": [
    "mot"
   ]
  },
  {
   "cell_type": "code",
   "execution_count": 52,
   "metadata": {},
   "outputs": [
    {
     "name": "stdout",
     "output_type": "stream",
     "text": [
      "None of the words you entered are in our database. Found a word we're missing? <a href=\"/addslang\">Add it to our dictionary</a>.\n"
     ]
    }
   ],
   "source": [
    "import requests\n",
    "\n",
    "\n",
    "prefixStr = '<div class=\"translation-text\">'\n",
    "postfixStr = '</div'\n",
    "\n",
    "slangText = \"#mkr\"\n",
    "\n",
    "r = requests.post('https://www.noslang.com/', {'action': 'translate', 'p': \n",
    "slangText, 'noswear': 'noswear', 'submit': 'Translate'})\n",
    "startIndex = r.text.find(prefixStr)+len(prefixStr)\n",
    "endIndex = startIndex + r.text[startIndex:].find(postfixStr)\n",
    "\n",
    "#recupération de la valeur correspondante \n",
    "true_val = r.text[startIndex:endIndex]\n",
    "\n",
    "print(r.text[startIndex:endIndex])"
   ]
  },
  {
   "cell_type": "code",
   "execution_count": 37,
   "metadata": {},
   "outputs": [
    {
     "data": {
      "text/plain": [
       "'you ugly a**'"
      ]
     },
     "execution_count": 37,
     "metadata": {},
     "output_type": "execute_result"
    }
   ],
   "source": [
    "# construction du nouveau dico pour les mots en abréviation\n",
    "true_val"
   ]
  },
  {
   "cell_type": "code",
   "execution_count": null,
   "metadata": {},
   "outputs": [],
   "source": []
  },
  {
   "cell_type": "code",
   "execution_count": null,
   "metadata": {},
   "outputs": [],
   "source": []
  },
  {
   "cell_type": "code",
   "execution_count": null,
   "metadata": {},
   "outputs": [],
   "source": [
    "davidson['Label'][1]==1"
   ]
  },
  {
   "cell_type": "code",
   "execution_count": null,
   "metadata": {},
   "outputs": [],
   "source": []
  },
  {
   "cell_type": "markdown",
   "metadata": {},
   "source": [
    "## CHANGEMENT DE LABEL POUR CHAQUE DATASET (encodage)"
   ]
  },
  {
   "cell_type": "code",
   "execution_count": null,
   "metadata": {},
   "outputs": [],
   "source": [
    "#changement de Label et encodage des labels\n",
    "for i in range(0,len(davidson)):\n",
    "    if(davidson['Label'][i]==2):\n",
    "        davidson['Label'][i]=0\n",
    "    else:\n",
    "        davidson['Label'][i]=1"
   ]
  },
  {
   "cell_type": "code",
   "execution_count": null,
   "metadata": {},
   "outputs": [],
   "source": [
    "davidson.head(3)"
   ]
  },
  {
   "cell_type": "code",
   "execution_count": null,
   "metadata": {},
   "outputs": [],
   "source": [
    "#changement de Label et encodage des labels\n",
    "for i in range(0,len(wassem_css)):\n",
    "    if(wassem_css['Label'][i]=='neither'):\n",
    "        wassem_css['Label'][i]=0\n",
    "    else:\n",
    "        wassem_css['Label'][i]=1"
   ]
  },
  {
   "cell_type": "code",
   "execution_count": null,
   "metadata": {},
   "outputs": [],
   "source": [
    "wassem_css.head(3)"
   ]
  },
  {
   "cell_type": "code",
   "execution_count": 423,
   "metadata": {},
   "outputs": [],
   "source": [
    "#changement de Label et encodage des labels\n",
    "for i in range(0,len(wassem_hovy_naacl)):\n",
    "    if(wassem_hovy_naacl['Label'][i]=='none'):\n",
    "        wassem_hovy_naacl['Label'][i]=0\n",
    "    else:\n",
    "        wassem_hovy_naacl['Label'][i]=1"
   ]
  },
  {
   "cell_type": "code",
   "execution_count": 424,
   "metadata": {},
   "outputs": [
    {
     "data": {
      "text/html": [
       "<div>\n",
       "<style scoped>\n",
       "    .dataframe tbody tr th:only-of-type {\n",
       "        vertical-align: middle;\n",
       "    }\n",
       "\n",
       "    .dataframe tbody tr th {\n",
       "        vertical-align: top;\n",
       "    }\n",
       "\n",
       "    .dataframe thead th {\n",
       "        text-align: right;\n",
       "    }\n",
       "</style>\n",
       "<table border=\"1\" class=\"dataframe\">\n",
       "  <thead>\n",
       "    <tr style=\"text-align: right;\">\n",
       "      <th></th>\n",
       "      <th>Tweet</th>\n",
       "      <th>Label</th>\n",
       "    </tr>\n",
       "  </thead>\n",
       "  <tbody>\n",
       "    <tr>\n",
       "      <th>0</th>\n",
       "      <td>@truaemusic The followers of the religion give...</td>\n",
       "      <td>1</td>\n",
       "    </tr>\n",
       "    <tr>\n",
       "      <th>1</th>\n",
       "      <td>@Love___Egypt @washingtonpost All the land tha...</td>\n",
       "      <td>1</td>\n",
       "    </tr>\n",
       "    <tr>\n",
       "      <th>2</th>\n",
       "      <td>@CamilleHughes16 @edbarber101658 @_Watch_Obser...</td>\n",
       "      <td>1</td>\n",
       "    </tr>\n",
       "  </tbody>\n",
       "</table>\n",
       "</div>"
      ],
      "text/plain": [
       "                                               Tweet Label\n",
       "0  @truaemusic The followers of the religion give...     1\n",
       "1  @Love___Egypt @washingtonpost All the land tha...     1\n",
       "2  @CamilleHughes16 @edbarber101658 @_Watch_Obser...     1"
      ]
     },
     "execution_count": 424,
     "metadata": {},
     "output_type": "execute_result"
    }
   ],
   "source": [
    "wassem_hovy_naacl.head(3)"
   ]
  },
  {
   "cell_type": "code",
   "execution_count": 425,
   "metadata": {},
   "outputs": [],
   "source": [
    "#changement de Label et encodage des labels\n",
    "for i in range(0,len(df_train)):\n",
    "    if(df_train['Label'][i]=='none'):\n",
    "        df_train['Label'][i]=0\n",
    "    else:\n",
    "        df_train['Label'][i]=1"
   ]
  },
  {
   "cell_type": "code",
   "execution_count": 426,
   "metadata": {},
   "outputs": [
    {
     "data": {
      "text/html": [
       "<div>\n",
       "<style scoped>\n",
       "    .dataframe tbody tr th:only-of-type {\n",
       "        vertical-align: middle;\n",
       "    }\n",
       "\n",
       "    .dataframe tbody tr th {\n",
       "        vertical-align: top;\n",
       "    }\n",
       "\n",
       "    .dataframe thead th {\n",
       "        text-align: right;\n",
       "    }\n",
       "</style>\n",
       "<table border=\"1\" class=\"dataframe\">\n",
       "  <thead>\n",
       "    <tr style=\"text-align: right;\">\n",
       "      <th></th>\n",
       "      <th>Tweet</th>\n",
       "      <th>Label</th>\n",
       "    </tr>\n",
       "  </thead>\n",
       "  <tbody>\n",
       "    <tr>\n",
       "      <th>0</th>\n",
       "      <td>@azzamalirhabi @JihadiA8 This video of the Pes...</td>\n",
       "      <td>0</td>\n",
       "    </tr>\n",
       "    <tr>\n",
       "      <th>1</th>\n",
       "      <td>Oh really? No more instant restaurants? THAT'S...</td>\n",
       "      <td>0</td>\n",
       "    </tr>\n",
       "    <tr>\n",
       "      <th>2</th>\n",
       "      <td>RT @Benfrancisallen: It hasn't been a good few...</td>\n",
       "      <td>0</td>\n",
       "    </tr>\n",
       "  </tbody>\n",
       "</table>\n",
       "</div>"
      ],
      "text/plain": [
       "                                               Tweet Label\n",
       "0  @azzamalirhabi @JihadiA8 This video of the Pes...     0\n",
       "1  Oh really? No more instant restaurants? THAT'S...     0\n",
       "2  RT @Benfrancisallen: It hasn't been a good few...     0"
      ]
     },
     "execution_count": 426,
     "metadata": {},
     "output_type": "execute_result"
    }
   ],
   "source": [
    "#affichage de chaque dataset\n",
    "df_train.head(3)"
   ]
  },
  {
   "cell_type": "markdown",
   "metadata": {},
   "source": [
    "### Fusion des dataset traiter\n"
   ]
  },
  {
   "cell_type": "code",
   "execution_count": 448,
   "metadata": {},
   "outputs": [
    {
     "data": {
      "text/plain": [
       "(24783, 2)"
      ]
     },
     "execution_count": 448,
     "metadata": {},
     "output_type": "execute_result"
    }
   ],
   "source": [
    "davidson.shape"
   ]
  },
  {
   "cell_type": "code",
   "execution_count": 449,
   "metadata": {},
   "outputs": [
    {
     "data": {
      "text/plain": [
       "(16049, 2)"
      ]
     },
     "execution_count": 449,
     "metadata": {},
     "output_type": "execute_result"
    }
   ],
   "source": [
    "df_train.shape"
   ]
  },
  {
   "cell_type": "code",
   "execution_count": 450,
   "metadata": {},
   "outputs": [],
   "source": [
    "# fusion de df_train et davidson et suppression des doublons\n",
    "data_Fusion = df_train.merge(davidson, how='outer') "
   ]
  },
  {
   "cell_type": "code",
   "execution_count": 451,
   "metadata": {},
   "outputs": [
    {
     "data": {
      "text/plain": [
       "(40832, 2)"
      ]
     },
     "execution_count": 451,
     "metadata": {},
     "output_type": "execute_result"
    }
   ],
   "source": [
    "data_Fusion.shape"
   ]
  },
  {
   "cell_type": "code",
   "execution_count": 452,
   "metadata": {},
   "outputs": [
    {
     "data": {
      "text/plain": [
       "(6667, 2)"
      ]
     },
     "execution_count": 452,
     "metadata": {},
     "output_type": "execute_result"
    }
   ],
   "source": [
    "wassem_css.shape"
   ]
  },
  {
   "cell_type": "code",
   "execution_count": 453,
   "metadata": {},
   "outputs": [],
   "source": [
    "# fusion de data_Fusion et wassem_css et suppression des doublons\n",
    "data_Fusion = data_Fusion.merge(wassem_css, how='outer') "
   ]
  },
  {
   "cell_type": "code",
   "execution_count": 454,
   "metadata": {},
   "outputs": [
    {
     "data": {
      "text/plain": [
       "(44123, 2)"
      ]
     },
     "execution_count": 454,
     "metadata": {},
     "output_type": "execute_result"
    }
   ],
   "source": [
    "data_Fusion.shape"
   ]
  },
  {
   "cell_type": "code",
   "execution_count": 455,
   "metadata": {},
   "outputs": [
    {
     "data": {
      "text/plain": [
       "(16202, 2)"
      ]
     },
     "execution_count": 455,
     "metadata": {},
     "output_type": "execute_result"
    }
   ],
   "source": [
    "wassem_hovy_naacl.shape"
   ]
  },
  {
   "cell_type": "code",
   "execution_count": 456,
   "metadata": {},
   "outputs": [],
   "source": [
    "# fusion de data_Fusion et wassem_hovy_naacl\n",
    "#data_Fusion = data_Fusion.merge(wassem_hovy_naacl, how='outer') "
   ]
  },
  {
   "cell_type": "code",
   "execution_count": 457,
   "metadata": {},
   "outputs": [
    {
     "data": {
      "text/plain": [
       "(47368, 2)"
      ]
     },
     "execution_count": 457,
     "metadata": {},
     "output_type": "execute_result"
    }
   ],
   "source": [
    "data_Fusion.shape"
   ]
  },
  {
   "cell_type": "markdown",
   "metadata": {},
   "source": [
    "## Convertion des Labels en entier car après fusion ils sont sous la forme de float"
   ]
  },
  {
   "cell_type": "code",
   "execution_count": null,
   "metadata": {},
   "outputs": [],
   "source": [
    "data_Fusion.Label"
   ]
  },
  {
   "cell_type": "code",
   "execution_count": 458,
   "metadata": {},
   "outputs": [],
   "source": [
    "#conversion de label de float en entier naturel\n",
    "data_Fusion['Label'] = data_Fusion['Label'].astype(int)"
   ]
  },
  {
   "cell_type": "code",
   "execution_count": 461,
   "metadata": {},
   "outputs": [
    {
     "name": "stdout",
     "output_type": "stream",
     "text": [
      "nombre de tweet non discrimant :  19389\n",
      "nombre de tweet  discrimant :  27979\n"
     ]
    }
   ],
   "source": [
    "#affichage repartitions des labels  \n",
    "discriminant = 0\n",
    "pasDiscriminant = 0\n",
    "\n",
    "for i in range (0, len(data_Fusion)):\n",
    "    if(data_Fusion['Label'][i]==0):\n",
    "        pasDiscriminant = pasDiscriminant+1\n",
    "    elif(data_Fusion['Label'][i]==1):\n",
    "        discriminant = discriminant+1\n",
    "\n",
    "print('nombre de tweet non discrimant : ', pasDiscriminant)\n",
    "print('nombre de tweet  discrimant : ', discriminant)"
   ]
  },
  {
   "cell_type": "markdown",
   "metadata": {},
   "source": [
    "### convertion de notre dataframe en csv "
   ]
  },
  {
   "cell_type": "code",
   "execution_count": 474,
   "metadata": {},
   "outputs": [],
   "source": [
    "#convertissons en csv de notre dataframe qui sera le nouveau jeu de donnée\n",
    "data_Fusion.to_csv(r'discrimant_tweet_47368_dataset.csv', index = False,  header=True)"
   ]
  },
  {
   "cell_type": "markdown",
   "metadata": {},
   "source": [
    "# Nous avons réaliser les travaux ci-dessous\n",
    "- nous avons pris 04 dataset de type racism, sexism, discriminant\n",
    "    * davidson (24783 tweets)\n",
    "    * wassem_css (66627 tweets)\n",
    "    * wassem_hovy_naacl (16203 tweets)\n",
    "    * data (notre dataset d'orrigine avec 16109 tweets)\n",
    "- nous avons fait des comparaisons sur les différents tweets (nature sexism, racism, none, neitheir...)\n",
    "- nous avons regrouper les tweets par catégorie comme dans le code plus haut\n",
    "- notre nouveau dataset contients 47368 tweets différents, déja avec les doublons supprimé et sont tous encoder en binaire\n",
    "- ....."
   ]
  },
  {
   "cell_type": "markdown",
   "metadata": {},
   "source": [
    "# -------------**************-----------------*****************----------------------********************------------------*******"
   ]
  },
  {
   "cell_type": "markdown",
   "metadata": {},
   "source": [
    "# Chargement des données"
   ]
  },
  {
   "cell_type": "code",
   "execution_count": 3,
   "metadata": {},
   "outputs": [],
   "source": [
    "import pandas as pd"
   ]
  },
  {
   "cell_type": "code",
   "execution_count": 4,
   "metadata": {},
   "outputs": [],
   "source": [
    "df = pd.read_csv('discrimant_tweet_47368_data.csv', sep=',')"
   ]
  },
  {
   "cell_type": "markdown",
   "metadata": {},
   "source": [
    "#### Affichage de nos données chargés"
   ]
  },
  {
   "cell_type": "code",
   "execution_count": 7,
   "metadata": {},
   "outputs": [
    {
     "data": {
      "text/plain": [
       "numpy.int64"
      ]
     },
     "execution_count": 7,
     "metadata": {},
     "output_type": "execute_result"
    }
   ],
   "source": [
    "type(df['Label'][1])"
   ]
  },
  {
   "cell_type": "markdown",
   "metadata": {},
   "source": [
    "#### Transformation du dataset en jeux de donnée avec des label binaire\n",
    "#### 0 pour 'none' et 1 pour 'sexim et autres que none'"
   ]
  },
  {
   "cell_type": "code",
   "execution_count": 8,
   "metadata": {},
   "outputs": [],
   "source": [
    "dataset = df"
   ]
  },
  {
   "cell_type": "markdown",
   "metadata": {},
   "source": [
    "# 1-Création des vecteurs One Hot"
   ]
  },
  {
   "cell_type": "markdown",
   "metadata": {},
   "source": [
    "Import de la librairie Sklearn qui regroupe +sieurs algo de ML la plus utilisé en datasciences,\n",
    "nous allons utiliser dans un premier temps le CountVectorizer qui est un algo d'extraction de carractéristique pour le BOW\n",
    "- feature_extraction.text, contient la classe de vectorization Countvectorizer qui dois etre  creer et instancier avant d'etre utiliser sur les données"
   ]
  },
  {
   "cell_type": "code",
   "execution_count": 10,
   "metadata": {},
   "outputs": [],
   "source": [
    "from sklearn.feature_extraction.text import CountVectorizer\n",
    "from sklearn.model_selection import train_test_split"
   ]
  },
  {
   "cell_type": "code",
   "execution_count": 11,
   "metadata": {},
   "outputs": [],
   "source": [
    "#instanciation de la classe countVectorizer pour le BOW\n",
    "count_vect = CountVectorizer()"
   ]
  },
  {
   "cell_type": "markdown",
   "metadata": {},
   "source": [
    "Avec Sklearn, nous avons trois fonctions principale pour le traitement des données,\n",
    "- fit() qui permet de faire l'apprentissage et de liéer le modèle aux donnéess\n",
    "- transform() qui permet d'appliquer les transformations sur les données\n",
    "- fit_transform() qui permet de faire les deux en même temps, cad permet de calculer tous les vecteurs et d'appliquer le BOW,..."
   ]
  },
  {
   "cell_type": "code",
   "execution_count": 120,
   "metadata": {},
   "outputs": [],
   "source": [
    "train_text, temp_text, train_labels, temp_labels = train_test_split(dataset['Tweet'], dataset['Label'], \n",
    "                                                                    random_state=2018, \n",
    "                                                                    test_size=0.1, \n",
    "                                                                    stratify=dataset['Label'])"
   ]
  },
  {
   "cell_type": "code",
   "execution_count": null,
   "metadata": {},
   "outputs": [],
   "source": []
  },
  {
   "cell_type": "code",
   "execution_count": 121,
   "metadata": {},
   "outputs": [],
   "source": [
    "#Vectorization des données d'entrainement (tweets) en utilisant le BOW\n",
    "# cette etape permet de faire de la vectorization et de construire notre BOW\n",
    "X_train_count = count_vect.fit_transform(train_text)"
   ]
  },
  {
   "cell_type": "code",
   "execution_count": 122,
   "metadata": {},
   "outputs": [
    {
     "data": {
      "text/plain": [
       "<42631x10000 sparse matrix of type '<class 'numpy.int64'>'\n",
       "\twith 529374 stored elements in Compressed Sparse Row format>"
      ]
     },
     "execution_count": 122,
     "metadata": {},
     "output_type": "execute_result"
    }
   ],
   "source": [
    "#affichage de l'objet sparse matrix X_train_couille après vectorization\n",
    "X_train_count"
   ]
  },
  {
   "cell_type": "code",
   "execution_count": 123,
   "metadata": {},
   "outputs": [],
   "source": [
    "#affichage de la matrice construite\n",
    "X_train_count.toarray()"
   ]
  },
  {
   "cell_type": "code",
   "execution_count": 124,
   "metadata": {},
   "outputs": [],
   "source": [
    "#affichage de la taille de notre array\n",
    "X_train_count.toarray().shape"
   ]
  },
  {
   "cell_type": "markdown",
   "metadata": {},
   "source": [
    "- <47368x55712...> ceci représentent :\n",
    "    * 47368 : represente la taille de notre dataset qui representent toute les lignes de notre jeu de donnée\n",
    "    * 55712 : represente les 24367 colones qui veut dire que dans notre jeu de donnée, notre vocabulaire compte 55712 mots, en gros nous avons 24367 mots possible dans notre dataset\n",
    "    * donc du coup nos vecteurs pour chacun des mots faits 55712. donc 24366 valeurs à 0 et 1 seule valeur à 1.\n",
    "- Ainsi 55712 carractéristiques se qui est énorme et peut impacter sur la performance de notre modèl, du coup nous voulons en avoir un peu moin.\n",
    "- Du coup en regardant la documentation de Counvectorizer on peut voir des paramètres a varier pour améliorer la representation vectoriel et le BOW\n",
    "- nous aallons limiter le nombre de feautures a 1000 pour avoir une petite representation et faciliter les calculs en mémoire"
   ]
  },
  {
   "cell_type": "code",
   "execution_count": 125,
   "metadata": {},
   "outputs": [],
   "source": [
    "#limitation du nombre de features a 1000\n",
    "count_vect = CountVectorizer(max_features=10000)\n",
    "#repassons notre dataset\n",
    "X_train_count = count_vect.fit_transform(train_text)"
   ]
  },
  {
   "cell_type": "code",
   "execution_count": 126,
   "metadata": {},
   "outputs": [
    {
     "data": {
      "text/plain": [
       "<42631x10000 sparse matrix of type '<class 'numpy.int64'>'\n",
       "\twith 529374 stored elements in Compressed Sparse Row format>"
      ]
     },
     "execution_count": 126,
     "metadata": {},
     "output_type": "execute_result"
    }
   ],
   "source": [
    "#re affichons la taille de notre objet X_count\n",
    "# nous allons remarquer qu'elle quitte de 23...a 1000 colone \n",
    "X_train_count"
   ]
  },
  {
   "cell_type": "code",
   "execution_count": 127,
   "metadata": {},
   "outputs": [
    {
     "data": {
      "text/plain": [
       "array([[0, 0, 0, ..., 0, 0, 0],\n",
       "       [0, 0, 0, ..., 0, 0, 0],\n",
       "       [0, 0, 0, ..., 0, 0, 0],\n",
       "       ...,\n",
       "       [0, 0, 0, ..., 0, 0, 0],\n",
       "       [0, 0, 0, ..., 0, 0, 0],\n",
       "       [0, 0, 0, ..., 0, 0, 0]])"
      ]
     },
     "execution_count": 127,
     "metadata": {},
     "output_type": "execute_result"
    }
   ],
   "source": [
    "#affichage de la matrice construite\n",
    "X_train_count.toarray()"
   ]
  },
  {
   "cell_type": "code",
   "execution_count": 128,
   "metadata": {},
   "outputs": [],
   "source": [
    "#affichage de la taille de notre array\n",
    "X_train_count.toarray().shape"
   ]
  },
  {
   "cell_type": "markdown",
   "metadata": {},
   "source": [
    "- affichons actuellement ce que nous aovns déja réalisé\n",
    "    * cela se fait avec la bibliothèque IPython pour l'affichage des image en Python\n",
    "    * se qui apparait encadrer en rouge correspond au travail que nous avons déja réalisé"
   ]
  },
  {
   "cell_type": "code",
   "execution_count": 129,
   "metadata": {},
   "outputs": [],
   "source": [
    "#from IPython.display import Image\n",
    "#Image('print1.png')"
   ]
  },
  {
   "cell_type": "markdown",
   "metadata": {},
   "source": [
    "## Définition du modèle"
   ]
  },
  {
   "cell_type": "markdown",
   "metadata": {},
   "source": [
    "Nous allons utiliser les deux modèles les plus utilisé de sklearn,\n",
    "- naives bayes \n",
    "- La regression Logistique : dans le module linear_model"
   ]
  },
  {
   "cell_type": "code",
   "execution_count": 100,
   "metadata": {},
   "outputs": [],
   "source": [
    "from sklearn.linear_model import LogisticRegression"
   ]
  },
  {
   "cell_type": "code",
   "execution_count": 111,
   "metadata": {},
   "outputs": [],
   "source": [
    "#de la meme façon on va instancier la classe Logisticregression\n",
    "# cette classe a aussi plusiers param que nous pouvons consulter dans la documentation\n",
    "# nous ajoutons le nombre d'itération a 200 afin de faire converger nos solveur sinon notre modèle ne convergera pas( voir la documentation de LogisticRegression)\n",
    "# par default cette valeur vaut 100 essayer de la laisser par defaut et vous verez une putain d'erreur de convergence\n",
    "\n",
    "regressionLogistic_Classified = LogisticRegression(solver='lbfgs', max_iter=200)"
   ]
  },
  {
   "cell_type": "code",
   "execution_count": 112,
   "metadata": {},
   "outputs": [],
   "source": [
    "#conversion de notre Label en Int car notre colone de label etais tjr sous la forme de serie de dataframe nous le passons en int pour nos algo\n",
    "train_labels = train_labels.astype(int)"
   ]
  },
  {
   "cell_type": "code",
   "execution_count": 113,
   "metadata": {},
   "outputs": [],
   "source": [
    "# Normalisation de notre jeux de donnée afin d'éviter que certain feature soit plus important que d'autres et reductions de la memoire de calcul\n",
    "#dataset = dataset['Label'].value_counts(normalize = True)"
   ]
  },
  {
   "cell_type": "code",
   "execution_count": 114,
   "metadata": {},
   "outputs": [
    {
     "data": {
      "text/plain": [
       "<37894x10000 sparse matrix of type '<class 'numpy.int64'>'\n",
       "\twith 471397 stored elements in Compressed Sparse Row format>"
      ]
     },
     "execution_count": 114,
     "metadata": {},
     "output_type": "execute_result"
    }
   ],
   "source": [
    "X_train_count"
   ]
  },
  {
   "cell_type": "markdown",
   "metadata": {},
   "source": [
    "## Apprentissage du modèle"
   ]
  },
  {
   "cell_type": "code",
   "execution_count": 130,
   "metadata": {},
   "outputs": [
    {
     "data": {
      "text/plain": [
       "LogisticRegression(max_iter=200)"
      ]
     },
     "execution_count": 130,
     "metadata": {},
     "output_type": "execute_result"
    }
   ],
   "source": [
    "#Nous appelons encore notre fonction fit() qui prend cette fois en param nos donnée et nos label et essaie d'apprendre et de déviner la frontière\n",
    "#de décision entre les deux.\n",
    "\n",
    "regressionLogistic_Classified.fit(X_train_count,train_labels)"
   ]
  },
  {
   "cell_type": "code",
   "execution_count": 131,
   "metadata": {},
   "outputs": [],
   "source": [
    "#pour le travail, nous sommes a ce niveau\n",
    "#from IPython.display import Image\n",
    "#Image('printetape2.png')"
   ]
  },
  {
   "cell_type": "markdown",
   "metadata": {},
   "source": [
    "## Prédiction sur le jeu de test"
   ]
  },
  {
   "cell_type": "markdown",
   "metadata": {},
   "source": [
    "- on va appliquer les memes transformation sur notre jeu de test que nous avons appelé temp_test plus haut\n",
    "- on va laisser notre modèle déviner par la suite les labels et avec notre matrice de confuion on va essayer de voir si les réponse renvoyer correspondent au val attenduu"
   ]
  },
  {
   "cell_type": "code",
   "execution_count": 132,
   "metadata": {},
   "outputs": [
    {
     "data": {
      "text/plain": [
       "(4737,)"
      ]
     },
     "execution_count": 132,
     "metadata": {},
     "output_type": "execute_result"
    }
   ],
   "source": [
    "#Notre jeu de test a 4737 tweet\n",
    "temp_text.shape"
   ]
  },
  {
   "cell_type": "code",
   "execution_count": 133,
   "metadata": {},
   "outputs": [
    {
     "data": {
      "text/plain": [
       "(4737,)"
      ]
     },
     "execution_count": 133,
     "metadata": {},
     "output_type": "execute_result"
    }
   ],
   "source": [
    "temp_labels.shape"
   ]
  },
  {
   "cell_type": "code",
   "execution_count": 139,
   "metadata": {},
   "outputs": [],
   "source": [
    "# transformons notre jeu de test en vecteur (tokenization, suppression stopword mise en minuscule etc par CounVectorizer)\n",
    "#nous avons deja creer et instancier l'object fit_transform, ici nous allons directement l'utiliser afin qu'il garde les meme propirété que celle utilisé pouer \n",
    "# notre jeu d'entrainement\n",
    "\n",
    "X_test_count = count_vect.transform(temp_text)"
   ]
  },
  {
   "cell_type": "code",
   "execution_count": 140,
   "metadata": {},
   "outputs": [
    {
     "data": {
      "text/plain": [
       "<4737x10000 sparse matrix of type '<class 'numpy.int64'>'\n",
       "\twith 58304 stored elements in Compressed Sparse Row format>"
      ]
     },
     "execution_count": 140,
     "metadata": {},
     "output_type": "execute_result"
    }
   ],
   "source": [
    "X_test_count"
   ]
  },
  {
   "cell_type": "markdown",
   "metadata": {},
   "source": [
    "#### Prédictions\n"
   ]
  },
  {
   "cell_type": "code",
   "execution_count": 141,
   "metadata": {},
   "outputs": [],
   "source": [
    "# prédiction en utilisant notre modèle regressionLogistic_Classified avec la fonction predict() que nous avons entraîné\n",
    "predictions_on_test_data = regressionLogistic_Classified.predict(X_test_count)"
   ]
  },
  {
   "cell_type": "code",
   "execution_count": 142,
   "metadata": {},
   "outputs": [
    {
     "data": {
      "text/plain": [
       "array([0, 1, 0, ..., 1, 1, 0])"
      ]
     },
     "execution_count": 142,
     "metadata": {},
     "output_type": "execute_result"
    }
   ],
   "source": [
    "predictions_on_test_data"
   ]
  },
  {
   "cell_type": "code",
   "execution_count": 143,
   "metadata": {},
   "outputs": [
    {
     "data": {
      "text/plain": [
       "(4737,)"
      ]
     },
     "execution_count": 143,
     "metadata": {},
     "output_type": "execute_result"
    }
   ],
   "source": [
    "predictions_on_test_data.shape"
   ]
  },
  {
   "cell_type": "code",
   "execution_count": 144,
   "metadata": {},
   "outputs": [
    {
     "data": {
      "text/plain": [
       "4737"
      ]
     },
     "execution_count": 144,
     "metadata": {},
     "output_type": "execute_result"
    }
   ],
   "source": [
    "len(predictions_on_test_data)"
   ]
  },
  {
   "cell_type": "code",
   "execution_count": 159,
   "metadata": {},
   "outputs": [
    {
     "data": {
      "text/plain": [
       "0"
      ]
     },
     "execution_count": 159,
     "metadata": {},
     "output_type": "execute_result"
    }
   ],
   "source": [
    "predictions_on_test_data[0]"
   ]
  },
  {
   "cell_type": "code",
   "execution_count": 169,
   "metadata": {},
   "outputs": [],
   "source": [
    "#pasagge en array\n",
    "y_test = temp_labels.array"
   ]
  },
  {
   "cell_type": "code",
   "execution_count": 170,
   "metadata": {},
   "outputs": [
    {
     "data": {
      "text/plain": [
       "0"
      ]
     },
     "execution_count": 170,
     "metadata": {},
     "output_type": "execute_result"
    }
   ],
   "source": [
    "y_test[0]"
   ]
  },
  {
   "cell_type": "markdown",
   "metadata": {},
   "source": [
    "###### verifions si les labels correspondent a la table de prédiction\n",
    "######  nous pouvons le faire manuellement ou en utilisant sklearn dans accuracy_score"
   ]
  },
  {
   "cell_type": "markdown",
   "metadata": {},
   "source": [
    "- Manuellement"
   ]
  },
  {
   "cell_type": "code",
   "execution_count": 180,
   "metadata": {},
   "outputs": [],
   "source": [
    "# fonction qui compare les labels attendu au labels renvoyer par notre prediction\n",
    "\n",
    "def compareLabels(true_Label, predict_label):\n",
    "    comparaison={}\n",
    "    trouver = 0\n",
    "    manquer = 0\n",
    "    \n",
    "    for i in range (0, len(true_Label)):\n",
    "        if(true_Label[i]==predict_label[i]):\n",
    "            trouver = trouver + 1\n",
    "        else:\n",
    "            manquer = manquer + 1\n",
    "            \n",
    "    comparaison={'Bien prédit':trouver,'Mal prédit':manquer}\n",
    "    return comparaison\n",
    "        "
   ]
  },
  {
   "cell_type": "code",
   "execution_count": 181,
   "metadata": {},
   "outputs": [
    {
     "data": {
      "text/plain": [
       "{'Bien prédit': 4288, 'Mal prédit': 449}"
      ]
     },
     "execution_count": 181,
     "metadata": {},
     "output_type": "execute_result"
    }
   ],
   "source": [
    "#appel de la fonction sur notre data de test\n",
    "compareLabels(y_test,predictions_on_test_data)"
   ]
  },
  {
   "cell_type": "code",
   "execution_count": 213,
   "metadata": {},
   "outputs": [],
   "source": [
    "# Notre modèle classe très bien 4288 tweet et confond 449, sur nos 4737 donnée de jeu de test\n",
    "# nous pouvons calculer son pourcentage de réussite de facon manuelle\n",
    "\n",
    "def pourcentage_reussite(bienPredit, malPredit):\n",
    "    # on utilise de facon logique la règle de 3 en mathématique 3ème année premier cycle collège\n",
    "    \n",
    "    reussite = (bienPredit*100)/(bienPredit+malPredit)\n",
    "    print ('Le pourcentage de réussite est de %15f'%reussite,'%')\n",
    "    "
   ]
  },
  {
   "cell_type": "code",
   "execution_count": 214,
   "metadata": {},
   "outputs": [
    {
     "name": "stdout",
     "output_type": "stream",
     "text": [
      "Le pourcentage de réussite est de       90.521427 %\n"
     ]
    }
   ],
   "source": [
    "#applicagtion dans notre cas\n",
    "pourcentage_reussite(4288,449)"
   ]
  },
  {
   "cell_type": "markdown",
   "metadata": {},
   "source": [
    "- utilisation des methodes de sklearn pour évaluer le modèle\n"
   ]
  },
  {
   "cell_type": "code",
   "execution_count": 209,
   "metadata": {},
   "outputs": [],
   "source": [
    "from sklearn.metrics import accuracy_score"
   ]
  },
  {
   "cell_type": "code",
   "execution_count": 210,
   "metadata": {},
   "outputs": [
    {
     "data": {
      "text/plain": [
       "0.9052142706354233"
      ]
     },
     "execution_count": 210,
     "metadata": {},
     "output_type": "execute_result"
    }
   ],
   "source": [
    "accuracy_score(predictions_on_test_data,y_test)"
   ]
  },
  {
   "cell_type": "code",
   "execution_count": 215,
   "metadata": {},
   "outputs": [
    {
     "data": {
      "text/plain": [
       "0.9052142706354233"
      ]
     },
     "execution_count": 215,
     "metadata": {},
     "output_type": "execute_result"
    }
   ],
   "source": [
    "#nous pouvions également le faire de cette façon en utilisant directement notre modèle sur notre jeux de test\n",
    "regressionLogistic_Classified.score(X_test_count,y_test)"
   ]
  },
  {
   "cell_type": "markdown",
   "metadata": {},
   "source": [
    "## Actuellement écrivons la fonction permettant de dire si une phrase est de nature raciste ou pas "
   ]
  },
  {
   "cell_type": "code",
   "execution_count": 336,
   "metadata": {},
   "outputs": [],
   "source": [
    "#Cette fonction va prendre en paramètre une phrase et notre modèle prédiras si elle est d'orrigine raciste ou pas\n",
    "\n",
    "def determineNaturePhrase(sentence):\n",
    "    #vectorization de la phrase\n",
    "    sentence_count = count_vect.transform(sentence)\n",
    "    #prediction\n",
    "    valPredit = regressionLogistic_Classified.predict(sentence_count)\n",
    "    \n",
    "    #encoding\n",
    "    if(valPredit==0):\n",
    "        print('*--****--+++---*'*8)\n",
    "        print(\" | oooh! arrêté un peu! ce tweet n'ai pas du tous discriminant :-) je dirais qu'il ne faut pas voir le mal partous les mecs! :-)|\")\n",
    "        print('*--****--+++---*'*8)\n",
    "    else:\n",
    "        print('*--****--+++--*'*8)\n",
    "        print(\"| Vraiment! c'est pas du tous humain la discrimination! ce tweet incarne l'essence même de la discrimination merde! :-( |\")\n",
    "        print('*--****--+++--*'*8)\n",
    "    return valPredit"
   ]
  },
  {
   "cell_type": "code",
   "execution_count": 337,
   "metadata": {},
   "outputs": [],
   "source": [
    "sentence_test_negatif = ['your are a fucking black people i will kill you!']\n",
    "sentence_test_positive = ['life is good enjoy you times and try to be happy cheat!']"
   ]
  },
  {
   "cell_type": "code",
   "execution_count": 338,
   "metadata": {},
   "outputs": [
    {
     "data": {
      "text/plain": [
       "['your are a fucking black people i will kill you!']"
      ]
     },
     "execution_count": 338,
     "metadata": {},
     "output_type": "execute_result"
    }
   ],
   "source": [
    "sentence_test_negatif"
   ]
  },
  {
   "cell_type": "code",
   "execution_count": 339,
   "metadata": {},
   "outputs": [
    {
     "data": {
      "text/plain": [
       "list"
      ]
     },
     "execution_count": 339,
     "metadata": {},
     "output_type": "execute_result"
    }
   ],
   "source": [
    "type(sentence_test_negatif)"
   ]
  },
  {
   "cell_type": "code",
   "execution_count": 340,
   "metadata": {},
   "outputs": [
    {
     "name": "stdout",
     "output_type": "stream",
     "text": [
      "*--****--+++--**--****--+++--**--****--+++--**--****--+++--**--****--+++--**--****--+++--**--****--+++--**--****--+++--*\n",
      "| Vraiment! c'est pas du tous humain la discrimination! ce tweet incarne l'essence même de la discrimination merde! :-( |\n",
      "*--****--+++--**--****--+++--**--****--+++--**--****--+++--**--****--+++--**--****--+++--**--****--+++--**--****--+++--*\n"
     ]
    },
    {
     "data": {
      "text/plain": [
       "array([1])"
      ]
     },
     "execution_count": 340,
     "metadata": {},
     "output_type": "execute_result"
    }
   ],
   "source": [
    "#exemple de tweet discriminant\n",
    "determineNaturePhrase(sentence_test_negatif)"
   ]
  },
  {
   "cell_type": "code",
   "execution_count": 341,
   "metadata": {},
   "outputs": [
    {
     "name": "stdout",
     "output_type": "stream",
     "text": [
      "*--****--+++---**--****--+++---**--****--+++---**--****--+++---**--****--+++---**--****--+++---**--****--+++---**--****--+++---*\n",
      " | oooh! arrêté un peu! ce tweet n'ai pas du tous discriminant :-) je dirais qu'il ne faut pas voir le mal partous les mecs! :-)|\n",
      "*--****--+++---**--****--+++---**--****--+++---**--****--+++---**--****--+++---**--****--+++---**--****--+++---**--****--+++---*\n"
     ]
    },
    {
     "data": {
      "text/plain": [
       "array([0])"
      ]
     },
     "execution_count": 341,
     "metadata": {},
     "output_type": "execute_result"
    }
   ],
   "source": [
    "#exemple de tweet non discriminant\n",
    "determineNaturePhrase(sentence_test_positive)"
   ]
  },
  {
   "cell_type": "markdown",
   "metadata": {},
   "source": [
    "# 2- TF-IDF + Naive Bayes Classifier"
   ]
  },
  {
   "cell_type": "code",
   "execution_count": 358,
   "metadata": {},
   "outputs": [
    {
     "name": "stderr",
     "output_type": "stream",
     "text": [
      "Matplotlib is building the font cache; this may take a moment.\n"
     ]
    }
   ],
   "source": [
    "import os\n",
    "import re\n",
    "from tqdm import tqdm\n",
    "import numpy as np\n",
    "import pandas as pd\n",
    "import matplotlib.pyplot as plt\n",
    "\n",
    "%matplotlib inline"
   ]
  },
  {
   "cell_type": "markdown",
   "metadata": {},
   "source": [
    "### Preprocessing"
   ]
  },
  {
   "cell_type": "code",
   "execution_count": 359,
   "metadata": {},
   "outputs": [
    {
     "name": "stderr",
     "output_type": "stream",
     "text": [
      "[nltk_data] Downloading package stopwords to /home/eric/nltk_data...\n",
      "[nltk_data]   Package stopwords is already up-to-date!\n"
     ]
    },
    {
     "data": {
      "text/plain": [
       "True"
      ]
     },
     "execution_count": 359,
     "metadata": {},
     "output_type": "execute_result"
    }
   ],
   "source": [
    "import nltk\n",
    "nltk.download(\"stopwords\")"
   ]
  },
  {
   "cell_type": "code",
   "execution_count": 360,
   "metadata": {},
   "outputs": [],
   "source": [
    "from nltk.corpus import stopwords"
   ]
  },
  {
   "cell_type": "code",
   "execution_count": 361,
   "metadata": {},
   "outputs": [],
   "source": [
    "#fonction de prétraitement totale des données pour le tf-idf\n",
    "def text_preprocessing(tweet):\n",
    "    \"\"\"\n",
    "    - transformation de maniscule en minuscule\n",
    "    - Changement de \"'t\" par \"not\"\n",
    "    - suppression \"@name\"\n",
    "    - isoler et supprimer les ponctuation sauf \"?\"\n",
    "    - supression des carractères spéciaux\n",
    "    - suppression des stopword (mots vide) a l'exception de \"not\" et \"can\"\n",
    "    - Supprimer les espaces blancs de fin\n",
    "    \"\"\"\n",
    "    #transformation de maniscule en minuscule\n",
    "    tweet = tweet.lower()\n",
    "    # Changement de \"'t\" par \"not\"\n",
    "    tweet = re.sub(r\"\\'t\", \" not\", tweet)\n",
    "    # suppression \"@name\"\n",
    "    tweet = re.sub(r'(@.*?)[\\s]', ' ', tweet)\n",
    "    # isoler et supprimer les ponctuation sauf \"?\"\n",
    "    tweet = re.sub(r'([\\'\\\"\\.\\(\\)\\!\\?\\\\\\/\\,])', r' \\1 ', tweet)\n",
    "    tweet = re.sub(r'[^\\w\\s\\?]', ' ', tweet)\n",
    "    # supression des carractères spéciaux\n",
    "    tweet = re.sub(r'([\\;\\:\\|•«\\n])', ' ', tweet)\n",
    "    # suppression des stopword (mots vide) a l'exception de \"not\" et \"can\"\n",
    "    tweet = \" \".join([word for word in tweet.split()\n",
    "                  if word not in stopwords.words('english')\n",
    "                  or word in ['not', 'can']])\n",
    "    # Supprimer les espaces blancs de fin\n",
    "    tweet = re.sub(r'\\s+', ' ', tweet).strip()\n",
    "    \n",
    "    return tweet"
   ]
  },
  {
   "cell_type": "markdown",
   "metadata": {},
   "source": [
    "## TF-IDF Vectorization"
   ]
  },
  {
   "cell_type": "code",
   "execution_count": 362,
   "metadata": {},
   "outputs": [],
   "source": [
    "#import de la bibliothèque de vectorization tf-idf\n",
    "from sklearn.feature_extraction.text import TfidfVectorizer\n",
    "import numpy as np\n",
    "\n",
    "#Nous utilisons le dataset decouper plus haut\n",
    "\n",
    "#jeu d'entrainement\n",
    "X_train = train_text\n",
    "y_train = train_labels\n",
    "\n",
    "#jeu de test\n",
    "X_test = temp_text\n",
    "y_test = temp_labels"
   ]
  },
  {
   "cell_type": "code",
   "execution_count": 363,
   "metadata": {},
   "outputs": [],
   "source": [
    "# traitement sur notre dataset\n",
    "X_train_preprocessing = np.array([text_preprocessing(text) for text in X_train])\n",
    "X_test_preprocessing = np.array([text_preprocessing(text) for text in X_test])"
   ]
  },
  {
   "cell_type": "code",
   "execution_count": 365,
   "metadata": {},
   "outputs": [
    {
     "data": {
      "text/plain": [
       "42631"
      ]
     },
     "execution_count": 365,
     "metadata": {},
     "output_type": "execute_result"
    }
   ],
   "source": [
    "len(X_train_preprocessing)"
   ]
  },
  {
   "cell_type": "code",
   "execution_count": 366,
   "metadata": {},
   "outputs": [
    {
     "data": {
      "text/plain": [
       "4737"
      ]
     },
     "execution_count": 366,
     "metadata": {},
     "output_type": "execute_result"
    }
   ],
   "source": [
    "len(X_test_preprocessing)"
   ]
  },
  {
   "cell_type": "code",
   "execution_count": 371,
   "metadata": {},
   "outputs": [],
   "source": [
    "# Calcul TF-IDF\n",
    "tf_idf = TfidfVectorizer(ngram_range=(1, 3),\n",
    "                         binary=True,\n",
    "                         smooth_idf=False)\n",
    "\n",
    "#vectorization du data train et data test\n",
    "X_train_tfidf = tf_idf.fit_transform(X_train_preprocessing)\n",
    "\n",
    "#reutilisation de fit_transform que nous avons deja utiliser sur le jeux d'entrainement\n",
    "X_test_tfidf = tf_idf.transform(X_test_preprocessing)"
   ]
  },
  {
   "cell_type": "code",
   "execution_count": 372,
   "metadata": {},
   "outputs": [
    {
     "data": {
      "text/plain": [
       "<42631x494872 sparse matrix of type '<class 'numpy.float64'>'\n",
       "\twith 998112 stored elements in Compressed Sparse Row format>"
      ]
     },
     "execution_count": 372,
     "metadata": {},
     "output_type": "execute_result"
    }
   ],
   "source": [
    "X_train_tfidf"
   ]
  },
  {
   "cell_type": "code",
   "execution_count": 373,
   "metadata": {},
   "outputs": [
    {
     "data": {
      "text/plain": [
       "<4737x494872 sparse matrix of type '<class 'numpy.float64'>'\n",
       "\twith 66756 stored elements in Compressed Sparse Row format>"
      ]
     },
     "execution_count": 373,
     "metadata": {},
     "output_type": "execute_result"
    }
   ],
   "source": [
    "X_test_tfidf"
   ]
  },
  {
   "cell_type": "markdown",
   "metadata": {},
   "source": [
    "## Entrainement Naive Bayes Classifier"
   ]
  },
  {
   "cell_type": "markdown",
   "metadata": {},
   "source": [
    "#### Nous utiliserons la validation croisée et le score AUC pour régler les hyperparamètres de notre modèle. \n",
    "- La fonction get_auc_CV renverra le score AUC moyen de la validation croisée."
   ]
  },
  {
   "cell_type": "code",
   "execution_count": 374,
   "metadata": {},
   "outputs": [],
   "source": [
    "from sklearn.model_selection import StratifiedKFold, cross_val_score\n",
    "\n",
    "def get_auc_CV(model):\n",
    "    \"\"\"\n",
    "    Renvoie le score AUC moyen de la validation croisée.    \n",
    "    \"\"\"\n",
    "    \n",
    "    # Réglons le KFold pour mélanger les données avant le fractionnement\n",
    "    kf = StratifiedKFold(5, shuffle=True, random_state=1)\n",
    "\n",
    "    # obtentions des score et la précision (accuracy)\n",
    "    auc = cross_val_score(\n",
    "        model, X_train_tfidf, y_train, scoring=\"roc_auc\", cv=kf)\n",
    "\n",
    "    return auc.mean()"
   ]
  },
  {
   "cell_type": "code",
   "execution_count": 378,
   "metadata": {},
   "outputs": [
    {
     "name": "stderr",
     "output_type": "stream",
     "text": [
      "/home/eric/anaconda3/envs/NLPMachineLearning/lib/python3.7/site-packages/sklearn/utils/validation.py:70: FutureWarning: Pass alpha=1.0 as keyword args. From version 0.25 passing these as positional arguments will result in an error\n",
      "  FutureWarning)\n",
      "/home/eric/anaconda3/envs/NLPMachineLearning/lib/python3.7/site-packages/sklearn/utils/validation.py:70: FutureWarning: Pass alpha=1.1 as keyword args. From version 0.25 passing these as positional arguments will result in an error\n",
      "  FutureWarning)\n",
      "/home/eric/anaconda3/envs/NLPMachineLearning/lib/python3.7/site-packages/sklearn/utils/validation.py:70: FutureWarning: Pass alpha=1.2000000000000002 as keyword args. From version 0.25 passing these as positional arguments will result in an error\n",
      "  FutureWarning)\n",
      "/home/eric/anaconda3/envs/NLPMachineLearning/lib/python3.7/site-packages/sklearn/utils/validation.py:70: FutureWarning: Pass alpha=1.3000000000000003 as keyword args. From version 0.25 passing these as positional arguments will result in an error\n",
      "  FutureWarning)\n",
      "/home/eric/anaconda3/envs/NLPMachineLearning/lib/python3.7/site-packages/sklearn/utils/validation.py:70: FutureWarning: Pass alpha=1.4000000000000004 as keyword args. From version 0.25 passing these as positional arguments will result in an error\n",
      "  FutureWarning)\n",
      "/home/eric/anaconda3/envs/NLPMachineLearning/lib/python3.7/site-packages/sklearn/utils/validation.py:70: FutureWarning: Pass alpha=1.5000000000000004 as keyword args. From version 0.25 passing these as positional arguments will result in an error\n",
      "  FutureWarning)\n",
      "/home/eric/anaconda3/envs/NLPMachineLearning/lib/python3.7/site-packages/sklearn/utils/validation.py:70: FutureWarning: Pass alpha=1.6000000000000005 as keyword args. From version 0.25 passing these as positional arguments will result in an error\n",
      "  FutureWarning)\n",
      "/home/eric/anaconda3/envs/NLPMachineLearning/lib/python3.7/site-packages/sklearn/utils/validation.py:70: FutureWarning: Pass alpha=1.7000000000000006 as keyword args. From version 0.25 passing these as positional arguments will result in an error\n",
      "  FutureWarning)\n",
      "/home/eric/anaconda3/envs/NLPMachineLearning/lib/python3.7/site-packages/sklearn/utils/validation.py:70: FutureWarning: Pass alpha=1.8000000000000007 as keyword args. From version 0.25 passing these as positional arguments will result in an error\n",
      "  FutureWarning)\n",
      "/home/eric/anaconda3/envs/NLPMachineLearning/lib/python3.7/site-packages/sklearn/utils/validation.py:70: FutureWarning: Pass alpha=1.9000000000000008 as keyword args. From version 0.25 passing these as positional arguments will result in an error\n",
      "  FutureWarning)\n",
      "/home/eric/anaconda3/envs/NLPMachineLearning/lib/python3.7/site-packages/sklearn/utils/validation.py:70: FutureWarning: Pass alpha=2.000000000000001 as keyword args. From version 0.25 passing these as positional arguments will result in an error\n",
      "  FutureWarning)\n",
      "/home/eric/anaconda3/envs/NLPMachineLearning/lib/python3.7/site-packages/sklearn/utils/validation.py:70: FutureWarning: Pass alpha=2.100000000000001 as keyword args. From version 0.25 passing these as positional arguments will result in an error\n",
      "  FutureWarning)\n",
      "/home/eric/anaconda3/envs/NLPMachineLearning/lib/python3.7/site-packages/sklearn/utils/validation.py:70: FutureWarning: Pass alpha=2.200000000000001 as keyword args. From version 0.25 passing these as positional arguments will result in an error\n",
      "  FutureWarning)\n",
      "/home/eric/anaconda3/envs/NLPMachineLearning/lib/python3.7/site-packages/sklearn/utils/validation.py:70: FutureWarning: Pass alpha=2.300000000000001 as keyword args. From version 0.25 passing these as positional arguments will result in an error\n",
      "  FutureWarning)\n",
      "/home/eric/anaconda3/envs/NLPMachineLearning/lib/python3.7/site-packages/sklearn/utils/validation.py:70: FutureWarning: Pass alpha=2.4000000000000012 as keyword args. From version 0.25 passing these as positional arguments will result in an error\n",
      "  FutureWarning)\n",
      "/home/eric/anaconda3/envs/NLPMachineLearning/lib/python3.7/site-packages/sklearn/utils/validation.py:70: FutureWarning: Pass alpha=2.5000000000000013 as keyword args. From version 0.25 passing these as positional arguments will result in an error\n",
      "  FutureWarning)\n",
      "/home/eric/anaconda3/envs/NLPMachineLearning/lib/python3.7/site-packages/sklearn/utils/validation.py:70: FutureWarning: Pass alpha=2.6000000000000014 as keyword args. From version 0.25 passing these as positional arguments will result in an error\n",
      "  FutureWarning)\n",
      "/home/eric/anaconda3/envs/NLPMachineLearning/lib/python3.7/site-packages/sklearn/utils/validation.py:70: FutureWarning: Pass alpha=2.7000000000000015 as keyword args. From version 0.25 passing these as positional arguments will result in an error\n",
      "  FutureWarning)\n",
      "/home/eric/anaconda3/envs/NLPMachineLearning/lib/python3.7/site-packages/sklearn/utils/validation.py:70: FutureWarning: Pass alpha=2.8000000000000016 as keyword args. From version 0.25 passing these as positional arguments will result in an error\n",
      "  FutureWarning)\n",
      "/home/eric/anaconda3/envs/NLPMachineLearning/lib/python3.7/site-packages/sklearn/utils/validation.py:70: FutureWarning: Pass alpha=2.9000000000000017 as keyword args. From version 0.25 passing these as positional arguments will result in an error\n",
      "  FutureWarning)\n",
      "/home/eric/anaconda3/envs/NLPMachineLearning/lib/python3.7/site-packages/sklearn/utils/validation.py:70: FutureWarning: Pass alpha=3.0000000000000018 as keyword args. From version 0.25 passing these as positional arguments will result in an error\n",
      "  FutureWarning)\n",
      "/home/eric/anaconda3/envs/NLPMachineLearning/lib/python3.7/site-packages/sklearn/utils/validation.py:70: FutureWarning: Pass alpha=3.100000000000002 as keyword args. From version 0.25 passing these as positional arguments will result in an error\n",
      "  FutureWarning)\n",
      "/home/eric/anaconda3/envs/NLPMachineLearning/lib/python3.7/site-packages/sklearn/utils/validation.py:70: FutureWarning: Pass alpha=3.200000000000002 as keyword args. From version 0.25 passing these as positional arguments will result in an error\n",
      "  FutureWarning)\n",
      "/home/eric/anaconda3/envs/NLPMachineLearning/lib/python3.7/site-packages/sklearn/utils/validation.py:70: FutureWarning: Pass alpha=3.300000000000002 as keyword args. From version 0.25 passing these as positional arguments will result in an error\n",
      "  FutureWarning)\n",
      "/home/eric/anaconda3/envs/NLPMachineLearning/lib/python3.7/site-packages/sklearn/utils/validation.py:70: FutureWarning: Pass alpha=3.400000000000002 as keyword args. From version 0.25 passing these as positional arguments will result in an error\n",
      "  FutureWarning)\n",
      "/home/eric/anaconda3/envs/NLPMachineLearning/lib/python3.7/site-packages/sklearn/utils/validation.py:70: FutureWarning: Pass alpha=3.500000000000002 as keyword args. From version 0.25 passing these as positional arguments will result in an error\n",
      "  FutureWarning)\n",
      "/home/eric/anaconda3/envs/NLPMachineLearning/lib/python3.7/site-packages/sklearn/utils/validation.py:70: FutureWarning: Pass alpha=3.6000000000000023 as keyword args. From version 0.25 passing these as positional arguments will result in an error\n",
      "  FutureWarning)\n",
      "/home/eric/anaconda3/envs/NLPMachineLearning/lib/python3.7/site-packages/sklearn/utils/validation.py:70: FutureWarning: Pass alpha=3.7000000000000024 as keyword args. From version 0.25 passing these as positional arguments will result in an error\n",
      "  FutureWarning)\n",
      "/home/eric/anaconda3/envs/NLPMachineLearning/lib/python3.7/site-packages/sklearn/utils/validation.py:70: FutureWarning: Pass alpha=3.8000000000000025 as keyword args. From version 0.25 passing these as positional arguments will result in an error\n",
      "  FutureWarning)\n",
      "/home/eric/anaconda3/envs/NLPMachineLearning/lib/python3.7/site-packages/sklearn/utils/validation.py:70: FutureWarning: Pass alpha=3.9000000000000026 as keyword args. From version 0.25 passing these as positional arguments will result in an error\n",
      "  FutureWarning)\n",
      "/home/eric/anaconda3/envs/NLPMachineLearning/lib/python3.7/site-packages/sklearn/utils/validation.py:70: FutureWarning: Pass alpha=4.000000000000003 as keyword args. From version 0.25 passing these as positional arguments will result in an error\n",
      "  FutureWarning)\n",
      "/home/eric/anaconda3/envs/NLPMachineLearning/lib/python3.7/site-packages/sklearn/utils/validation.py:70: FutureWarning: Pass alpha=4.100000000000003 as keyword args. From version 0.25 passing these as positional arguments will result in an error\n",
      "  FutureWarning)\n",
      "/home/eric/anaconda3/envs/NLPMachineLearning/lib/python3.7/site-packages/sklearn/utils/validation.py:70: FutureWarning: Pass alpha=4.200000000000003 as keyword args. From version 0.25 passing these as positional arguments will result in an error\n",
      "  FutureWarning)\n",
      "/home/eric/anaconda3/envs/NLPMachineLearning/lib/python3.7/site-packages/sklearn/utils/validation.py:70: FutureWarning: Pass alpha=4.3000000000000025 as keyword args. From version 0.25 passing these as positional arguments will result in an error\n",
      "  FutureWarning)\n",
      "/home/eric/anaconda3/envs/NLPMachineLearning/lib/python3.7/site-packages/sklearn/utils/validation.py:70: FutureWarning: Pass alpha=4.400000000000003 as keyword args. From version 0.25 passing these as positional arguments will result in an error\n",
      "  FutureWarning)\n",
      "/home/eric/anaconda3/envs/NLPMachineLearning/lib/python3.7/site-packages/sklearn/utils/validation.py:70: FutureWarning: Pass alpha=4.5000000000000036 as keyword args. From version 0.25 passing these as positional arguments will result in an error\n",
      "  FutureWarning)\n",
      "/home/eric/anaconda3/envs/NLPMachineLearning/lib/python3.7/site-packages/sklearn/utils/validation.py:70: FutureWarning: Pass alpha=4.600000000000003 as keyword args. From version 0.25 passing these as positional arguments will result in an error\n",
      "  FutureWarning)\n",
      "/home/eric/anaconda3/envs/NLPMachineLearning/lib/python3.7/site-packages/sklearn/utils/validation.py:70: FutureWarning: Pass alpha=4.700000000000003 as keyword args. From version 0.25 passing these as positional arguments will result in an error\n",
      "  FutureWarning)\n",
      "/home/eric/anaconda3/envs/NLPMachineLearning/lib/python3.7/site-packages/sklearn/utils/validation.py:70: FutureWarning: Pass alpha=4.800000000000003 as keyword args. From version 0.25 passing these as positional arguments will result in an error\n",
      "  FutureWarning)\n",
      "/home/eric/anaconda3/envs/NLPMachineLearning/lib/python3.7/site-packages/sklearn/utils/validation.py:70: FutureWarning: Pass alpha=4.900000000000004 as keyword args. From version 0.25 passing these as positional arguments will result in an error\n",
      "  FutureWarning)\n",
      "/home/eric/anaconda3/envs/NLPMachineLearning/lib/python3.7/site-packages/sklearn/utils/validation.py:70: FutureWarning: Pass alpha=5.0000000000000036 as keyword args. From version 0.25 passing these as positional arguments will result in an error\n",
      "  FutureWarning)\n",
      "/home/eric/anaconda3/envs/NLPMachineLearning/lib/python3.7/site-packages/sklearn/utils/validation.py:70: FutureWarning: Pass alpha=5.100000000000003 as keyword args. From version 0.25 passing these as positional arguments will result in an error\n",
      "  FutureWarning)\n",
      "/home/eric/anaconda3/envs/NLPMachineLearning/lib/python3.7/site-packages/sklearn/utils/validation.py:70: FutureWarning: Pass alpha=5.200000000000004 as keyword args. From version 0.25 passing these as positional arguments will result in an error\n",
      "  FutureWarning)\n",
      "/home/eric/anaconda3/envs/NLPMachineLearning/lib/python3.7/site-packages/sklearn/utils/validation.py:70: FutureWarning: Pass alpha=5.300000000000004 as keyword args. From version 0.25 passing these as positional arguments will result in an error\n",
      "  FutureWarning)\n",
      "/home/eric/anaconda3/envs/NLPMachineLearning/lib/python3.7/site-packages/sklearn/utils/validation.py:70: FutureWarning: Pass alpha=5.400000000000004 as keyword args. From version 0.25 passing these as positional arguments will result in an error\n",
      "  FutureWarning)\n",
      "/home/eric/anaconda3/envs/NLPMachineLearning/lib/python3.7/site-packages/sklearn/utils/validation.py:70: FutureWarning: Pass alpha=5.5000000000000036 as keyword args. From version 0.25 passing these as positional arguments will result in an error\n",
      "  FutureWarning)\n",
      "/home/eric/anaconda3/envs/NLPMachineLearning/lib/python3.7/site-packages/sklearn/utils/validation.py:70: FutureWarning: Pass alpha=5.600000000000004 as keyword args. From version 0.25 passing these as positional arguments will result in an error\n",
      "  FutureWarning)\n",
      "/home/eric/anaconda3/envs/NLPMachineLearning/lib/python3.7/site-packages/sklearn/utils/validation.py:70: FutureWarning: Pass alpha=5.700000000000005 as keyword args. From version 0.25 passing these as positional arguments will result in an error\n",
      "  FutureWarning)\n",
      "/home/eric/anaconda3/envs/NLPMachineLearning/lib/python3.7/site-packages/sklearn/utils/validation.py:70: FutureWarning: Pass alpha=5.800000000000004 as keyword args. From version 0.25 passing these as positional arguments will result in an error\n",
      "  FutureWarning)\n",
      "/home/eric/anaconda3/envs/NLPMachineLearning/lib/python3.7/site-packages/sklearn/utils/validation.py:70: FutureWarning: Pass alpha=5.900000000000004 as keyword args. From version 0.25 passing these as positional arguments will result in an error\n",
      "  FutureWarning)\n",
      "/home/eric/anaconda3/envs/NLPMachineLearning/lib/python3.7/site-packages/sklearn/utils/validation.py:70: FutureWarning: Pass alpha=6.000000000000004 as keyword args. From version 0.25 passing these as positional arguments will result in an error\n",
      "  FutureWarning)\n",
      "/home/eric/anaconda3/envs/NLPMachineLearning/lib/python3.7/site-packages/sklearn/utils/validation.py:70: FutureWarning: Pass alpha=6.100000000000005 as keyword args. From version 0.25 passing these as positional arguments will result in an error\n",
      "  FutureWarning)\n",
      "/home/eric/anaconda3/envs/NLPMachineLearning/lib/python3.7/site-packages/sklearn/utils/validation.py:70: FutureWarning: Pass alpha=6.200000000000005 as keyword args. From version 0.25 passing these as positional arguments will result in an error\n",
      "  FutureWarning)\n",
      "/home/eric/anaconda3/envs/NLPMachineLearning/lib/python3.7/site-packages/sklearn/utils/validation.py:70: FutureWarning: Pass alpha=6.300000000000004 as keyword args. From version 0.25 passing these as positional arguments will result in an error\n",
      "  FutureWarning)\n",
      "/home/eric/anaconda3/envs/NLPMachineLearning/lib/python3.7/site-packages/sklearn/utils/validation.py:70: FutureWarning: Pass alpha=6.400000000000005 as keyword args. From version 0.25 passing these as positional arguments will result in an error\n",
      "  FutureWarning)\n",
      "/home/eric/anaconda3/envs/NLPMachineLearning/lib/python3.7/site-packages/sklearn/utils/validation.py:70: FutureWarning: Pass alpha=6.500000000000005 as keyword args. From version 0.25 passing these as positional arguments will result in an error\n",
      "  FutureWarning)\n",
      "/home/eric/anaconda3/envs/NLPMachineLearning/lib/python3.7/site-packages/sklearn/utils/validation.py:70: FutureWarning: Pass alpha=6.600000000000005 as keyword args. From version 0.25 passing these as positional arguments will result in an error\n",
      "  FutureWarning)\n",
      "/home/eric/anaconda3/envs/NLPMachineLearning/lib/python3.7/site-packages/sklearn/utils/validation.py:70: FutureWarning: Pass alpha=6.700000000000005 as keyword args. From version 0.25 passing these as positional arguments will result in an error\n",
      "  FutureWarning)\n",
      "/home/eric/anaconda3/envs/NLPMachineLearning/lib/python3.7/site-packages/sklearn/utils/validation.py:70: FutureWarning: Pass alpha=6.800000000000005 as keyword args. From version 0.25 passing these as positional arguments will result in an error\n",
      "  FutureWarning)\n",
      "/home/eric/anaconda3/envs/NLPMachineLearning/lib/python3.7/site-packages/sklearn/utils/validation.py:70: FutureWarning: Pass alpha=6.900000000000006 as keyword args. From version 0.25 passing these as positional arguments will result in an error\n",
      "  FutureWarning)\n",
      "/home/eric/anaconda3/envs/NLPMachineLearning/lib/python3.7/site-packages/sklearn/utils/validation.py:70: FutureWarning: Pass alpha=7.000000000000005 as keyword args. From version 0.25 passing these as positional arguments will result in an error\n",
      "  FutureWarning)\n",
      "/home/eric/anaconda3/envs/NLPMachineLearning/lib/python3.7/site-packages/sklearn/utils/validation.py:70: FutureWarning: Pass alpha=7.100000000000005 as keyword args. From version 0.25 passing these as positional arguments will result in an error\n",
      "  FutureWarning)\n",
      "/home/eric/anaconda3/envs/NLPMachineLearning/lib/python3.7/site-packages/sklearn/utils/validation.py:70: FutureWarning: Pass alpha=7.2000000000000055 as keyword args. From version 0.25 passing these as positional arguments will result in an error\n",
      "  FutureWarning)\n",
      "/home/eric/anaconda3/envs/NLPMachineLearning/lib/python3.7/site-packages/sklearn/utils/validation.py:70: FutureWarning: Pass alpha=7.300000000000006 as keyword args. From version 0.25 passing these as positional arguments will result in an error\n",
      "  FutureWarning)\n",
      "/home/eric/anaconda3/envs/NLPMachineLearning/lib/python3.7/site-packages/sklearn/utils/validation.py:70: FutureWarning: Pass alpha=7.400000000000006 as keyword args. From version 0.25 passing these as positional arguments will result in an error\n",
      "  FutureWarning)\n",
      "/home/eric/anaconda3/envs/NLPMachineLearning/lib/python3.7/site-packages/sklearn/utils/validation.py:70: FutureWarning: Pass alpha=7.500000000000005 as keyword args. From version 0.25 passing these as positional arguments will result in an error\n",
      "  FutureWarning)\n",
      "/home/eric/anaconda3/envs/NLPMachineLearning/lib/python3.7/site-packages/sklearn/utils/validation.py:70: FutureWarning: Pass alpha=7.600000000000006 as keyword args. From version 0.25 passing these as positional arguments will result in an error\n",
      "  FutureWarning)\n",
      "/home/eric/anaconda3/envs/NLPMachineLearning/lib/python3.7/site-packages/sklearn/utils/validation.py:70: FutureWarning: Pass alpha=7.700000000000006 as keyword args. From version 0.25 passing these as positional arguments will result in an error\n",
      "  FutureWarning)\n",
      "/home/eric/anaconda3/envs/NLPMachineLearning/lib/python3.7/site-packages/sklearn/utils/validation.py:70: FutureWarning: Pass alpha=7.800000000000006 as keyword args. From version 0.25 passing these as positional arguments will result in an error\n",
      "  FutureWarning)\n",
      "/home/eric/anaconda3/envs/NLPMachineLearning/lib/python3.7/site-packages/sklearn/utils/validation.py:70: FutureWarning: Pass alpha=7.900000000000006 as keyword args. From version 0.25 passing these as positional arguments will result in an error\n",
      "  FutureWarning)\n",
      "/home/eric/anaconda3/envs/NLPMachineLearning/lib/python3.7/site-packages/sklearn/utils/validation.py:70: FutureWarning: Pass alpha=8.000000000000007 as keyword args. From version 0.25 passing these as positional arguments will result in an error\n",
      "  FutureWarning)\n",
      "/home/eric/anaconda3/envs/NLPMachineLearning/lib/python3.7/site-packages/sklearn/utils/validation.py:70: FutureWarning: Pass alpha=8.100000000000007 as keyword args. From version 0.25 passing these as positional arguments will result in an error\n",
      "  FutureWarning)\n",
      "/home/eric/anaconda3/envs/NLPMachineLearning/lib/python3.7/site-packages/sklearn/utils/validation.py:70: FutureWarning: Pass alpha=8.200000000000006 as keyword args. From version 0.25 passing these as positional arguments will result in an error\n",
      "  FutureWarning)\n",
      "/home/eric/anaconda3/envs/NLPMachineLearning/lib/python3.7/site-packages/sklearn/utils/validation.py:70: FutureWarning: Pass alpha=8.300000000000006 as keyword args. From version 0.25 passing these as positional arguments will result in an error\n",
      "  FutureWarning)\n",
      "/home/eric/anaconda3/envs/NLPMachineLearning/lib/python3.7/site-packages/sklearn/utils/validation.py:70: FutureWarning: Pass alpha=8.400000000000006 as keyword args. From version 0.25 passing these as positional arguments will result in an error\n",
      "  FutureWarning)\n",
      "/home/eric/anaconda3/envs/NLPMachineLearning/lib/python3.7/site-packages/sklearn/utils/validation.py:70: FutureWarning: Pass alpha=8.500000000000007 as keyword args. From version 0.25 passing these as positional arguments will result in an error\n",
      "  FutureWarning)\n",
      "/home/eric/anaconda3/envs/NLPMachineLearning/lib/python3.7/site-packages/sklearn/utils/validation.py:70: FutureWarning: Pass alpha=8.600000000000007 as keyword args. From version 0.25 passing these as positional arguments will result in an error\n",
      "  FutureWarning)\n",
      "/home/eric/anaconda3/envs/NLPMachineLearning/lib/python3.7/site-packages/sklearn/utils/validation.py:70: FutureWarning: Pass alpha=8.700000000000006 as keyword args. From version 0.25 passing these as positional arguments will result in an error\n",
      "  FutureWarning)\n",
      "/home/eric/anaconda3/envs/NLPMachineLearning/lib/python3.7/site-packages/sklearn/utils/validation.py:70: FutureWarning: Pass alpha=8.800000000000008 as keyword args. From version 0.25 passing these as positional arguments will result in an error\n",
      "  FutureWarning)\n",
      "/home/eric/anaconda3/envs/NLPMachineLearning/lib/python3.7/site-packages/sklearn/utils/validation.py:70: FutureWarning: Pass alpha=8.900000000000007 as keyword args. From version 0.25 passing these as positional arguments will result in an error\n",
      "  FutureWarning)\n",
      "/home/eric/anaconda3/envs/NLPMachineLearning/lib/python3.7/site-packages/sklearn/utils/validation.py:70: FutureWarning: Pass alpha=9.000000000000007 as keyword args. From version 0.25 passing these as positional arguments will result in an error\n",
      "  FutureWarning)\n",
      "/home/eric/anaconda3/envs/NLPMachineLearning/lib/python3.7/site-packages/sklearn/utils/validation.py:70: FutureWarning: Pass alpha=9.100000000000007 as keyword args. From version 0.25 passing these as positional arguments will result in an error\n",
      "  FutureWarning)\n",
      "/home/eric/anaconda3/envs/NLPMachineLearning/lib/python3.7/site-packages/sklearn/utils/validation.py:70: FutureWarning: Pass alpha=9.200000000000006 as keyword args. From version 0.25 passing these as positional arguments will result in an error\n",
      "  FutureWarning)\n",
      "/home/eric/anaconda3/envs/NLPMachineLearning/lib/python3.7/site-packages/sklearn/utils/validation.py:70: FutureWarning: Pass alpha=9.300000000000008 as keyword args. From version 0.25 passing these as positional arguments will result in an error\n",
      "  FutureWarning)\n",
      "/home/eric/anaconda3/envs/NLPMachineLearning/lib/python3.7/site-packages/sklearn/utils/validation.py:70: FutureWarning: Pass alpha=9.400000000000007 as keyword args. From version 0.25 passing these as positional arguments will result in an error\n",
      "  FutureWarning)\n",
      "/home/eric/anaconda3/envs/NLPMachineLearning/lib/python3.7/site-packages/sklearn/utils/validation.py:70: FutureWarning: Pass alpha=9.500000000000007 as keyword args. From version 0.25 passing these as positional arguments will result in an error\n",
      "  FutureWarning)\n",
      "/home/eric/anaconda3/envs/NLPMachineLearning/lib/python3.7/site-packages/sklearn/utils/validation.py:70: FutureWarning: Pass alpha=9.600000000000009 as keyword args. From version 0.25 passing these as positional arguments will result in an error\n",
      "  FutureWarning)\n",
      "/home/eric/anaconda3/envs/NLPMachineLearning/lib/python3.7/site-packages/sklearn/utils/validation.py:70: FutureWarning: Pass alpha=9.700000000000008 as keyword args. From version 0.25 passing these as positional arguments will result in an error\n",
      "  FutureWarning)\n",
      "/home/eric/anaconda3/envs/NLPMachineLearning/lib/python3.7/site-packages/sklearn/utils/validation.py:70: FutureWarning: Pass alpha=9.800000000000008 as keyword args. From version 0.25 passing these as positional arguments will result in an error\n",
      "  FutureWarning)\n",
      "/home/eric/anaconda3/envs/NLPMachineLearning/lib/python3.7/site-packages/sklearn/utils/validation.py:70: FutureWarning: Pass alpha=9.900000000000007 as keyword args. From version 0.25 passing these as positional arguments will result in an error\n",
      "  FutureWarning)\n"
     ]
    },
    {
     "name": "stdout",
     "output_type": "stream",
     "text": [
      "La meilleur valeur de alpha est :  1.0\n"
     ]
    },
    {
     "data": {
      "image/png": "[encoded data removed]",
      "text/plain": [
       "<Figure size 432x288 with 1 Axes>"
      ]
     },
     "metadata": {
      "needs_background": "light"
     },
     "output_type": "display_data"
    }
   ],
   "source": [
    "#La classe MultinominalNB n'a qu'un seul hypterparamètre - alpha. \n",
    "#Le code ci-dessous nous aidera à trouver la valeur alpha qui nous donne le score CV AUC le plus élevé.\n",
    "\n",
    "from sklearn.naive_bayes import MultinomialNB\n",
    "\n",
    "res = pd.Series([get_auc_CV(MultinomialNB(i)) for i in np.arange(1, 10, 0.1)],index=np.arange(1, 10, 0.1))\n",
    "\n",
    "best_alpha = np.round(res.idxmax(), 2)\n",
    "print('La meilleur valeur de alpha est : ', best_alpha)\n",
    "\n",
    "plt.plot(res)\n",
    "plt.title('AUC vs. Alpha')\n",
    "plt.xlabel('Alpha')\n",
    "plt.ylabel('AUC')\n",
    "plt.show()"
   ]
  },
  {
   "cell_type": "markdown",
   "metadata": {},
   "source": [
    "## Evaluation sur les données de Validation \n",
    "- Pour évaluer les performances de notre modèle, nous calculerons le taux de précision et le score AUC de notre modèle sur l'ensemble de validation."
   ]
  },
  {
   "cell_type": "code",
   "execution_count": 381,
   "metadata": {},
   "outputs": [],
   "source": [
    "from sklearn.metrics import accuracy_score, roc_curve, auc\n",
    "\n",
    "def evaluate_roc(probs, y_true):\n",
    "    \"\"\"\n",
    "    - Imprimer de l'AUC et la précision sur l'ensemble de test \n",
    "    - Plot ROC \n",
    "    @params probs (np.array): un tableau de probabilités prédites de forme (len (y_true), 2) \n",
    "    @params y_true (np.array): un tableau des vraies valeurs avec forme (len (y_true),)\n",
    "    \"\"\"\n",
    "    preds = probs[:, 1]\n",
    "    fpr, tpr, threshold = roc_curve(y_true, preds)\n",
    "    roc_auc = auc(fpr, tpr)\n",
    "    print(f'AUC: {roc_auc:.4f}')\n",
    "       \n",
    "    # Obtention de la precision sur les data de tests\n",
    "    y_pred = np.where(preds >= 0.5, 1, 0)\n",
    "    accuracy = accuracy_score(y_true, y_pred)\n",
    "    print(f'Précision: {accuracy*100:.2f}%')\n",
    "    \n",
    "    # Plot ROC AUC\n",
    "    plt.title('Caractéristique de fonctionnement')\n",
    "    plt.plot(fpr, tpr, 'b', label = 'AUC = %0.2f' % roc_auc)\n",
    "    plt.legend(loc = 'lower right')\n",
    "    plt.plot([0, 1], [0, 1],'r--')\n",
    "    plt.xlim([0, 1])\n",
    "    plt.ylim([0, 1])\n",
    "    plt.ylabel('Taux vrai positif')\n",
    "    plt.xlabel('Taux de faux positifs')\n",
    "    plt.show()"
   ]
  },
  {
   "cell_type": "code",
   "execution_count": 382,
   "metadata": {},
   "outputs": [
    {
     "name": "stdout",
     "output_type": "stream",
     "text": [
      "AUC: 0.9435\n",
      "Précision: 79.67%\n"
     ]
    },
    {
     "data": {
      "image/png": "[encoded data removed]",
      "text/plain": [
       "<Figure size 432x288 with 1 Axes>"
      ]
     },
     "metadata": {
      "needs_background": "light"
     },
     "output_type": "display_data"
    }
   ],
   "source": [
    "# Compute predicted probabilities\n",
    "nb_model = MultinomialNB(alpha=1.8)\n",
    "nb_model.fit(X_train_tfidf, y_train)\n",
    "probs = nb_model.predict_proba(X_test_tfidf)\n",
    "\n",
    "# Evaluate the classifier\n",
    "evaluate_roc(probs, y_test)"
   ]
  },
  {
   "cell_type": "markdown",
   "metadata": {},
   "source": [
    "# -------------***********----------------------*****-------------"
   ]
  },
  {
   "cell_type": "markdown",
   "metadata": {},
   "source": [
    "# Fine-tuning BERT"
   ]
  },
  {
   "cell_type": "markdown",
   "metadata": {},
   "source": [
    "#### La bibliothèque de transformateurs de Hugging(transformers) Face contient l'implémentation PyTorch de modèles NLP de pointe, \n",
    "#### notamment BERT (de Google), GPT (d'OpenAI) ... et des poids de modèles pré-entraînés.\n",
    "\n",
    "- ### Tokenization et formatage des entrées \n",
    "    * Avant de tokeniser notre texte, nous effectuerons un léger traitement sur notre texte, y compris la suppression des mentions d'entité (par exemple @united, @name, etc) et certains caractères spéciaux.\n",
    "    * The level of processing here is much less than in previous approachs because BERT was trained with the entire sentences."
   ]
  },
  {
   "cell_type": "code",
   "execution_count": 384,
   "metadata": {},
   "outputs": [],
   "source": [
    "#preprocessing\n",
    "def text_preprocessing(text):\n",
    "    \"\"\"\n",
    "    - Supprissions des mentions d'entité et d'anotations (par exemple @united, @name) \n",
    "    - Corection et remplacemenyt des erreurs eet carractères spéciaux(par exemple. '&' À '&') \n",
    "    @param text (str): une chaîne à traiter. \n",
    "    @return text (Str): la chaîne traitée.\n",
    "    \"\"\"\n",
    "    # Supprissions des mentions d'entité et d'anotations (par exemple @united, @name)\n",
    "    text = re.sub(r'(@.*?)[\\s]', ' ', text)\n",
    "\n",
    "    # remplacement des carractères spéciaux (par exemple. '&' À '&')\n",
    "    text = re.sub(r'&amp;', '&', text)\n",
    "\n",
    "    # suppression des espace blanc, vide\n",
    "    text = re.sub(r'\\s+', ' ', text).strip()\n",
    "\n",
    "    return text"
   ]
  },
  {
   "cell_type": "code",
   "execution_count": null,
   "metadata": {},
   "outputs": [],
   "source": []
  }
 ],
 "metadata": {
  "kernelspec": {
   "display_name": "Python 3",
   "language": "python",
   "name": "python3"
  },
  "language_info": {
   "codemirror_mode": {
    "name": "ipython",
    "version": 3
   },
   "file_extension": ".py",
   "mimetype": "text/x-python",
   "name": "python",
   "nbconvert_exporter": "python",
   "pygments_lexer": "ipython3",
   "version": "3.7.8"
  }
 },
 "nbformat": 4,
 "nbformat_minor": 4
}
