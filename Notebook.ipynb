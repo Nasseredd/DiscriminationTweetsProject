{
 "cells": [
  {
   "cell_type": "code",
   "execution_count": 1,
   "metadata": {},
   "outputs": [],
   "source": [
    "import pandas as pd "
   ]
  },
  {
   "cell_type": "code",
   "execution_count": 7,
   "metadata": {},
   "outputs": [],
   "source": [
    "# Import the dataset \n",
    "file = 'Data/data.csv'\n",
    "dataframe = pd.read_csv(file, error_bad_lines=False, sep=\";\")"
   ]
  },
  {
   "cell_type": "code",
   "execution_count": 17,
   "metadata": {},
   "outputs": [
    {
     "data": {
      "text/plain": [
       "none      11005\n",
       "sexism     3110\n",
       "racism     1932\n",
       "none          2\n",
       "Name: Label, dtype: int64"
      ]
     },
     "execution_count": 17,
     "metadata": {},
     "output_type": "execute_result"
    }
   ],
   "source": [
    "# Discrimination categories \n",
    "dataframe['Label'].value_counts()"
   ]
  },
  {
   "cell_type": "code",
   "execution_count": 18,
   "metadata": {},
   "outputs": [],
   "source": [
    "# Delete IDs \n",
    "dataframe.drop('ID', axis=1, inplace=True)"
   ]
  },
  {
   "cell_type": "code",
   "execution_count": 20,
   "metadata": {},
   "outputs": [],
   "source": [
    "# First encoding \n",
    "dataframe['Label'].replace('none', 'not racist', inplace=True)\n",
    "dataframe['Label'].replace('racism', 'racist', inplace=True)"
   ]
  },
  {
   "cell_type": "code",
   "execution_count": 21,
   "metadata": {},
   "outputs": [],
   "source": [
    "# A copy of the original dataset \n",
    "df = dataframe.copy()"
   ]
  },
  {
   "cell_type": "code",
   "execution_count": 29,
   "metadata": {},
   "outputs": [
    {
     "data": {
      "text/html": [
       "<div>\n",
       "<style scoped>\n",
       "    .dataframe tbody tr th:only-of-type {\n",
       "        vertical-align: middle;\n",
       "    }\n",
       "\n",
       "    .dataframe tbody tr th {\n",
       "        vertical-align: top;\n",
       "    }\n",
       "\n",
       "    .dataframe thead th {\n",
       "        text-align: right;\n",
       "    }\n",
       "</style>\n",
       "<table border=\"1\" class=\"dataframe\">\n",
       "  <thead>\n",
       "    <tr style=\"text-align: right;\">\n",
       "      <th></th>\n",
       "      <th>Tweets</th>\n",
       "      <th>Label</th>\n",
       "    </tr>\n",
       "  </thead>\n",
       "  <tbody>\n",
       "    <tr>\n",
       "      <th>0</th>\n",
       "      <td>@azzamalirhabi @JihadiA8 This video of the Peshmerga decimating ISIS is far more interesting. https://t.co/d36g1z12NP</td>\n",
       "      <td>not racist</td>\n",
       "    </tr>\n",
       "    <tr>\n",
       "      <th>1</th>\n",
       "      <td>Oh really? No more instant restaurants? THAT'S SHOCKING. #MKR #MKR2015</td>\n",
       "      <td>not racist</td>\n",
       "    </tr>\n",
       "    <tr>\n",
       "      <th>2</th>\n",
       "      <td>RT @Benfrancisallen: It hasn't been a good few weeks for #ISIS. A new front has opened up in #Sinjar and they're about to lose...</td>\n",
       "      <td>not racist</td>\n",
       "    </tr>\n",
       "    <tr>\n",
       "      <th>3</th>\n",
       "      <td>RT @NoToFeminism: I donâ€™t need femisnsn because men carry heavy things that i cannot!!! like shopping, boxes, and a huge sen...</td>\n",
       "      <td>not racist</td>\n",
       "    </tr>\n",
       "    <tr>\n",
       "      <th>4</th>\n",
       "      <td>@MariachiMacabre 19% is not the vast majority</td>\n",
       "      <td>not racist</td>\n",
       "    </tr>\n",
       "    <tr>\n",
       "      <th>5</th>\n",
       "      <td>@DianH4 @ExposeFalsehood And it is Muslims who were the first crusaders, attacking the Christian world for centuries before it...</td>\n",
       "      <td>racist</td>\n",
       "    </tr>\n",
       "    <tr>\n",
       "      <th>6</th>\n",
       "      <td>@truaemusic @mattybboi83 @Number10gov Capital Hill is a great example of how seldom the world attacks Islam given the daily pr...</td>\n",
       "      <td>racist</td>\n",
       "    </tr>\n",
       "    <tr>\n",
       "      <th>7</th>\n",
       "      <td>RT @fruitondabottom: #FeminismisEQUALITYwhen Men are actually listened to and part of the dialog. #HeForShe #WomenAgainstFemin...</td>\n",
       "      <td>sexism</td>\n",
       "    </tr>\n",
       "    <tr>\n",
       "      <th>8</th>\n",
       "      <td>Gather round, kids. It's story time, brought to you by my good friend @jcmanous.</td>\n",
       "      <td>not racist</td>\n",
       "    </tr>\n",
       "    <tr>\n",
       "      <th>9</th>\n",
       "      <td>Did you hear that? That's the sound of a bunch of women in tech setting up filters to fwd emails from @ninaburleigh to /dev/nu...</td>\n",
       "      <td>not racist</td>\n",
       "    </tr>\n",
       "    <tr>\n",
       "      <th>10</th>\n",
       "      <td>@jobbers7 And western feminists are silent.</td>\n",
       "      <td>not racist</td>\n",
       "    </tr>\n",
       "    <tr>\n",
       "      <th>11</th>\n",
       "      <td>@NedGilmore you were the rogue? I don't usually wpvp when I'm questing :)</td>\n",
       "      <td>not racist</td>\n",
       "    </tr>\n",
       "    <tr>\n",
       "      <th>12</th>\n",
       "      <td>.@GRIMACHU Sounds a bit too much like \"separate but equal\". It's sexism, bias, bigotry, you name it. @MoJGovUK is clearly infe...</td>\n",
       "      <td>sexism</td>\n",
       "    </tr>\n",
       "    <tr>\n",
       "      <th>13</th>\n",
       "      <td>RT @triggerasaurus: I disagree with .@wadhwa but #stopwadhwa2015 makes me wonder if he's not an easy target for being an immig...</td>\n",
       "      <td>not racist</td>\n",
       "    </tr>\n",
       "    <tr>\n",
       "      <th>14</th>\n",
       "      <td>hot damn that checkout guy at coles tho ðŸ‘ŒðŸ‘Œ #mkr</td>\n",
       "      <td>not racist</td>\n",
       "    </tr>\n",
       "    <tr>\n",
       "      <th>15</th>\n",
       "      <td>Still the best website on the internet: http://t.co/IiibIFWNuW #stopwadhwa2015</td>\n",
       "      <td>not racist</td>\n",
       "    </tr>\n",
       "    <tr>\n",
       "      <th>16</th>\n",
       "      <td>@LifeInKhilafah You are right. The violent murdering Muslims are the only ones who understand the meaning of their religion.</td>\n",
       "      <td>racist</td>\n",
       "    </tr>\n",
       "    <tr>\n",
       "      <th>17</th>\n",
       "      <td>@ChrisWarcraft @alexlifschitz prove it. WHERE IS THE PROOF???</td>\n",
       "      <td>not racist</td>\n",
       "    </tr>\n",
       "    <tr>\n",
       "      <th>18</th>\n",
       "      <td>@PeerWorker uh. because one group is literally killing people? are you nuts?</td>\n",
       "      <td>not racist</td>\n",
       "    </tr>\n",
       "    <tr>\n",
       "      <th>19</th>\n",
       "      <td>@BrentonPoke yes</td>\n",
       "      <td>not racist</td>\n",
       "    </tr>\n",
       "  </tbody>\n",
       "</table>\n",
       "</div>"
      ],
      "text/plain": [
       "                                                                                                                               Tweets  \\\n",
       "0               @azzamalirhabi @JihadiA8 This video of the Peshmerga decimating ISIS is far more interesting. https://t.co/d36g1z12NP   \n",
       "1                                                              Oh really? No more instant restaurants? THAT'S SHOCKING. #MKR #MKR2015   \n",
       "2   RT @Benfrancisallen: It hasn't been a good few weeks for #ISIS. A new front has opened up in #Sinjar and they're about to lose...   \n",
       "3   RT @NoToFeminism: I donâ€™t need femisnsn because men carry heavy things that i cannot!!! like shopping, boxes, and a huge sen...   \n",
       "4                                                                                       @MariachiMacabre 19% is not the vast majority   \n",
       "5   @DianH4 @ExposeFalsehood And it is Muslims who were the first crusaders, attacking the Christian world for centuries before it...   \n",
       "6   @truaemusic @mattybboi83 @Number10gov Capital Hill is a great example of how seldom the world attacks Islam given the daily pr...   \n",
       "7   RT @fruitondabottom: #FeminismisEQUALITYwhen Men are actually listened to and part of the dialog. #HeForShe #WomenAgainstFemin...   \n",
       "8                                                    Gather round, kids. It's story time, brought to you by my good friend @jcmanous.   \n",
       "9   Did you hear that? That's the sound of a bunch of women in tech setting up filters to fwd emails from @ninaburleigh to /dev/nu...   \n",
       "10                                                                                        @jobbers7 And western feminists are silent.   \n",
       "11                                                          @NedGilmore you were the rogue? I don't usually wpvp when I'm questing :)   \n",
       "12  .@GRIMACHU Sounds a bit too much like \"separate but equal\". It's sexism, bias, bigotry, you name it. @MoJGovUK is clearly infe...   \n",
       "13  RT @triggerasaurus: I disagree with .@wadhwa but #stopwadhwa2015 makes me wonder if he's not an easy target for being an immig...   \n",
       "14                                                                              hot damn that checkout guy at coles tho ðŸ‘ŒðŸ‘Œ #mkr   \n",
       "15                                                     Still the best website on the internet: http://t.co/IiibIFWNuW #stopwadhwa2015   \n",
       "16       @LifeInKhilafah You are right. The violent murdering Muslims are the only ones who understand the meaning of their religion.   \n",
       "17                                                                      @ChrisWarcraft @alexlifschitz prove it. WHERE IS THE PROOF???   \n",
       "18                                                       @PeerWorker uh. because one group is literally killing people? are you nuts?   \n",
       "19                                                                                                                   @BrentonPoke yes   \n",
       "\n",
       "         Label  \n",
       "0   not racist  \n",
       "1   not racist  \n",
       "2   not racist  \n",
       "3   not racist  \n",
       "4   not racist  \n",
       "5       racist  \n",
       "6       racist  \n",
       "7       sexism  \n",
       "8   not racist  \n",
       "9   not racist  \n",
       "10  not racist  \n",
       "11  not racist  \n",
       "12      sexism  \n",
       "13  not racist  \n",
       "14  not racist  \n",
       "15  not racist  \n",
       "16      racist  \n",
       "17  not racist  \n",
       "18  not racist  \n",
       "19  not racist  "
      ]
     },
     "execution_count": 29,
     "metadata": {},
     "output_type": "execute_result"
    }
   ],
   "source": [
    "# First 20 tweets\n",
    "pd.options.display.max_colwidth = 130  # to see long tweets \n",
    "df.head(20)"
   ]
  },
  {
   "cell_type": "code",
   "execution_count": null,
   "metadata": {},
   "outputs": [],
   "source": []
  },
  {
   "cell_type": "code",
   "execution_count": null,
   "metadata": {},
   "outputs": [],
   "source": []
  }
 ],
 "metadata": {
  "kernelspec": {
   "display_name": "Python 3",
   "language": "python",
   "name": "python3"
  },
  "language_info": {
   "codemirror_mode": {
    "name": "ipython",
    "version": 3
   },
   "file_extension": ".py",
   "mimetype": "text/x-python",
   "name": "python",
   "nbconvert_exporter": "python",
   "pygments_lexer": "ipython3",
   "version": "3.7.4"
  }
 },
 "nbformat": 4,
 "nbformat_minor": 4
}
