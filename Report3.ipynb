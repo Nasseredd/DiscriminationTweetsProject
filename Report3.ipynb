{
 "cells": [
  {
   "cell_type": "markdown",
   "metadata": {},
   "source": [
    "## Libraries "
   ]
  },
  {
   "cell_type": "code",
   "execution_count": 2,
   "metadata": {},
   "outputs": [],
   "source": [
    "import pandas as pd "
   ]
  },
  {
   "cell_type": "markdown",
   "metadata": {},
   "source": [
    "## Build data sets "
   ]
  },
  {
   "cell_type": "markdown",
   "metadata": {},
   "source": [
    "**Wassem 1**"
   ]
  },
  {
   "cell_type": "code",
   "execution_count": 3,
   "metadata": {},
   "outputs": [],
   "source": [
    "wassem_1 = pd.read_csv('wassem_css.csv', sep='\\t', error_bad_lines=True)"
   ]
  },
  {
   "cell_type": "code",
   "execution_count": 4,
   "metadata": {},
   "outputs": [],
   "source": [
    "wassem_1 = wassem_1[['Text','Expert_Annotation']]\n",
    "racism_data_1 = wassem_1[wassem_1['Expert_Annotation']!='sexism']\n",
    "sexism_data_1 = wassem_1[wassem_1['Expert_Annotation']!='racism']"
   ]
  },
  {
   "cell_type": "code",
   "execution_count": 5,
   "metadata": {},
   "outputs": [
    {
     "data": {
      "text/plain": [
       "neither    5729\n",
       "racism       88\n",
       "both         35\n",
       "Name: Expert_Annotation, dtype: int64"
      ]
     },
     "execution_count": 5,
     "metadata": {},
     "output_type": "execute_result"
    }
   ],
   "source": [
    "racism_data_1['Expert_Annotation'].value_counts()"
   ]
  },
  {
   "cell_type": "code",
   "execution_count": 6,
   "metadata": {},
   "outputs": [
    {
     "data": {
      "text/plain": [
       "neither    5729\n",
       "sexism      815\n",
       "both         35\n",
       "Name: Expert_Annotation, dtype: int64"
      ]
     },
     "execution_count": 6,
     "metadata": {},
     "output_type": "execute_result"
    }
   ],
   "source": [
    "sexism_data_1['Expert_Annotation'].value_counts()"
   ]
  },
  {
   "cell_type": "markdown",
   "metadata": {},
   "source": [
    "**Wassem 2**"
   ]
  },
  {
   "cell_type": "code",
   "execution_count": 7,
   "metadata": {},
   "outputs": [],
   "source": [
    "wassem_2 = pd.read_csv('wassem_hovy_naacl.csv', sep='\\t')"
   ]
  },
  {
   "cell_type": "code",
   "execution_count": 8,
   "metadata": {},
   "outputs": [],
   "source": [
    "wassem_2 = wassem_2[['Text','Label']]\n",
    "racism_data_2 = wassem_2[wassem_2['Label']!='sexism']\n",
    "sexism_data_2 = wassem_2[wassem_2['Label']!='racism']"
   ]
  },
  {
   "cell_type": "code",
   "execution_count": 9,
   "metadata": {},
   "outputs": [
    {
     "data": {
      "text/plain": [
       "none      11115\n",
       "racism     1939\n",
       "Name: Label, dtype: int64"
      ]
     },
     "execution_count": 9,
     "metadata": {},
     "output_type": "execute_result"
    }
   ],
   "source": [
    "racism_data_2['Label'].value_counts()"
   ]
  },
  {
   "cell_type": "code",
   "execution_count": 10,
   "metadata": {},
   "outputs": [
    {
     "data": {
      "text/plain": [
       "none      11115\n",
       "sexism     3148\n",
       "Name: Label, dtype: int64"
      ]
     },
     "execution_count": 10,
     "metadata": {},
     "output_type": "execute_result"
    }
   ],
   "source": [
    "sexism_data_2['Label'].value_counts()"
   ]
  },
  {
   "cell_type": "markdown",
   "metadata": {},
   "source": [
    "**Racism Data** "
   ]
  },
  {
   "cell_type": "code",
   "execution_count": 11,
   "metadata": {},
   "outputs": [
    {
     "data": {
      "text/plain": [
       "0    16844\n",
       "1     2062\n",
       "Name: Label, dtype: int64"
      ]
     },
     "execution_count": 11,
     "metadata": {},
     "output_type": "execute_result"
    }
   ],
   "source": [
    "racism_data_1.columns = ['Tweets','Label']\n",
    "racism_data_2.columns = ['Tweets','Label']\n",
    "\n",
    "racism = pd.concat([racism_data_1,racism_data_2], axis=0, ignore_index=True)\n",
    "racism['Label'].value_counts()\n",
    "\n",
    "# Encoding \n",
    "racism['Label'].replace('none','0', inplace=True)\n",
    "racism['Label'].replace('neither','0', inplace=True)\n",
    "racism['Label'].replace('racism','1', inplace=True)\n",
    "racism['Label'].replace('both','1', inplace=True)\n",
    "\n",
    "# Racist Vs Not Racist \n",
    "racism['Label'].value_counts()"
   ]
  },
  {
   "cell_type": "markdown",
   "metadata": {},
   "source": [
    "**Sexism Data**"
   ]
  },
  {
   "cell_type": "code",
   "execution_count": 12,
   "metadata": {},
   "outputs": [
    {
     "data": {
      "text/plain": [
       "0    16844\n",
       "1     3998\n",
       "Name: Label, dtype: int64"
      ]
     },
     "execution_count": 12,
     "metadata": {},
     "output_type": "execute_result"
    }
   ],
   "source": [
    "sexism_data_1.columns = ['Tweets','Label']\n",
    "sexism_data_2.columns = ['Tweets','Label']\n",
    "\n",
    "sexism = pd.concat([sexism_data_1,sexism_data_2], axis=0, ignore_index=True)\n",
    "sexism['Label'].value_counts()\n",
    "\n",
    "# Encoding \n",
    "sexism['Label'].replace('none','0', inplace=True)\n",
    "sexism['Label'].replace('neither','0', inplace=True)\n",
    "sexism['Label'].replace('sexism','1', inplace=True)\n",
    "sexism['Label'].replace('both','1', inplace=True)\n",
    "\n",
    "# Racist Vs Not Racist \n",
    "sexism['Label'].value_counts()"
   ]
  },
  {
   "cell_type": "markdown",
   "metadata": {},
   "source": [
    "# Racism Recognition in Tweets "
   ]
  },
  {
   "cell_type": "markdown",
   "metadata": {},
   "source": [
    "### Data "
   ]
  },
  {
   "cell_type": "code",
   "execution_count": 13,
   "metadata": {},
   "outputs": [
    {
     "data": {
      "text/html": [
       "<div>\n",
       "<style scoped>\n",
       "    .dataframe tbody tr th:only-of-type {\n",
       "        vertical-align: middle;\n",
       "    }\n",
       "\n",
       "    .dataframe tbody tr th {\n",
       "        vertical-align: top;\n",
       "    }\n",
       "\n",
       "    .dataframe thead th {\n",
       "        text-align: right;\n",
       "    }\n",
       "</style>\n",
       "<table border=\"1\" class=\"dataframe\">\n",
       "  <thead>\n",
       "    <tr style=\"text-align: right;\">\n",
       "      <th></th>\n",
       "      <th>Tweets</th>\n",
       "      <th>Label</th>\n",
       "    </tr>\n",
       "  </thead>\n",
       "  <tbody>\n",
       "    <tr>\n",
       "      <th>0</th>\n",
       "      <td>@TVBachelor @NewJerzeyBoy what about the femin...</td>\n",
       "      <td>1</td>\n",
       "    </tr>\n",
       "    <tr>\n",
       "      <th>1</th>\n",
       "      <td>@ThelmaSleaze uh... did you watch the video? o...</td>\n",
       "      <td>1</td>\n",
       "    </tr>\n",
       "    <tr>\n",
       "      <th>2</th>\n",
       "      <td>Managed to hit a bird and a small rodent on my...</td>\n",
       "      <td>1</td>\n",
       "    </tr>\n",
       "    <tr>\n",
       "      <th>3</th>\n",
       "      <td>If you believe a #holohoax or #gays, LGBT &amp;amp...</td>\n",
       "      <td>1</td>\n",
       "    </tr>\n",
       "    <tr>\n",
       "      <th>4</th>\n",
       "      <td>Rid yourself of #Feminazi, #Fag &amp;amp; #Jewf. E...</td>\n",
       "      <td>1</td>\n",
       "    </tr>\n",
       "  </tbody>\n",
       "</table>\n",
       "</div>"
      ],
      "text/plain": [
       "                                              Tweets Label\n",
       "0  @TVBachelor @NewJerzeyBoy what about the femin...     1\n",
       "1  @ThelmaSleaze uh... did you watch the video? o...     1\n",
       "2  Managed to hit a bird and a small rodent on my...     1\n",
       "3  If you believe a #holohoax or #gays, LGBT &amp...     1\n",
       "4  Rid yourself of #Feminazi, #Fag &amp; #Jewf. E...     1"
      ]
     },
     "execution_count": 13,
     "metadata": {},
     "output_type": "execute_result"
    }
   ],
   "source": [
    "racism.head()"
   ]
  },
  {
   "cell_type": "code",
   "execution_count": 14,
   "metadata": {},
   "outputs": [
    {
     "data": {
      "text/plain": [
       "Tweets    0\n",
       "Label     0\n",
       "dtype: int64"
      ]
     },
     "execution_count": 14,
     "metadata": {},
     "output_type": "execute_result"
    }
   ],
   "source": [
    "# Missing values \n",
    "racism.isnull().sum()"
   ]
  },
  {
   "cell_type": "code",
   "execution_count": 15,
   "metadata": {},
   "outputs": [
    {
     "name": "stdout",
     "output_type": "stream",
     "text": [
      ">>>>>> Data Cleaning Process : Start\n",
      ">>> Normalization | Remove ids @ | Replace urls by URL tag | Remove Special char | Remove Punctuation \n"
     ]
    }
   ],
   "source": [
    "# Data cleaning \n",
    "from DPreprocessing import data_cleaning\n",
    "X = data_cleaning(racism['Tweets'])\n",
    "y = racism['Label']"
   ]
  },
  {
   "cell_type": "markdown",
   "metadata": {},
   "source": [
    "**Tweets Canonization**"
   ]
  },
  {
   "cell_type": "code",
   "execution_count": 17,
   "metadata": {},
   "outputs": [],
   "source": [
    "from DPreprocessing import canonization"
   ]
  },
  {
   "cell_type": "code",
   "execution_count": 18,
   "metadata": {},
   "outputs": [
    {
     "name": "stdout",
     "output_type": "stream",
     "text": [
      "CPU times: user 1min 57s, sys: 670 ms, total: 1min 58s\n",
      "Wall time: 1min 59s\n"
     ]
    }
   ],
   "source": [
    "%%time \n",
    "# Lemmatized tweets \n",
    "X_lem = canonization(X, method=\"lemmatization\")"
   ]
  },
  {
   "cell_type": "code",
   "execution_count": 19,
   "metadata": {},
   "outputs": [
    {
     "name": "stdout",
     "output_type": "stream",
     "text": [
      "CPU times: user 5.06 s, sys: 284 ms, total: 5.34 s\n",
      "Wall time: 5.4 s\n"
     ]
    }
   ],
   "source": [
    "%%time \n",
    "# Stemmed tweets  \n",
    "X_stem = canonization(X, method=\"stemming\")"
   ]
  },
  {
   "cell_type": "markdown",
   "metadata": {},
   "source": [
    "**Tweets Vectorization** <br> \n",
    "Tokens number = 1000"
   ]
  },
  {
   "cell_type": "code",
   "execution_count": 20,
   "metadata": {},
   "outputs": [
    {
     "name": "stdout",
     "output_type": "stream",
     "text": [
      "CPU times: user 490 ms, sys: 33.1 ms, total: 523 ms\n",
      "Wall time: 534 ms\n"
     ]
    }
   ],
   "source": [
    "%%time \n",
    "# Bag of words + Lemmatization\n",
    "from Vectorizer import bag_of_words\n",
    "X_lem_bow = bag_of_words(X_lem, nbr_tokens=1000)"
   ]
  },
  {
   "cell_type": "code",
   "execution_count": 21,
   "metadata": {},
   "outputs": [
    {
     "name": "stdout",
     "output_type": "stream",
     "text": [
      "CPU times: user 460 ms, sys: 31.5 ms, total: 492 ms\n",
      "Wall time: 490 ms\n"
     ]
    }
   ],
   "source": [
    "%%time \n",
    "# Bag of words + Stemming \n",
    "from Vectorizer import bag_of_words\n",
    "X_stem_bow = bag_of_words(X_stem, nbr_tokens=1000)"
   ]
  },
  {
   "cell_type": "code",
   "execution_count": 22,
   "metadata": {},
   "outputs": [
    {
     "name": "stdout",
     "output_type": "stream",
     "text": [
      "CPU times: user 265 ms, sys: 30.4 ms, total: 295 ms\n",
      "Wall time: 296 ms\n"
     ]
    }
   ],
   "source": [
    "%%time \n",
    "# Tfidf + Lemmatization \n",
    "from Vectorizer import tfidf\n",
    "X_lem_tfidf = tfidf(X_lem, nbr_tokens=1000, ngram=1)"
   ]
  },
  {
   "cell_type": "code",
   "execution_count": 23,
   "metadata": {},
   "outputs": [
    {
     "name": "stdout",
     "output_type": "stream",
     "text": [
      "CPU times: user 257 ms, sys: 29.8 ms, total: 287 ms\n",
      "Wall time: 285 ms\n"
     ]
    }
   ],
   "source": [
    "%%time \n",
    "# Tfidf + Stemming \n",
    "from Vectorizer import tfidf\n",
    "X_stem_tfidf = tfidf(X_stem, nbr_tokens=1000, ngram=1)"
   ]
  },
  {
   "cell_type": "code",
   "execution_count": 24,
   "metadata": {},
   "outputs": [
    {
     "name": "stdout",
     "output_type": "stream",
     "text": [
      "CPU times: user 228 ms, sys: 33.8 ms, total: 262 ms\n",
      "Wall time: 261 ms\n"
     ]
    }
   ],
   "source": [
    "%%time \n",
    "# Hashing + Lemmatization\n",
    "from Vectorizer import hashing\n",
    "X_lem_hashing = hashing(X_lem, nbr_tokens=1000)"
   ]
  },
  {
   "cell_type": "code",
   "execution_count": 25,
   "metadata": {},
   "outputs": [
    {
     "name": "stdout",
     "output_type": "stream",
     "text": [
      "CPU times: user 214 ms, sys: 31.9 ms, total: 246 ms\n",
      "Wall time: 244 ms\n"
     ]
    }
   ],
   "source": [
    "%%time \n",
    "# Hashing + Stemming\n",
    "from Vectorizer import hashing\n",
    "X_stem_hashing = hashing(X_stem, nbr_tokens=1000)"
   ]
  },
  {
   "cell_type": "markdown",
   "metadata": {},
   "source": [
    "## Features Engineering"
   ]
  },
  {
   "cell_type": "code",
   "execution_count": 140,
   "metadata": {},
   "outputs": [],
   "source": [
    "def newfeatures(newf, tweets):\n",
    "    matrix = []\n",
    "    for tweet in tweets:\n",
    "        values = []\n",
    "        for feature in newf:\n",
    "            if feature in tweet: values.append(1)\n",
    "            else: values.append(0)\n",
    "        matrix.append(values)\n",
    "    return pd.DataFrame(matrix, columns=newf)"
   ]
  },
  {
   "cell_type": "markdown",
   "metadata": {},
   "source": [
    "**Polarity**"
   ]
  },
  {
   "cell_type": "code",
   "execution_count": 143,
   "metadata": {},
   "outputs": [],
   "source": [
    "def polarity(tweets):\n",
    "    from textblob import TextBlob\n",
    "    polarity = []\n",
    "    for tweet in tweets: \n",
    "        pol = TextBlob(tweet)\n",
    "        polarity.append(pol.sentiment.polarity)\n",
    "    return pd.DataFrame(polarity)"
   ]
  },
  {
   "cell_type": "code",
   "execution_count": 148,
   "metadata": {},
   "outputs": [],
   "source": [
    "discriminant_tweets_polarity = polarity(racism['Tweets'][racism['Label']=='1'])\n",
    "non_discriminant_tweets_polarity = polarity(racism['Tweets'][racism['Label']=='0'])"
   ]
  },
  {
   "cell_type": "code",
   "execution_count": 155,
   "metadata": {},
   "outputs": [
    {
     "data": {
      "text/plain": [
       "<AxesSubplot:ylabel='Frequency'>"
      ]
     },
     "execution_count": 155,
     "metadata": {},
     "output_type": "execute_result"
    },
    {
     "data": {
      "image/png": "[encoded data removed]",
      "text/plain": [
       "<Figure size 432x288 with 1 Axes>"
      ]
     },
     "metadata": {
      "needs_background": "light"
     },
     "output_type": "display_data"
    }
   ],
   "source": [
    "tweets_polarity = pd.concat([non_discriminant_tweets_polarity,discriminant_tweets_polarity], axis=1)\n",
    "tweets_polarity.columns = ['non discriminant','discriminant']\n",
    "tweets_polarity.plot.hist(bins=12, alpha=0.5)"
   ]
  },
  {
   "cell_type": "markdown",
   "metadata": {},
   "source": [
    "**Tweets length**"
   ]
  },
  {
   "cell_type": "code",
   "execution_count": 30,
   "metadata": {},
   "outputs": [],
   "source": [
    "def len_tweets(tweets):\n",
    "    length = []\n",
    "    for tweet in tweets:\n",
    "        length.append(len(tweet))\n",
    "    return pd.DataFrame(length)"
   ]
  },
  {
   "cell_type": "code",
   "execution_count": 42,
   "metadata": {},
   "outputs": [],
   "source": [
    "length = len_tweets(X)"
   ]
  },
  {
   "cell_type": "markdown",
   "metadata": {},
   "source": [
    "**Shallow Parsing**"
   ]
  },
  {
   "cell_type": "code",
   "execution_count": 112,
   "metadata": {},
   "outputs": [],
   "source": [
    "import spacy \n",
    "nlp = spacy.load('en_core_web_sm')"
   ]
  },
  {
   "cell_type": "code",
   "execution_count": 113,
   "metadata": {},
   "outputs": [],
   "source": [
    "def tweet_noun_chunks(tweets):\n",
    "    '''\n",
    "        This function generates a list of noun chunks who's tokens are not in stopwords list \n",
    "    '''\n",
    "    from nltk.corpus import stopwords\n",
    "    \n",
    "    tweets_noun_chunks = []\n",
    "    for tweet in tweets:\n",
    "        doc = nlp(tweet)\n",
    "        for chunk in doc.noun_chunks: \n",
    "            if len(str(chunk).split())>1 and any(word in str(chunk).split() for word in stopwords.words('english'))==False:\n",
    "                #print(\">>>>> \", chunk) \n",
    "                tweets_noun_chunks.append(chunk.text.strip())\n",
    "    return pd.Series(tweet_noun_chunks).value_counts().index.tolist()"
   ]
  },
  {
   "cell_type": "code",
   "execution_count": 121,
   "metadata": {},
   "outputs": [],
   "source": [
    "# To continue "
   ]
  },
  {
   "cell_type": "code",
   "execution_count": null,
   "metadata": {},
   "outputs": [],
   "source": []
  },
  {
   "cell_type": "markdown",
   "metadata": {},
   "source": [
    "**NGram Features** "
   ]
  },
  {
   "cell_type": "code",
   "execution_count": 77,
   "metadata": {},
   "outputs": [],
   "source": [
    "def ngram(tweets, nbr_gram, stopwords):\n",
    "    from sklearn.feature_extraction.text import CountVectorizer\n",
    "    vectorizer = CountVectorizer(max_features=None, \n",
    "                                stop_words=stopwords,\n",
    "                                ngram_range = (nbr_gram,nbr_gram)\n",
    "                                )\n",
    "    vectorizer.fit(tweets)\n",
    "    vocab = list(vectorizer.vocabulary_.keys())\n",
    "    \n",
    "    return vocab "
   ]
  },
  {
   "cell_type": "code",
   "execution_count": 98,
   "metadata": {},
   "outputs": [],
   "source": [
    "def ngrams_frequency(tweets, grams):\n",
    "    \n",
    "    # all tweets in one single string \n",
    "    all_tweets = tweets.sum(axis=0)\n",
    "    \n",
    "    ngrams_frequency = []\n",
    "    for gram in grams:\n",
    "        ngrams_frequency.append([gram,all_tweets.count(gram)])\n",
    "    \n",
    "    matrix = pd.DataFrame(ngrams_frequency,columns=['Gram','Frequencies'])\n",
    "    matrix.sort_values(by='Frequencies', ascending=False, inplace=True)\n",
    "    return matrix"
   ]
  },
  {
   "cell_type": "code",
   "execution_count": 111,
   "metadata": {},
   "outputs": [
    {
     "name": "stdout",
     "output_type": "stream",
     "text": [
      "CPU times: user 26.2 s, sys: 4.96 s, total: 31.1 s\n",
      "Wall time: 31.6 s\n"
     ]
    }
   ],
   "source": [
    "%%time\n",
    "# 100 bigram features \n",
    "onegram = ngram(X_lem, nbr_gram=1, stopwords='english')\n",
    "onegram = ngrams_frequency(X_lem, onegram)\n",
    "onegram_100 = onegram['Gram'][:100]\n",
    "onegram_features = newfeatures(onegram_100, X_lem)"
   ]
  },
  {
   "cell_type": "code",
   "execution_count": 116,
   "metadata": {},
   "outputs": [
    {
     "data": {
      "text/plain": [
       "<AxesSubplot:xlabel='Gram'>"
      ]
     },
     "execution_count": 116,
     "metadata": {},
     "output_type": "execute_result"
    },
    {
     "data": {
      "image/png": "[encoded data removed]",
      "text/plain": [
       "<Figure size 1080x504 with 1 Axes>"
      ]
     },
     "metadata": {
      "needs_background": "light"
     },
     "output_type": "display_data"
    }
   ],
   "source": [
    "onegram[:100].plot(x='Gram', y='Frequencies', kind='bar', color='m', figsize=(15,7))"
   ]
  },
  {
   "cell_type": "code",
   "execution_count": 107,
   "metadata": {},
   "outputs": [
    {
     "name": "stdout",
     "output_type": "stream",
     "text": [
      "CPU times: user 1min 26s, sys: 5.7 s, total: 1min 32s\n",
      "Wall time: 1min 33s\n"
     ]
    }
   ],
   "source": [
    "%%time\n",
    "# 100 bigram features \n",
    "bigram = ngram(X_lem, nbr_gram=2, stopwords='english')\n",
    "bigram = ngrams_frequency(X_lem, bigram)\n",
    "bigram_100 = bigram['Gram'][:100]\n",
    "bigram_features = newfeatures(bigram_100, X_lem)"
   ]
  },
  {
   "cell_type": "code",
   "execution_count": 117,
   "metadata": {},
   "outputs": [
    {
     "data": {
      "text/plain": [
       "<AxesSubplot:xlabel='Gram'>"
      ]
     },
     "execution_count": 117,
     "metadata": {},
     "output_type": "execute_result"
    },
    {
     "data": {
      "image/png": "[encoded data removed]",
      "text/plain": [
       "<Figure size 1080x504 with 1 Axes>"
      ]
     },
     "metadata": {
      "needs_background": "light"
     },
     "output_type": "display_data"
    }
   ],
   "source": [
    "bigram[:20].plot(x='Gram', y='Frequencies', kind='bar', color='g', figsize=(15,7))"
   ]
  },
  {
   "cell_type": "code",
   "execution_count": 108,
   "metadata": {},
   "outputs": [
    {
     "name": "stdout",
     "output_type": "stream",
     "text": [
      "CPU times: user 1min 21s, sys: 5.04 s, total: 1min 26s\n",
      "Wall time: 1min 26s\n"
     ]
    }
   ],
   "source": [
    "%%time\n",
    "# 100 bigram features \n",
    "trigram = ngram(X_lem, nbr_gram=3, stopwords='english')\n",
    "trigram = ngrams_frequency(X_lem, trigram)\n",
    "trigram_100 = trigram['Gram'][:100]\n",
    "trigram_features = newfeatures(trigram_100, X_lem)"
   ]
  },
  {
   "cell_type": "code",
   "execution_count": 110,
   "metadata": {},
   "outputs": [
    {
     "data": {
      "text/plain": [
       "<AxesSubplot:xlabel='Gram'>"
      ]
     },
     "execution_count": 110,
     "metadata": {},
     "output_type": "execute_result"
    },
    {
     "data": {
      "image/png": "[encoded data removed]",
      "text/plain": [
       "<Figure size 1080x504 with 1 Axes>"
      ]
     },
     "metadata": {
      "needs_background": "light"
     },
     "output_type": "display_data"
    }
   ],
   "source": [
    "trigram[:20].plot(x='Gram', y='Frequencies', kind='bar', color='c', figsize=(15,7))"
   ]
  },
  {
   "cell_type": "markdown",
   "metadata": {},
   "source": [
    "**Combine features**"
   ]
  },
  {
   "cell_type": "code",
   "execution_count": 55,
   "metadata": {},
   "outputs": [],
   "source": [
    "def combine_features(X, *new_features):\n",
    "    X = pd.DataFrame(X)\n",
    "    F = pd.concat(list(new_features), axis=1)\n",
    "    return pd.concat([F,X], axis=1)"
   ]
  },
  {
   "cell_type": "code",
   "execution_count": 62,
   "metadata": {},
   "outputs": [],
   "source": [
    "Features = combine_features(X_lem_tfidf, polarity, length)"
   ]
  },
  {
   "cell_type": "markdown",
   "metadata": {},
   "source": [
    "## Modeling"
   ]
  },
  {
   "cell_type": "markdown",
   "metadata": {},
   "source": [
    "**Lemmatization + Tfidf** "
   ]
  },
  {
   "cell_type": "code",
   "execution_count": 87,
   "metadata": {},
   "outputs": [
    {
     "name": "stdout",
     "output_type": "stream",
     "text": [
      "CPU times: user 1min 18s, sys: 260 ms, total: 1min 19s\n",
      "Wall time: 1min 19s\n"
     ]
    }
   ],
   "source": [
    "%%time\n",
    "# Split data  \n",
    "from sklearn.model_selection import train_test_split\n",
    "X_train, X_test, y_train, y_test = train_test_split(X_lem_tfidf, y, test_size=0.30, random_state=42, shuffle=True)\n",
    "\n",
    "# Training & Evaluation \n",
    "from sklearn.svm import SVC \n",
    "model = SVC(kernel='linear', random_state=0)\n",
    "model.fit(X_train, y_train)\n",
    "\n",
    "# prediction \n",
    "y_pred = model.predict(X_test)\n",
    "\n",
    "# evaluation \n",
    "from sklearn.metrics import accuracy_score, f1_score\n",
    "f1_score_m1 = f1_score(y_test, y_pred, pos_label='1')\n",
    "accuracy_m1 = accuracy_score(y_test, y_pred)"
   ]
  },
  {
   "cell_type": "markdown",
   "metadata": {},
   "source": [
    "**Stemming + Tfidf**"
   ]
  },
  {
   "cell_type": "code",
   "execution_count": 88,
   "metadata": {},
   "outputs": [
    {
     "name": "stdout",
     "output_type": "stream",
     "text": [
      "CPU times: user 1min 18s, sys: 298 ms, total: 1min 19s\n",
      "Wall time: 1min 19s\n"
     ]
    }
   ],
   "source": [
    "%%time\n",
    "# Split data  \n",
    "from sklearn.model_selection import train_test_split\n",
    "X_train, X_test, y_train, y_test = train_test_split(X_stem_tfidf, y, test_size=0.30, random_state=42, shuffle=True)\n",
    "\n",
    "# Training & Evaluation \n",
    "from sklearn.svm import SVC \n",
    "model = SVC(kernel='linear', random_state=0)\n",
    "model.fit(X_train, y_train)\n",
    "\n",
    "# prediction \n",
    "y_pred = model.predict(X_test)\n",
    "\n",
    "# evaluation \n",
    "from sklearn.metrics import accuracy_score, f1_score\n",
    "f1_score_m2 = f1_score(y_test, y_pred, pos_label='1')\n",
    "accuracy_m2 = accuracy_score(y_test, y_pred)"
   ]
  },
  {
   "cell_type": "markdown",
   "metadata": {},
   "source": [
    "**Lemmatization + TFIDF + Features(Polarity + Length)**"
   ]
  },
  {
   "cell_type": "code",
   "execution_count": 89,
   "metadata": {},
   "outputs": [
    {
     "name": "stdout",
     "output_type": "stream",
     "text": [
      "CPU times: user 2min 7s, sys: 632 ms, total: 2min 7s\n",
      "Wall time: 2min 8s\n"
     ]
    }
   ],
   "source": [
    "%%time\n",
    "\n",
    "# Features \n",
    "Features = combine_features(X_lem_tfidf, polarity, length)\n",
    "\n",
    "# Split data  \n",
    "from sklearn.model_selection import train_test_split\n",
    "X_train, X_test, y_train, y_test = train_test_split(Features, y, test_size=0.30, random_state=42, shuffle=True)\n",
    "\n",
    "# Training & Evaluation \n",
    "from sklearn.svm import SVC \n",
    "model = SVC(kernel='linear', random_state=0)\n",
    "model.fit(X_train, y_train)\n",
    "\n",
    "# prediction \n",
    "y_pred = model.predict(X_test)\n",
    "\n",
    "# evaluation \n",
    "from sklearn.metrics import accuracy_score, f1_score\n",
    "f1_score_m3 = f1_score(y_test, y_pred, pos_label='1')\n",
    "accuracy_m3 = accuracy_score(y_test, y_pred)"
   ]
  },
  {
   "cell_type": "markdown",
   "metadata": {},
   "source": [
    "**Lemmatization + TFIDF + Features(Polarity + Length + 20Bigram + 20Trigram)**"
   ]
  },
  {
   "cell_type": "code",
   "execution_count": 104,
   "metadata": {},
   "outputs": [
    {
     "name": "stdout",
     "output_type": "stream",
     "text": [
      "CPU times: user 2min 19s, sys: 2.2 s, total: 2min 21s\n",
      "Wall time: 2min 47s\n"
     ]
    }
   ],
   "source": [
    "%%time\n",
    "\n",
    "# Features \n",
    "Features = combine_features(X_lem_tfidf, polarity, length, bigram_features, trigram_features)\n",
    "\n",
    "# Split data  \n",
    "from sklearn.model_selection import train_test_split\n",
    "X_train, X_test, y_train, y_test = train_test_split(Features, y, test_size=0.30, random_state=42, shuffle=True)\n",
    "\n",
    "# Training & Evaluation \n",
    "from sklearn.svm import SVC \n",
    "model = SVC(kernel='linear', random_state=0)\n",
    "model.fit(X_train, y_train)\n",
    "\n",
    "# prediction \n",
    "y_pred = model.predict(X_test)\n",
    "\n",
    "# evaluation \n",
    "from sklearn.metrics import accuracy_score, f1_score\n",
    "f1_score_m4 = f1_score(y_test, y_pred, pos_label='1')\n",
    "accuracy_m4 = accuracy_score(y_test, y_pred)"
   ]
  },
  {
   "cell_type": "markdown",
   "metadata": {},
   "source": [
    "## Preproceing Results"
   ]
  },
  {
   "cell_type": "code",
   "execution_count": 105,
   "metadata": {},
   "outputs": [],
   "source": [
    "m1 = [\"Lemmatization POS + TFIDF \",accuracy_m1,f1_score_m1]\n",
    "m2 = [\"Stemming + TFIDF \",accuracy_m2,f1_score_m2]\n",
    "m3 = [\"Lemmatization + TF-IDF + Polarity + Lenght\",accuracy_m3,f1_score_m3]\n",
    "m4 = [\"Lemmatization + TF-IDF + Polarity + Lenght + Bigram + Trigram\",accuracy_m4,f1_score_m4]\n",
    "#m5 = [\"Lemmatization POS + BOW + Features Extraction\",accuracy_m5,f1_score_m5]\n",
    "#m6 = [\"TF-IDF + Features Extraction\",accuracy_m6,f1_score_m6]\n",
    "#m7 = [\"Hashing + Features Extraction\",accuracy_m7,f1_score_m7]"
   ]
  },
  {
   "cell_type": "code",
   "execution_count": 71,
   "metadata": {},
   "outputs": [],
   "source": [
    "def results(*args):\n",
    "    '''\n",
    "        [Method,Accuracy,F1Score]\n",
    "    '''\n",
    "    \n",
    "    methods_results = []\n",
    "    for method in args:\n",
    "        methods_results.append(method)\n",
    "    return pd.DataFrame(methods_results,columns=[\"Methods\",\"Accuracy\",\"F1 Score\"]) "
   ]
  },
  {
   "cell_type": "code",
   "execution_count": 106,
   "metadata": {},
   "outputs": [
    {
     "data": {
      "text/html": [
       "<div>\n",
       "<style scoped>\n",
       "    .dataframe tbody tr th:only-of-type {\n",
       "        vertical-align: middle;\n",
       "    }\n",
       "\n",
       "    .dataframe tbody tr th {\n",
       "        vertical-align: top;\n",
       "    }\n",
       "\n",
       "    .dataframe thead th {\n",
       "        text-align: right;\n",
       "    }\n",
       "</style>\n",
       "<table border=\"1\" class=\"dataframe\">\n",
       "  <thead>\n",
       "    <tr style=\"text-align: right;\">\n",
       "      <th></th>\n",
       "      <th>Methods</th>\n",
       "      <th>Accuracy</th>\n",
       "      <th>F1 Score</th>\n",
       "    </tr>\n",
       "  </thead>\n",
       "  <tbody>\n",
       "    <tr>\n",
       "      <th>0</th>\n",
       "      <td>Lemmatization POS + TFIDF</td>\n",
       "      <td>0.943935</td>\n",
       "      <td>0.733221</td>\n",
       "    </tr>\n",
       "    <tr>\n",
       "      <th>1</th>\n",
       "      <td>Stemming + TFIDF</td>\n",
       "      <td>0.940233</td>\n",
       "      <td>0.710504</td>\n",
       "    </tr>\n",
       "    <tr>\n",
       "      <th>2</th>\n",
       "      <td>Lemmatization + TF-IDF + Polarity + Lenght</td>\n",
       "      <td>0.944288</td>\n",
       "      <td>0.734007</td>\n",
       "    </tr>\n",
       "    <tr>\n",
       "      <th>3</th>\n",
       "      <td>Lemmatization + TF-IDF + Polarity + Lenght + B...</td>\n",
       "      <td>0.944640</td>\n",
       "      <td>0.733447</td>\n",
       "    </tr>\n",
       "  </tbody>\n",
       "</table>\n",
       "</div>"
      ],
      "text/plain": [
       "                                             Methods  Accuracy  F1 Score\n",
       "0                         Lemmatization POS + TFIDF   0.943935  0.733221\n",
       "1                                  Stemming + TFIDF   0.940233  0.710504\n",
       "2         Lemmatization + TF-IDF + Polarity + Lenght  0.944288  0.734007\n",
       "3  Lemmatization + TF-IDF + Polarity + Lenght + B...  0.944640  0.733447"
      ]
     },
     "execution_count": 106,
     "metadata": {},
     "output_type": "execute_result"
    }
   ],
   "source": [
    "results(m1,m2,m3,m4)"
   ]
  }
 ],
 "metadata": {
  "kernelspec": {
   "display_name": "Python 3",
   "language": "python",
   "name": "python3"
  },
  "language_info": {
   "codemirror_mode": {
    "name": "ipython",
    "version": 3
   },
   "file_extension": ".py",
   "mimetype": "text/x-python",
   "name": "python",
   "nbconvert_exporter": "python",
   "pygments_lexer": "ipython3",
   "version": "3.7.4"
  }
 },
 "nbformat": 4,
 "nbformat_minor": 4
}
