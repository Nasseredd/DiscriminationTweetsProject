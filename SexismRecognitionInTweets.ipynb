{
 "cells": [
  {
   "cell_type": "markdown",
   "metadata": {},
   "source": [
    "# Libraries "
   ]
  },
  {
   "cell_type": "code",
   "execution_count": 3,
   "metadata": {},
   "outputs": [],
   "source": [
    "import numpy as np \n",
    "import pandas as pd \n",
    "import matplotlib.pyplot as plt \n",
    "import seaborn as sns \n",
    "import warnings\n",
    "warnings.filterwarnings(\"ignore\")"
   ]
  },
  {
   "cell_type": "markdown",
   "metadata": {},
   "source": [
    "# Data "
   ]
  },
  {
   "cell_type": "code",
   "execution_count": 4,
   "metadata": {},
   "outputs": [],
   "source": [
    "sexism = pd.read_csv('sexism.csv', sep=\",\")"
   ]
  },
  {
   "cell_type": "code",
   "execution_count": 5,
   "metadata": {},
   "outputs": [
    {
     "data": {
      "text/html": [
       "<div>\n",
       "<style scoped>\n",
       "    .dataframe tbody tr th:only-of-type {\n",
       "        vertical-align: middle;\n",
       "    }\n",
       "\n",
       "    .dataframe tbody tr th {\n",
       "        vertical-align: top;\n",
       "    }\n",
       "\n",
       "    .dataframe thead th {\n",
       "        text-align: right;\n",
       "    }\n",
       "</style>\n",
       "<table border=\"1\" class=\"dataframe\">\n",
       "  <thead>\n",
       "    <tr style=\"text-align: right;\">\n",
       "      <th></th>\n",
       "      <th>Tweets</th>\n",
       "      <th>Label</th>\n",
       "    </tr>\n",
       "  </thead>\n",
       "  <tbody>\n",
       "    <tr>\n",
       "      <th>0</th>\n",
       "      <td>@TVBachelor @NewJerzeyBoy what about the femin...</td>\n",
       "      <td>1</td>\n",
       "    </tr>\n",
       "    <tr>\n",
       "      <th>1</th>\n",
       "      <td>@ThelmaSleaze uh... did you watch the video? o...</td>\n",
       "      <td>1</td>\n",
       "    </tr>\n",
       "    <tr>\n",
       "      <th>2</th>\n",
       "      <td>Managed to hit a bird and a small rodent on my...</td>\n",
       "      <td>1</td>\n",
       "    </tr>\n",
       "  </tbody>\n",
       "</table>\n",
       "</div>"
      ],
      "text/plain": [
       "                                              Tweets  Label\n",
       "0  @TVBachelor @NewJerzeyBoy what about the femin...      1\n",
       "1  @ThelmaSleaze uh... did you watch the video? o...      1\n",
       "2  Managed to hit a bird and a small rodent on my...      1"
      ]
     },
     "execution_count": 5,
     "metadata": {},
     "output_type": "execute_result"
    }
   ],
   "source": [
    "sexism.head(3)"
   ]
  },
  {
   "cell_type": "code",
   "execution_count": 6,
   "metadata": {},
   "outputs": [
    {
     "data": {
      "text/plain": [
       "(20842, 2)"
      ]
     },
     "execution_count": 6,
     "metadata": {},
     "output_type": "execute_result"
    }
   ],
   "source": [
    "sexism.shape"
   ]
  },
  {
   "cell_type": "code",
   "execution_count": 7,
   "metadata": {},
   "outputs": [
    {
     "data": {
      "text/plain": [
       "0    16844\n",
       "1     3998\n",
       "Name: Label, dtype: int64"
      ]
     },
     "execution_count": 7,
     "metadata": {},
     "output_type": "execute_result"
    }
   ],
   "source": [
    "sexism['Label'].value_counts()"
   ]
  },
  {
   "cell_type": "markdown",
   "metadata": {},
   "source": [
    "**Clean & Split Data**"
   ]
  },
  {
   "cell_type": "code",
   "execution_count": 8,
   "metadata": {},
   "outputs": [
    {
     "name": "stdout",
     "output_type": "stream",
     "text": [
      ">>>>>> Data Cleaning Process : Start\n",
      ">>> Normalization | Remove ids @ | Replace urls by URL tag | Remove Special char | Remove Punctuation \n"
     ]
    }
   ],
   "source": [
    "from DPreprocessing import data_cleaning\n",
    "X = data_cleaning(sexism['Tweets'])\n",
    "y = sexism['Label']"
   ]
  },
  {
   "cell_type": "markdown",
   "metadata": {},
   "source": [
    "# Preprocessing"
   ]
  },
  {
   "cell_type": "markdown",
   "metadata": {},
   "source": [
    "### Canonization"
   ]
  },
  {
   "cell_type": "code",
   "execution_count": 9,
   "metadata": {},
   "outputs": [
    {
     "name": "stdout",
     "output_type": "stream",
     "text": [
      "CPU times: user 2min 5s, sys: 543 ms, total: 2min 5s\n",
      "Wall time: 2min 6s\n"
     ]
    }
   ],
   "source": [
    "%%time \n",
    "# Lemmatization \n",
    "\n",
    "from DPreprocessing import canonization\n",
    "from Vectorizer import bag_of_words\n",
    "\n",
    "X_lem = canonization(X, method=\"lemmatization\")\n",
    "X_lem_bow = bag_of_words(X_lem, nbr_tokens=1000)"
   ]
  },
  {
   "cell_type": "code",
   "execution_count": 10,
   "metadata": {},
   "outputs": [
    {
     "name": "stdout",
     "output_type": "stream",
     "text": [
      "CPU times: user 5.4 s, sys: 135 ms, total: 5.54 s\n",
      "Wall time: 5.71 s\n"
     ]
    }
   ],
   "source": [
    "%%time \n",
    "# Stemming \n",
    "\n",
    "from DPreprocessing import canonization\n",
    "from Vectorizer import bag_of_words\n",
    "\n",
    "X_stem = canonization(X, method=\"stemming\")\n",
    "X_stem_bow = bag_of_words(X_stem, nbr_tokens=1000)"
   ]
  },
  {
   "cell_type": "code",
   "execution_count": 11,
   "metadata": {},
   "outputs": [
    {
     "name": "stdout",
     "output_type": "stream",
     "text": [
      "F1 Score (Lemmatization) =  0.6290322580645161\n",
      "Accuracy (Lemmatization) =  0.8822964976811131 \n",
      "\n",
      "F1 Score (Stemming) =  0.6355974219137333\n",
      "Accuracy (Stemming) =  0.8824564209179594\n"
     ]
    }
   ],
   "source": [
    "# Lemmatization vs Stemming \n",
    "\n",
    "#----------------------------------------------------\n",
    "from sklearn.model_selection import train_test_split\n",
    "X_train, X_test, y_train, y_test = train_test_split(X_lem_bow, y, test_size=0.30, random_state=42, shuffle=True)\n",
    "\n",
    "from sklearn.svm import SVC \n",
    "model = SVC(kernel='linear', random_state=0)\n",
    "model.fit(X_train, y_train)\n",
    "y_pred = model.predict(X_test)\n",
    "\n",
    "from sklearn.metrics import accuracy_score, f1_score\n",
    "f1_score_lem = f1_score(y_test, y_pred)\n",
    "accuracy_lem = accuracy_score(y_test, y_pred)\n",
    "\n",
    "#----------------------------------------------------\n",
    "from sklearn.model_selection import train_test_split\n",
    "X_train, X_test, y_train, y_test = train_test_split(X_stem_bow, y, test_size=0.30, random_state=42, shuffle=True)\n",
    "\n",
    "from sklearn.svm import SVC \n",
    "model = SVC(kernel='linear', random_state=0)\n",
    "model.fit(X_train, y_train)\n",
    "y_pred = model.predict(X_test)\n",
    "\n",
    "from sklearn.metrics import accuracy_score, f1_score\n",
    "f1_score_stem = f1_score(y_test, y_pred)\n",
    "accuracy_stem = accuracy_score(y_test, y_pred)\n",
    "\n",
    "#----------------------------------------------------\n",
    "print(\"F1 Score (Lemmatization) = \", f1_score_lem)\n",
    "print(\"Accuracy (Lemmatization) = \", accuracy_lem, \"\\n\")\n",
    "\n",
    "print(\"F1 Score (Stemming) = \", f1_score_stem)\n",
    "print(\"Accuracy (Stemming) = \", accuracy_stem)"
   ]
  },
  {
   "cell_type": "markdown",
   "metadata": {},
   "source": [
    "## Vectorization"
   ]
  },
  {
   "cell_type": "code",
   "execution_count": 24,
   "metadata": {},
   "outputs": [
    {
     "name": "stdout",
     "output_type": "stream",
     "text": [
      "CPU times: user 535 ms, sys: 53.8 ms, total: 589 ms\n",
      "Wall time: 592 ms\n"
     ]
    }
   ],
   "source": [
    "%%time \n",
    "# Bag of words\n",
    "from Vectorizer import bag_of_words\n",
    "X_lem_bow = bag_of_words(X_lem, nbr_tokens=1000)"
   ]
  },
  {
   "cell_type": "code",
   "execution_count": 25,
   "metadata": {},
   "outputs": [
    {
     "name": "stdout",
     "output_type": "stream",
     "text": [
      "CPU times: user 326 ms, sys: 35.1 ms, total: 361 ms\n",
      "Wall time: 371 ms\n"
     ]
    }
   ],
   "source": [
    "%%time \n",
    "# Tfidf + Lemmatization \n",
    "from Vectorizer import tfidf\n",
    "X_lem_tfidf = tfidf(X_lem, nbr_tokens=1000, ngram=1)"
   ]
  },
  {
   "cell_type": "code",
   "execution_count": 26,
   "metadata": {},
   "outputs": [
    {
     "name": "stdout",
     "output_type": "stream",
     "text": [
      "CPU times: user 291 ms, sys: 39.8 ms, total: 331 ms\n",
      "Wall time: 339 ms\n"
     ]
    }
   ],
   "source": [
    "%%time \n",
    "# Hashing + Lemmatization\n",
    "from Vectorizer import hashing\n",
    "X_lem_hashing = hashing(X_lem, nbr_tokens=1000)"
   ]
  },
  {
   "cell_type": "code",
   "execution_count": 27,
   "metadata": {},
   "outputs": [
    {
     "name": "stdout",
     "output_type": "stream",
     "text": [
      "F1 Score (Bag Of Words) =  0.6290322580645161\n",
      "Accuracy (Bag Of Words) =  0.8822964976811131 \n",
      "\n",
      "F1 Score (TFIDF) =  0.6177526936890714\n",
      "Accuracy (TFIDF) =  0.8808571885494962 \n",
      "\n",
      "F1 Score (Hashing) =  0.48686514886164617\n",
      "Accuracy (Hashing) =  0.8594274748120901\n"
     ]
    }
   ],
   "source": [
    "# Compaison \n",
    "\n",
    "#----------------------------------------------------\n",
    "from sklearn.model_selection import train_test_split\n",
    "X_train, X_test, y_train, y_test = train_test_split(X_lem_bow, y, test_size=0.30, random_state=42, shuffle=True)\n",
    "\n",
    "from sklearn.svm import SVC \n",
    "model = SVC(kernel='linear', random_state=0)\n",
    "model.fit(X_train, y_train)\n",
    "y_pred = model.predict(X_test)\n",
    "\n",
    "from sklearn.metrics import accuracy_score, f1_score\n",
    "f1_score_bow = f1_score(y_test, y_pred)\n",
    "accuracy_bow = accuracy_score(y_test, y_pred)\n",
    "\n",
    "#----------------------------------------------------\n",
    "from sklearn.model_selection import train_test_split\n",
    "X_train, X_test, y_train, y_test = train_test_split(X_lem_tfidf, y, test_size=0.30, random_state=42, shuffle=True)\n",
    "\n",
    "from sklearn.svm import SVC \n",
    "model = SVC(kernel='linear', random_state=0)\n",
    "model.fit(X_train, y_train)\n",
    "y_pred = model.predict(X_test)\n",
    "\n",
    "from sklearn.metrics import accuracy_score, f1_score\n",
    "f1_score_tfidf = f1_score(y_test, y_pred)\n",
    "accuracy_tfidf = accuracy_score(y_test, y_pred)\n",
    "\n",
    "#----------------------------------------------------\n",
    "from sklearn.model_selection import train_test_split\n",
    "X_train, X_test, y_train, y_test = train_test_split(X_lem_hashing, y, test_size=0.30, random_state=42, shuffle=True)\n",
    "\n",
    "from sklearn.svm import SVC \n",
    "model = SVC(kernel='linear', random_state=0)\n",
    "model.fit(X_train, y_train)\n",
    "y_pred = model.predict(X_test)\n",
    "\n",
    "from sklearn.metrics import accuracy_score, f1_score\n",
    "f1_score_hashing = f1_score(y_test, y_pred)\n",
    "accuracy_hashing = accuracy_score(y_test, y_pred)\n",
    "\n",
    "#----------------------------------------------------\n",
    "print(\"F1 Score (Bag Of Words) = \", f1_score_bow)\n",
    "print(\"Accuracy (Bag Of Words) = \", accuracy_bow, \"\\n\")\n",
    "\n",
    "print(\"F1 Score (TFIDF) = \", f1_score_tfidf)\n",
    "print(\"Accuracy (TFIDF) = \", accuracy_tfidf, \"\\n\")\n",
    "\n",
    "print(\"F1 Score (Hashing) = \", f1_score_hashing)\n",
    "print(\"Accuracy (Hashing) = \", accuracy_hashing)"
   ]
  },
  {
   "cell_type": "markdown",
   "metadata": {},
   "source": [
    "### Feature Engineering "
   ]
  },
  {
   "cell_type": "markdown",
   "metadata": {},
   "source": [
    "**Polarity**"
   ]
  },
  {
   "cell_type": "code",
   "execution_count": 28,
   "metadata": {},
   "outputs": [],
   "source": [
    "polarity_ = polarity(X)"
   ]
  },
  {
   "cell_type": "markdown",
   "metadata": {},
   "source": [
    "**Length**"
   ]
  },
  {
   "cell_type": "code",
   "execution_count": 29,
   "metadata": {},
   "outputs": [],
   "source": [
    "length = len_tweets(X_lem)"
   ]
  },
  {
   "cell_type": "markdown",
   "metadata": {},
   "source": [
    "**Subjectivity**"
   ]
  },
  {
   "cell_type": "code",
   "execution_count": 30,
   "metadata": {},
   "outputs": [],
   "source": [
    "subjectivity_ = subjectivity(X)  "
   ]
  },
  {
   "cell_type": "markdown",
   "metadata": {},
   "source": [
    "**NER features**"
   ]
  },
  {
   "cell_type": "code",
   "execution_count": 31,
   "metadata": {},
   "outputs": [
    {
     "name": "stdout",
     "output_type": "stream",
     "text": [
      "CPU times: user 2min 10s, sys: 847 ms, total: 2min 11s\n",
      "Wall time: 2min 11s\n"
     ]
    }
   ],
   "source": [
    "%%time\n",
    "from DPreprocessing import data_cleaning \n",
    "import spacy\n",
    "ner = named_entity_recognition(X_lem)\n",
    "ner_categories = ner['Label'].value_counts()[ner['Label'].value_counts() > 1000].index.tolist()\n",
    "\n",
    "ner_features_index = []\n",
    "for category in ner_categories :\n",
    "    #NER[NER['Label']==category].value_counts()[:30].plot(kind='bar', color=colors_list)\n",
    "    #plt.show()\n",
    "    condition = ner['Text'][ner['Label']==category].value_counts()>50\n",
    "    element = ner['Text'][ner['Label']==category].value_counts()[condition].index.tolist()\n",
    "    ner_features_index.extend(element)\n",
    "\n",
    "ner_features = newfeatures(ner_features_index, X_lem) "
   ]
  },
  {
   "cell_type": "markdown",
   "metadata": {},
   "source": [
    "**N-Gram**"
   ]
  },
  {
   "cell_type": "code",
   "execution_count": 32,
   "metadata": {},
   "outputs": [],
   "source": [
    "# Unigram \n",
    "unigram = ngram(X_lem, nbr_gram=1, stopwords='english')\n",
    "unigram = ngrams_frequency(X_lem, unigram)\n",
    "unigram_100 = unigram['Gram'][:100]\n",
    "unigram_features = newfeatures(unigram_100, X_lem) "
   ]
  },
  {
   "cell_type": "code",
   "execution_count": 33,
   "metadata": {},
   "outputs": [
    {
     "data": {
      "text/plain": [
       "<AxesSubplot:xlabel='Gram'>"
      ]
     },
     "execution_count": 33,
     "metadata": {},
     "output_type": "execute_result"
    },
    {
     "data": {
      "image/png": "[encoded data removed]",
      "text/plain": [
       "<Figure size 1080x288 with 1 Axes>"
      ]
     },
     "metadata": {
      "needs_background": "light"
     },
     "output_type": "display_data"
    }
   ],
   "source": [
    "unigram[:100].plot(x='Gram', y='Frequencies', kind='bar', color='m', figsize=(15,4))"
   ]
  },
  {
   "cell_type": "code",
   "execution_count": 34,
   "metadata": {},
   "outputs": [],
   "source": [
    "# Bigram \n",
    "bigram = ngram(X_lem, nbr_gram=2, stopwords='english')\n",
    "bigram = ngrams_frequency(X_lem, bigram)\n",
    "bigram_100 = bigram['Gram'][:100]\n",
    "bigram_features = newfeatures(bigram_100, X_lem)"
   ]
  },
  {
   "cell_type": "code",
   "execution_count": 35,
   "metadata": {},
   "outputs": [
    {
     "data": {
      "text/plain": [
       "<AxesSubplot:xlabel='Gram'>"
      ]
     },
     "execution_count": 35,
     "metadata": {},
     "output_type": "execute_result"
    },
    {
     "data": {
      "image/png": "[encoded data removed]",
      "text/plain": [
       "<Figure size 1080x288 with 1 Axes>"
      ]
     },
     "metadata": {
      "needs_background": "light"
     },
     "output_type": "display_data"
    }
   ],
   "source": [
    "bigram[:30].plot(x='Gram', y='Frequencies', kind='bar', color='g', figsize=(15,4))"
   ]
  },
  {
   "cell_type": "code",
   "execution_count": 36,
   "metadata": {},
   "outputs": [],
   "source": [
    "# Trigram \n",
    "trigram = ngram(X_lem, nbr_gram=3, stopwords='english')\n",
    "trigram = ngrams_frequency(X_lem, trigram)\n",
    "trigram_100 = trigram['Gram'][:100]\n",
    "trigram_features = newfeatures(trigram_100, X_lem)"
   ]
  },
  {
   "cell_type": "code",
   "execution_count": 37,
   "metadata": {},
   "outputs": [
    {
     "data": {
      "text/plain": [
       "<AxesSubplot:xlabel='Gram'>"
      ]
     },
     "execution_count": 37,
     "metadata": {},
     "output_type": "execute_result"
    },
    {
     "data": {
      "image/png": "[encoded data removed]",
      "text/plain": [
       "<Figure size 1080x288 with 1 Axes>"
      ]
     },
     "metadata": {
      "needs_background": "light"
     },
     "output_type": "display_data"
    }
   ],
   "source": [
    "trigram[:30].plot(x='Gram', y='Frequencies', kind='bar', color='c', figsize=(15,4))"
   ]
  },
  {
   "cell_type": "markdown",
   "metadata": {},
   "source": [
    "**Shallow Parsing**"
   ]
  },
  {
   "cell_type": "code",
   "execution_count": null,
   "metadata": {},
   "outputs": [],
   "source": []
  },
  {
   "cell_type": "markdown",
   "metadata": {},
   "source": [
    "**Dependency Parsing**"
   ]
  },
  {
   "cell_type": "code",
   "execution_count": 38,
   "metadata": {},
   "outputs": [],
   "source": [
    "from tqdm import tqdm\n",
    "import numpy as np \n",
    "from sklearn.feature_extraction.text import TfidfVectorizer\n",
    "\n",
    "tweet_dependencies = dependency_graph(X_lem)\n",
    "\n",
    "tf_idf = TfidfVectorizer(binary=True,smooth_idf=False,)\n",
    "tweet_dependency_features = tf_idf.fit_transform(np.array(tweet_dependencies)).toarray()\n",
    "tweet_dependency_features = pd.DataFrame(tweet_dependency_features)"
   ]
  },
  {
   "cell_type": "code",
   "execution_count": null,
   "metadata": {},
   "outputs": [],
   "source": []
  },
  {
   "cell_type": "markdown",
   "metadata": {},
   "source": [
    "**SIGNIFICANT FEATURES**"
   ]
  },
  {
   "cell_type": "code",
   "execution_count": 39,
   "metadata": {},
   "outputs": [],
   "source": [
    "# Polarity \n",
    "newX = pd.concat([pd.DataFrame(X_lem_tfidf), polarity_], axis=1)\n",
    "f1score_m1, accuracy_m1 = evaluation(newX)"
   ]
  },
  {
   "cell_type": "code",
   "execution_count": 40,
   "metadata": {},
   "outputs": [],
   "source": [
    "# Length \n",
    "newX = pd.concat([pd.DataFrame(X_lem_tfidf), length], axis=1)\n",
    "f1score_m2, accuracy_m2 = evaluation(newX)  "
   ]
  },
  {
   "cell_type": "code",
   "execution_count": 41,
   "metadata": {},
   "outputs": [],
   "source": [
    "# Subjectivity \n",
    "newX = pd.concat([pd.DataFrame(X_lem_tfidf), subjectivity_], axis=1)\n",
    "f1score_m3, accuracy_m3 = evaluation(newX)   "
   ]
  },
  {
   "cell_type": "code",
   "execution_count": 42,
   "metadata": {},
   "outputs": [],
   "source": [
    "# NER features \n",
    "newX = pd.concat([pd.DataFrame(X_lem_tfidf), ner_features], axis=1)\n",
    "f1score_m4, accuracy_m4 = evaluation(newX)"
   ]
  },
  {
   "cell_type": "code",
   "execution_count": 43,
   "metadata": {},
   "outputs": [],
   "source": [
    "# Unigram \n",
    "newX = pd.concat([pd.DataFrame(X_lem_tfidf), unigram_features], axis=1)\n",
    "f1score_m5, accuracy_m5 = evaluation(newX)"
   ]
  },
  {
   "cell_type": "code",
   "execution_count": 44,
   "metadata": {},
   "outputs": [],
   "source": [
    "# Bigram \n",
    "newX = pd.concat([pd.DataFrame(X_lem_tfidf), bigram_features], axis=1)\n",
    "f1score_m6, accuracy_m6 = evaluation(newX)"
   ]
  },
  {
   "cell_type": "code",
   "execution_count": 45,
   "metadata": {},
   "outputs": [],
   "source": [
    "# Trigram \n",
    "newX = pd.concat([pd.DataFrame(X_lem_tfidf), trigram_features], axis=1)\n",
    "f1score_m7, accuracy_m7 = evaluation(newX)"
   ]
  },
  {
   "cell_type": "code",
   "execution_count": null,
   "metadata": {},
   "outputs": [],
   "source": [
    "# Shallow Parsing \n",
    "#newX = pd.concat([pd.DataFrame(X_lem_tfidf), ], axis=1)\n",
    "#f1score_m8, accuracy_m8 = evaluation(newX)"
   ]
  },
  {
   "cell_type": "code",
   "execution_count": 46,
   "metadata": {},
   "outputs": [],
   "source": [
    "# Dependency Parsing \n",
    "newX = pd.concat([pd.DataFrame(X_lem_tfidf), tweet_dependency_features], axis=1)\n",
    "f1score_m9, accuracy_m9 = evaluation(newX)"
   ]
  },
  {
   "cell_type": "code",
   "execution_count": 47,
   "metadata": {},
   "outputs": [],
   "source": [
    "m0 = [\"Without\",accuracy_tfidf,f1_score_tfidf]\n",
    "m1 = [\"Polarity\",accuracy_m1,f1score_m1]\n",
    "m2 = [\"Length\",accuracy_m2,f1score_m2]\n",
    "m3 = [\"Subjectivity\",accuracy_m3,f1score_m3]\n",
    "m4 = [\"NER\",accuracy_m4,f1score_m4]\n",
    "m5 = [\"Unigram\",accuracy_m5,f1score_m5]\n",
    "m6 = [\"Bigram\",accuracy_m6,f1score_m6]\n",
    "m7 = [\"Trigram\",accuracy_m7,f1score_m7]\n",
    "#m8 = [\"Polarity\",accuracy_m8,f1score_m8]\n",
    "m9 = [\"Dependency Parsing\",accuracy_m9,f1score_m9]"
   ]
  },
  {
   "cell_type": "code",
   "execution_count": 48,
   "metadata": {},
   "outputs": [
    {
     "data": {
      "text/html": [
       "<div>\n",
       "<style scoped>\n",
       "    .dataframe tbody tr th:only-of-type {\n",
       "        vertical-align: middle;\n",
       "    }\n",
       "\n",
       "    .dataframe tbody tr th {\n",
       "        vertical-align: top;\n",
       "    }\n",
       "\n",
       "    .dataframe thead th {\n",
       "        text-align: right;\n",
       "    }\n",
       "</style>\n",
       "<table border=\"1\" class=\"dataframe\">\n",
       "  <thead>\n",
       "    <tr style=\"text-align: right;\">\n",
       "      <th></th>\n",
       "      <th>Methods</th>\n",
       "      <th>Accuracy</th>\n",
       "      <th>F1 Score</th>\n",
       "    </tr>\n",
       "  </thead>\n",
       "  <tbody>\n",
       "    <tr>\n",
       "      <th>0</th>\n",
       "      <td>Without</td>\n",
       "      <td>0.880857</td>\n",
       "      <td>0.617753</td>\n",
       "    </tr>\n",
       "    <tr>\n",
       "      <th>1</th>\n",
       "      <td>Polarity</td>\n",
       "      <td>0.880537</td>\n",
       "      <td>0.616333</td>\n",
       "    </tr>\n",
       "    <tr>\n",
       "      <th>2</th>\n",
       "      <td>Length</td>\n",
       "      <td>0.880857</td>\n",
       "      <td>0.617753</td>\n",
       "    </tr>\n",
       "    <tr>\n",
       "      <th>3</th>\n",
       "      <td>Subjectivity</td>\n",
       "      <td>0.881017</td>\n",
       "      <td>0.618070</td>\n",
       "    </tr>\n",
       "    <tr>\n",
       "      <th>4</th>\n",
       "      <td>NER</td>\n",
       "      <td>0.881977</td>\n",
       "      <td>0.621150</td>\n",
       "    </tr>\n",
       "    <tr>\n",
       "      <th>5</th>\n",
       "      <td>Unigram</td>\n",
       "      <td>0.885335</td>\n",
       "      <td>0.645926</td>\n",
       "    </tr>\n",
       "    <tr>\n",
       "      <th>6</th>\n",
       "      <td>Bigram</td>\n",
       "      <td>0.881657</td>\n",
       "      <td>0.622449</td>\n",
       "    </tr>\n",
       "    <tr>\n",
       "      <th>7</th>\n",
       "      <td>Trigram</td>\n",
       "      <td>0.880857</td>\n",
       "      <td>0.617753</td>\n",
       "    </tr>\n",
       "    <tr>\n",
       "      <th>8</th>\n",
       "      <td>Dependency Parsing</td>\n",
       "      <td>0.882456</td>\n",
       "      <td>0.624809</td>\n",
       "    </tr>\n",
       "  </tbody>\n",
       "</table>\n",
       "</div>"
      ],
      "text/plain": [
       "              Methods  Accuracy  F1 Score\n",
       "0             Without  0.880857  0.617753\n",
       "1            Polarity  0.880537  0.616333\n",
       "2              Length  0.880857  0.617753\n",
       "3        Subjectivity  0.881017  0.618070\n",
       "4                 NER  0.881977  0.621150\n",
       "5             Unigram  0.885335  0.645926\n",
       "6              Bigram  0.881657  0.622449\n",
       "7             Trigram  0.880857  0.617753\n",
       "8  Dependency Parsing  0.882456  0.624809"
      ]
     },
     "execution_count": 48,
     "metadata": {},
     "output_type": "execute_result"
    }
   ],
   "source": [
    "results(m0,m1,m2,m3,m4,m5,m6,m7,m9)"
   ]
  },
  {
   "cell_type": "markdown",
   "metadata": {},
   "source": [
    "# Modeling "
   ]
  },
  {
   "cell_type": "markdown",
   "metadata": {},
   "source": [
    "**Features**"
   ]
  },
  {
   "cell_type": "code",
   "execution_count": 49,
   "metadata": {},
   "outputs": [],
   "source": [
    "Features = combine_features(X_lem_tfidf, length, subjectivity_, ner_features, trigram_features, tweet_dependency_features)"
   ]
  },
  {
   "cell_type": "code",
   "execution_count": 50,
   "metadata": {},
   "outputs": [],
   "source": [
    "from sklearn.model_selection import train_test_split\n",
    "X_train, X_test, y_train, y_test = train_test_split(Features, y, test_size=0.30, random_state=42, shuffle=True)"
   ]
  },
  {
   "cell_type": "markdown",
   "metadata": {},
   "source": [
    "**SVM**"
   ]
  },
  {
   "cell_type": "code",
   "execution_count": 51,
   "metadata": {},
   "outputs": [
    {
     "name": "stdout",
     "output_type": "stream",
     "text": [
      "CPU times: user 5min 55s, sys: 1.11 s, total: 5min 56s\n",
      "Wall time: 5min 57s\n"
     ]
    }
   ],
   "source": [
    "%%time\n",
    "#f1_score_svm, accuracy_score_svm = evaluation(Features)\n",
    "# Training & Evaluation \n",
    "from sklearn.svm import SVC \n",
    "model = SVC(kernel='linear', random_state=0)\n",
    "model.fit(X_train, y_train)\n",
    "\n",
    "# prediction \n",
    "y_pred = model.predict(X_test)\n",
    "\n",
    "# evaluation \n",
    "from sklearn.metrics import accuracy_score, f1_score\n",
    "f1_score_svm = f1_score(y_test, y_pred)\n",
    "accuracy_svm = accuracy_score(y_test, y_pred)"
   ]
  },
  {
   "cell_type": "code",
   "execution_count": 52,
   "metadata": {},
   "outputs": [
    {
     "data": {
      "image/png": "[encoded data removed]",
      "text/plain": [
       "<Figure size 432x288 with 2 Axes>"
      ]
     },
     "metadata": {
      "needs_background": "light"
     },
     "output_type": "display_data"
    }
   ],
   "source": [
    "from sklearn.metrics import plot_confusion_matrix\n",
    "plot_confusion_matrix(model, X_test, y_test)\n",
    "plt.show()"
   ]
  },
  {
   "cell_type": "markdown",
   "metadata": {},
   "source": [
    "**Logistic Regression**"
   ]
  },
  {
   "cell_type": "code",
   "execution_count": 53,
   "metadata": {},
   "outputs": [
    {
     "name": "stdout",
     "output_type": "stream",
     "text": [
      "CPU times: user 4.12 s, sys: 245 ms, total: 4.37 s\n",
      "Wall time: 1.29 s\n"
     ]
    }
   ],
   "source": [
    "%%time\n",
    "from sklearn.linear_model import LogisticRegression\n",
    "model = LogisticRegression()\n",
    "model.fit(X_train, y_train)\n",
    "\n",
    "# prediction\n",
    "y_pred = model.predict(X_test)\n",
    "\n",
    "# evaluation \n",
    "from sklearn.metrics import accuracy_score, f1_score\n",
    "f1_score_logreg = f1_score(y_test, y_pred)\n",
    "accuracy_logreg = accuracy_score(y_test, y_pred)"
   ]
  },
  {
   "cell_type": "code",
   "execution_count": 54,
   "metadata": {},
   "outputs": [
    {
     "data": {
      "image/png": "[encoded data removed]",
      "text/plain": [
       "<Figure size 432x288 with 2 Axes>"
      ]
     },
     "metadata": {
      "needs_background": "light"
     },
     "output_type": "display_data"
    }
   ],
   "source": [
    "from sklearn.metrics import plot_confusion_matrix\n",
    "plot_confusion_matrix(model, X_test, y_test)\n",
    "plt.show()"
   ]
  },
  {
   "cell_type": "markdown",
   "metadata": {},
   "source": [
    "**Random Forest**"
   ]
  },
  {
   "cell_type": "code",
   "execution_count": 55,
   "metadata": {},
   "outputs": [],
   "source": [
    "# training \n",
    "from sklearn.ensemble import RandomForestClassifier \n",
    "model = RandomForestClassifier(random_state=0)\n",
    "model.fit(X_train, y_train)\n",
    "\n",
    "# prediction \n",
    "y_pred = model.predict(X_test)\n",
    "\n",
    "# evaluation \n",
    "from sklearn.metrics import accuracy_score, f1_score\n",
    "f1_score_rf = f1_score(y_test, y_pred)\n",
    "accuracy_rf = accuracy_score(y_test, y_pred)"
   ]
  },
  {
   "cell_type": "code",
   "execution_count": 56,
   "metadata": {},
   "outputs": [
    {
     "data": {
      "image/png": "[encoded data removed]",
      "text/plain": [
       "<Figure size 432x288 with 2 Axes>"
      ]
     },
     "metadata": {
      "needs_background": "light"
     },
     "output_type": "display_data"
    }
   ],
   "source": [
    "from sklearn.metrics import plot_confusion_matrix\n",
    "plot_confusion_matrix(model, X_test, y_test)\n",
    "plt.show()"
   ]
  },
  {
   "cell_type": "markdown",
   "metadata": {},
   "source": [
    "**Naive Bayes**"
   ]
  },
  {
   "cell_type": "code",
   "execution_count": 57,
   "metadata": {},
   "outputs": [],
   "source": [
    "# training \n",
    "from sklearn.naive_bayes import GaussianNB\n",
    "model = GaussianNB()\n",
    "model.fit(X_train, y_train)\n",
    "\n",
    "# prediction \n",
    "y_pred = model.predict(X_test)\n",
    "\n",
    "# evaluation \n",
    "from sklearn.metrics import accuracy_score, f1_score\n",
    "f1_score_nb = f1_score(y_test, y_pred)\n",
    "accuracy_nb = accuracy_score(y_test, y_pred)"
   ]
  },
  {
   "cell_type": "code",
   "execution_count": 58,
   "metadata": {},
   "outputs": [
    {
     "data": {
      "image/png": "[encoded data removed]",
      "text/plain": [
       "<Figure size 432x288 with 2 Axes>"
      ]
     },
     "metadata": {
      "needs_background": "light"
     },
     "output_type": "display_data"
    }
   ],
   "source": [
    "from sklearn.metrics import plot_confusion_matrix\n",
    "plot_confusion_matrix(model, X_test, y_test)\n",
    "plt.show()"
   ]
  },
  {
   "cell_type": "markdown",
   "metadata": {},
   "source": [
    "# -------------------------------------------------------------"
   ]
  },
  {
   "cell_type": "code",
   "execution_count": 12,
   "metadata": {},
   "outputs": [],
   "source": [
    "def newfeatures(newf, tweets):\n",
    "    matrix = []\n",
    "    for tweet in tweets:\n",
    "        values = []\n",
    "        for feature in newf:\n",
    "            if feature in tweet: values.append(1)\n",
    "            else: values.append(0)\n",
    "        matrix.append(values)\n",
    "    return pd.DataFrame(matrix, columns=newf)"
   ]
  },
  {
   "cell_type": "code",
   "execution_count": 13,
   "metadata": {},
   "outputs": [],
   "source": [
    "def combine_features(X, *new_features):\n",
    "    X = pd.DataFrame(X)\n",
    "    F = pd.concat(list(new_features), axis=1)\n",
    "    return pd.concat([F,X], axis=1)"
   ]
  },
  {
   "cell_type": "code",
   "execution_count": 14,
   "metadata": {},
   "outputs": [],
   "source": [
    "def polarity(tweets):\n",
    "    from textblob import TextBlob\n",
    "    polarity = []\n",
    "    for tweet in tweets: \n",
    "        pol = TextBlob(tweet)\n",
    "        polarity.append(pol.sentiment.polarity)\n",
    "    return pd.DataFrame(polarity)"
   ]
  },
  {
   "cell_type": "code",
   "execution_count": 15,
   "metadata": {},
   "outputs": [],
   "source": [
    "def subjectivity(tweets):\n",
    "    from textblob import TextBlob\n",
    "    subjectivity = []\n",
    "    for tweet in tweets: \n",
    "        pol = TextBlob(tweet)\n",
    "        subjectivity.append(pol.sentiment.subjectivity)\n",
    "    return pd.DataFrame(subjectivity)"
   ]
  },
  {
   "cell_type": "code",
   "execution_count": 16,
   "metadata": {},
   "outputs": [],
   "source": [
    "def len_tweets(tweets):\n",
    "    length = []\n",
    "    for tweet in tweets:\n",
    "        length.append(len(tweet))\n",
    "    return pd.DataFrame(length)"
   ]
  },
  {
   "cell_type": "code",
   "execution_count": 17,
   "metadata": {},
   "outputs": [],
   "source": [
    "def named_entity_recognition(tweets):\n",
    "    nlp = spacy.load('en_core_web_sm')\n",
    "    bloc = []\n",
    "    for tweet in tweets: \n",
    "        doc = nlp(tweet)\n",
    "        for ent in doc.ents:\n",
    "            bloc.append([ent.text, ent.label_])\n",
    "    return pd.DataFrame(bloc,columns=['Text','Label'])"
   ]
  },
  {
   "cell_type": "code",
   "execution_count": 18,
   "metadata": {},
   "outputs": [],
   "source": [
    "def ngram(tweets, nbr_gram, stopwords):\n",
    "    from sklearn.feature_extraction.text import CountVectorizer\n",
    "    vectorizer = CountVectorizer(max_features=None, \n",
    "                                stop_words=stopwords,\n",
    "                                ngram_range = (nbr_gram,nbr_gram)\n",
    "                                )\n",
    "    vectorizer.fit(tweets)\n",
    "    vocab = list(vectorizer.vocabulary_.keys())\n",
    "    \n",
    "    return vocab "
   ]
  },
  {
   "cell_type": "code",
   "execution_count": 19,
   "metadata": {},
   "outputs": [],
   "source": [
    "def ngrams_frequency(tweets, grams):\n",
    "    \n",
    "    # all tweets in one single string \n",
    "    all_tweets = tweets.sum(axis=0)\n",
    "    \n",
    "    ngrams_frequency = []\n",
    "    for gram in grams:\n",
    "        ngrams_frequency.append([gram,all_tweets.count(gram)])\n",
    "    \n",
    "    matrix = pd.DataFrame(ngrams_frequency,columns=['Gram','Frequencies'])\n",
    "    matrix.sort_values(by='Frequencies', ascending=False, inplace=True)\n",
    "    return matrix"
   ]
  },
  {
   "cell_type": "code",
   "execution_count": 20,
   "metadata": {},
   "outputs": [],
   "source": [
    "def dependency_graph(tweets):\n",
    "    import spacy \n",
    "    nlp = spacy.load('en_core_web_sm')\n",
    "    tweet_dependencies = []\n",
    "    \n",
    "    for tweet in tweets:\n",
    "        doc = nlp(tweet)\n",
    "        all_two_treelet = \"\"\n",
    "        for token in doc:\n",
    "            two_treelet = str(token.pos_) + \" -> \" + str(token.dep_) + \" -> \" + str(token.head.pos_)\n",
    "            all_two_treelet += two_treelet + \" | \"\n",
    "        tweet_dependencies.append(all_two_treelet)\n",
    "\n",
    "    return pd.Series(tweet_dependencies)"
   ]
  },
  {
   "cell_type": "code",
   "execution_count": null,
   "metadata": {},
   "outputs": [],
   "source": []
  },
  {
   "cell_type": "code",
   "execution_count": 21,
   "metadata": {},
   "outputs": [],
   "source": [
    "def evaluation(X):\n",
    "    from sklearn.model_selection import train_test_split\n",
    "    X_train, X_test, y_train, y_test = train_test_split(X, y, test_size=0.30, random_state=42, shuffle=True)\n",
    "\n",
    "    from sklearn.svm import SVC \n",
    "    model = SVC(kernel='linear', random_state=0)\n",
    "    model.fit(X_train, y_train)\n",
    "    y_pred = model.predict(X_test)\n",
    "\n",
    "    from sklearn.metrics import accuracy_score, f1_score\n",
    "    f1_score = f1_score(y_test, y_pred)\n",
    "    accuracy = accuracy_score(y_test, y_pred)\n",
    "    return f1_score, accuracy"
   ]
  },
  {
   "cell_type": "code",
   "execution_count": 23,
   "metadata": {},
   "outputs": [],
   "source": [
    "def results(*args):\n",
    "    '''\n",
    "        [Method,Accuracy,F1Score]\n",
    "    '''\n",
    "    \n",
    "    methods_results = []\n",
    "    for method in args:\n",
    "        methods_results.append(method)\n",
    "    return pd.DataFrame(methods_results,columns=[\"Methods\",\"Accuracy\",\"F1 Score\"]) "
   ]
  }
 ],
 "metadata": {
  "kernelspec": {
   "display_name": "Python 3",
   "language": "python",
   "name": "python3"
  },
  "language_info": {
   "codemirror_mode": {
    "name": "ipython",
    "version": 3
   },
   "file_extension": ".py",
   "mimetype": "text/x-python",
   "name": "python",
   "nbconvert_exporter": "python",
   "pygments_lexer": "ipython3",
   "version": "3.7.4"
  }
 },
 "nbformat": 4,
 "nbformat_minor": 4
}
