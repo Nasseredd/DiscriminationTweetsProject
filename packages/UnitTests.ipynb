{
 "cells": [
  {
   "source": [
    "# Notes "
   ],
   "cell_type": "markdown",
   "metadata": {}
  },
  {
   "source": [
    "**Progressing**\n",
    "convert emojis, generate sub dataframes, \n",
    "\n",
    "**Further** \n",
    "* Continue the unit testing "
   ],
   "cell_type": "markdown",
   "metadata": {}
  },
  {
   "source": [
    "# Libraries "
   ],
   "cell_type": "markdown",
   "metadata": {}
  },
  {
   "cell_type": "code",
   "execution_count": 1,
   "metadata": {},
   "outputs": [],
   "source": [
    "import pandas as pd"
   ]
  },
  {
   "source": [
    "# Unit tests "
   ],
   "cell_type": "markdown",
   "metadata": {}
  },
  {
   "cell_type": "code",
   "execution_count": 4,
   "metadata": {},
   "outputs": [
    {
     "output_type": "execute_result",
     "data": {
      "text/plain": [
       "'winkingface winkingface grinningfacewithsweat grinningfacewithsweat'"
      ]
     },
     "metadata": {},
     "execution_count": 4
    }
   ],
   "source": [
    "# Convert emojis test \n",
    "dt.convert_emojis(\"😉 😉 😅 😅\")"
   ]
  },
  {
   "cell_type": "code",
   "execution_count": 6,
   "metadata": {},
   "outputs": [],
   "source": [
    "# Sub dataframe test \n",
    "file = '../Data/data.csv'\n",
    "dataframe = pd.read_csv(file, error_bad_lines=False, sep=\";\")\n",
    "subdf1 = dt.subdataframe(dataframe,5)\n",
    "subdf2 = dt.subdataframe(dataframe,7)"
   ]
  }
 ],
 "metadata": {
  "kernelspec": {
   "display_name": "Python 3",
   "language": "python",
   "name": "python3"
  },
  "language_info": {
   "codemirror_mode": {
    "name": "ipython",
    "version": 3
   },
   "file_extension": ".py",
   "mimetype": "text/x-python",
   "name": "python",
   "nbconvert_exporter": "python",
   "pygments_lexer": "ipython3",
   "version": "3.7.4-final"
  }
 },
 "nbformat": 4,
 "nbformat_minor": 4
}