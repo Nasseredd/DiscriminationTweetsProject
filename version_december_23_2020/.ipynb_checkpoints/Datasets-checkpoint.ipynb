{
 "cells": [
  {
   "cell_type": "markdown",
   "metadata": {},
   "source": [
    "## Libraries "
   ]
  },
  {
   "cell_type": "code",
   "execution_count": 3,
   "metadata": {},
   "outputs": [],
   "source": [
    "import pandas as pd "
   ]
  },
  {
   "cell_type": "markdown",
   "metadata": {},
   "source": [
    "## Data set wassem_css.csv"
   ]
  },
  {
   "cell_type": "code",
   "execution_count": 5,
   "metadata": {},
   "outputs": [],
   "source": [
    "# Import the data set \n",
    "wassem_1 = pd.read_csv('Data/wassem_css.csv', sep='\\t', error_bad_lines=True)"
   ]
  },
  {
   "cell_type": "code",
   "execution_count": 6,
   "metadata": {},
   "outputs": [
    {
     "data": {
      "text/plain": [
       "(6667, 6)"
      ]
     },
     "execution_count": 6,
     "metadata": {},
     "output_type": "execute_result"
    }
   ],
   "source": [
    "# Shape \n",
    "wassem_1.shape"
   ]
  },
  {
   "cell_type": "code",
   "execution_count": 9,
   "metadata": {},
   "outputs": [
    {
     "data": {
      "text/html": [
       "<div>\n",
       "<style scoped>\n",
       "    .dataframe tbody tr th:only-of-type {\n",
       "        vertical-align: middle;\n",
       "    }\n",
       "\n",
       "    .dataframe tbody tr th {\n",
       "        vertical-align: top;\n",
       "    }\n",
       "\n",
       "    .dataframe thead th {\n",
       "        text-align: right;\n",
       "    }\n",
       "</style>\n",
       "<table border=\"1\" class=\"dataframe\">\n",
       "  <thead>\n",
       "    <tr style=\"text-align: right;\">\n",
       "      <th></th>\n",
       "      <th>Tweet_ID</th>\n",
       "      <th>Previous</th>\n",
       "      <th>User_ID</th>\n",
       "      <th>Text</th>\n",
       "      <th>Expert_Annotation</th>\n",
       "      <th>Amateur_Annotations</th>\n",
       "    </tr>\n",
       "  </thead>\n",
       "  <tbody>\n",
       "    <tr>\n",
       "      <th>0</th>\n",
       "      <td>570775709343461377</td>\n",
       "      <td>5.707751e+17</td>\n",
       "      <td>24414732</td>\n",
       "      <td>@TVBachelor @NewJerzeyBoy what about the femin...</td>\n",
       "      <td>both</td>\n",
       "      <td>[neither,sexism,sexism]</td>\n",
       "    </tr>\n",
       "    <tr>\n",
       "      <th>1</th>\n",
       "      <td>596730741490253824</td>\n",
       "      <td>5.967300e+17</td>\n",
       "      <td>13857342</td>\n",
       "      <td>@ThelmaSleaze uh... did you watch the video? o...</td>\n",
       "      <td>both</td>\n",
       "      <td>[neither,racism,sexism]</td>\n",
       "    </tr>\n",
       "  </tbody>\n",
       "</table>\n",
       "</div>"
      ],
      "text/plain": [
       "             Tweet_ID      Previous   User_ID  \\\n",
       "0  570775709343461377  5.707751e+17  24414732   \n",
       "1  596730741490253824  5.967300e+17  13857342   \n",
       "\n",
       "                                                Text Expert_Annotation  \\\n",
       "0  @TVBachelor @NewJerzeyBoy what about the femin...              both   \n",
       "1  @ThelmaSleaze uh... did you watch the video? o...              both   \n",
       "\n",
       "       Amateur_Annotations  \n",
       "0  [neither,sexism,sexism]  \n",
       "1  [neither,racism,sexism]  "
      ]
     },
     "execution_count": 9,
     "metadata": {},
     "output_type": "execute_result"
    }
   ],
   "source": [
    "# preview  \n",
    "wassem_1.head(2)"
   ]
  },
  {
   "cell_type": "code",
   "execution_count": 12,
   "metadata": {},
   "outputs": [],
   "source": [
    "# Select tweets and Annotations \n",
    "wassem_1 = wassem_1[['Text','Expert_Annotation']]"
   ]
  },
  {
   "cell_type": "code",
   "execution_count": 14,
   "metadata": {},
   "outputs": [
    {
     "data": {
      "text/plain": [
       "neither    5729\n",
       "sexism      815\n",
       "racism       88\n",
       "both         35\n",
       "Name: Expert_Annotation, dtype: int64"
      ]
     },
     "execution_count": 14,
     "metadata": {},
     "output_type": "execute_result"
    }
   ],
   "source": [
    "# Annotations (Labels)\n",
    "wassem_1['Expert_Annotation'].value_counts()"
   ]
  },
  {
   "cell_type": "code",
   "execution_count": 11,
   "metadata": {},
   "outputs": [],
   "source": [
    "# Extract Racism dataset and Sexism dataset \n",
    "racism_data_1 = wassem_1[wassem_1['Expert_Annotation']!='sexism']\n",
    "sexism_data_1 = wassem_1[wassem_1['Expert_Annotation']!='racism']"
   ]
  },
  {
   "cell_type": "markdown",
   "metadata": {},
   "source": [
    "## Data set wassem_hovy_naacl.csv"
   ]
  },
  {
   "cell_type": "code",
   "execution_count": 16,
   "metadata": {},
   "outputs": [],
   "source": [
    "# Import the data set \n",
    "wassem_2 = pd.read_csv('Data/wassem_hovy_naacl.csv', sep='\\t')"
   ]
  },
  {
   "cell_type": "code",
   "execution_count": 17,
   "metadata": {},
   "outputs": [
    {
     "data": {
      "text/plain": [
       "(16202, 5)"
      ]
     },
     "execution_count": 17,
     "metadata": {},
     "output_type": "execute_result"
    }
   ],
   "source": [
    "# Shape \n",
    "wassem_2.shape"
   ]
  },
  {
   "cell_type": "code",
   "execution_count": 18,
   "metadata": {},
   "outputs": [
    {
     "data": {
      "text/html": [
       "<div>\n",
       "<style scoped>\n",
       "    .dataframe tbody tr th:only-of-type {\n",
       "        vertical-align: middle;\n",
       "    }\n",
       "\n",
       "    .dataframe tbody tr th {\n",
       "        vertical-align: top;\n",
       "    }\n",
       "\n",
       "    .dataframe thead th {\n",
       "        text-align: right;\n",
       "    }\n",
       "</style>\n",
       "<table border=\"1\" class=\"dataframe\">\n",
       "  <thead>\n",
       "    <tr style=\"text-align: right;\">\n",
       "      <th></th>\n",
       "      <th>Tweet_ID</th>\n",
       "      <th>Previous</th>\n",
       "      <th>User_ID</th>\n",
       "      <th>Text</th>\n",
       "      <th>Label</th>\n",
       "    </tr>\n",
       "  </thead>\n",
       "  <tbody>\n",
       "    <tr>\n",
       "      <th>0</th>\n",
       "      <td>567080871472017408</td>\n",
       "      <td>5.670786e+17</td>\n",
       "      <td>2941145694</td>\n",
       "      <td>@truaemusic The followers of the religion give...</td>\n",
       "      <td>racism</td>\n",
       "    </tr>\n",
       "    <tr>\n",
       "      <th>1</th>\n",
       "      <td>566098518616449024</td>\n",
       "      <td>5.660874e+17</td>\n",
       "      <td>2941145694</td>\n",
       "      <td>@Love___Egypt @washingtonpost All the land tha...</td>\n",
       "      <td>racism</td>\n",
       "    </tr>\n",
       "  </tbody>\n",
       "</table>\n",
       "</div>"
      ],
      "text/plain": [
       "             Tweet_ID      Previous     User_ID  \\\n",
       "0  567080871472017408  5.670786e+17  2941145694   \n",
       "1  566098518616449024  5.660874e+17  2941145694   \n",
       "\n",
       "                                                Text   Label  \n",
       "0  @truaemusic The followers of the religion give...  racism  \n",
       "1  @Love___Egypt @washingtonpost All the land tha...  racism  "
      ]
     },
     "execution_count": 18,
     "metadata": {},
     "output_type": "execute_result"
    }
   ],
   "source": [
    "# Preview \n",
    "wassem_2.head(2)"
   ]
  },
  {
   "cell_type": "code",
   "execution_count": 19,
   "metadata": {},
   "outputs": [],
   "source": [
    "# Select tweets and Annotations \n",
    "wassem_2 = wassem_2[['Text','Label']]"
   ]
  },
  {
   "cell_type": "code",
   "execution_count": 20,
   "metadata": {},
   "outputs": [],
   "source": [
    "# Extract Racism dataset and Sexism dataset \n",
    "racism_data_2 = wassem_2[wassem_2['Label']!='sexism']\n",
    "sexism_data_2 = wassem_2[wassem_2['Label']!='racism']"
   ]
  },
  {
   "cell_type": "markdown",
   "metadata": {},
   "source": [
    "## Racism Dataset "
   ]
  },
  {
   "cell_type": "code",
   "execution_count": 26,
   "metadata": {},
   "outputs": [
    {
     "data": {
      "text/plain": [
       "neither    5729\n",
       "racism       88\n",
       "both         35\n",
       "Name: Expert_Annotation, dtype: int64"
      ]
     },
     "execution_count": 26,
     "metadata": {},
     "output_type": "execute_result"
    }
   ],
   "source": [
    "# Annotations of racism_data_1\n",
    "racism_data_1['Expert_Annotation'].value_counts()"
   ]
  },
  {
   "cell_type": "code",
   "execution_count": 25,
   "metadata": {},
   "outputs": [
    {
     "data": {
      "text/plain": [
       "none      11115\n",
       "racism     1939\n",
       "Name: Label, dtype: int64"
      ]
     },
     "execution_count": 25,
     "metadata": {},
     "output_type": "execute_result"
    }
   ],
   "source": [
    "# Annotations of racism_data_2\n",
    "racism_data_2['Label'].value_counts()"
   ]
  },
  {
   "cell_type": "code",
   "execution_count": 29,
   "metadata": {},
   "outputs": [],
   "source": [
    "# rename columns \n",
    "racism_data_1.columns = [\"Tweets\",\"Labels\"]\n",
    "racism_data_2.columns = [\"Tweets\",\"Labels\"]"
   ]
  },
  {
   "cell_type": "code",
   "execution_count": 31,
   "metadata": {},
   "outputs": [],
   "source": [
    "# combine racism_data_1 & racism_data_2\n",
    "racism = pd.concat([racism_data_1,racism_data_2], axis=0, ignore_index=True)"
   ]
  },
  {
   "cell_type": "code",
   "execution_count": 32,
   "metadata": {},
   "outputs": [
    {
     "data": {
      "text/plain": [
       "none       11115\n",
       "neither     5729\n",
       "racism      2027\n",
       "both          35\n",
       "Name: Labels, dtype: int64"
      ]
     },
     "execution_count": 32,
     "metadata": {},
     "output_type": "execute_result"
    }
   ],
   "source": [
    "# Labels \n",
    "racism['Labels'].value_counts()"
   ]
  },
  {
   "cell_type": "code",
   "execution_count": 34,
   "metadata": {},
   "outputs": [],
   "source": [
    "# Encoding (racist tweet = 1, none = 0)\n",
    "racism['Labels'].replace('none','0', inplace=True)\n",
    "racism['Labels'].replace('neither','0', inplace=True)\n",
    "racism['Labels'].replace('racism','1', inplace=True)\n",
    "racism['Labels'].replace('both','1', inplace=True)"
   ]
  },
  {
   "cell_type": "code",
   "execution_count": 35,
   "metadata": {},
   "outputs": [
    {
     "data": {
      "text/plain": [
       "0    16844\n",
       "1     2062\n",
       "Name: Labels, dtype: int64"
      ]
     },
     "execution_count": 35,
     "metadata": {},
     "output_type": "execute_result"
    }
   ],
   "source": [
    "# Labels (verification) \n",
    "racism['Labels'].value_counts()"
   ]
  },
  {
   "cell_type": "code",
   "execution_count": 36,
   "metadata": {},
   "outputs": [],
   "source": [
    "# Export the racism dataset \n",
    "racism.to_csv('Data/racism.csv', index_label=False)"
   ]
  },
  {
   "cell_type": "markdown",
   "metadata": {},
   "source": [
    "## Sexism data set "
   ]
  },
  {
   "cell_type": "code",
   "execution_count": 38,
   "metadata": {},
   "outputs": [
    {
     "data": {
      "text/plain": [
       "neither    5729\n",
       "sexism      815\n",
       "both         35\n",
       "Name: Expert_Annotation, dtype: int64"
      ]
     },
     "execution_count": 38,
     "metadata": {},
     "output_type": "execute_result"
    }
   ],
   "source": [
    "# Annotations of sexism_data_1\n",
    "sexism_data_1['Expert_Annotation'].value_counts()"
   ]
  },
  {
   "cell_type": "code",
   "execution_count": 39,
   "metadata": {},
   "outputs": [
    {
     "data": {
      "text/plain": [
       "none      11115\n",
       "sexism     3148\n",
       "Name: Label, dtype: int64"
      ]
     },
     "execution_count": 39,
     "metadata": {},
     "output_type": "execute_result"
    }
   ],
   "source": [
    "# Annotations of sexism_data_2\n",
    "sexism_data_2['Label'].value_counts()"
   ]
  },
  {
   "cell_type": "code",
   "execution_count": 40,
   "metadata": {},
   "outputs": [],
   "source": [
    "# rename columns \n",
    "sexism_data_1.columns = [\"Tweets\",\"Labels\"]\n",
    "sexism_data_2.columns = [\"Tweets\",\"Labels\"]"
   ]
  },
  {
   "cell_type": "code",
   "execution_count": 41,
   "metadata": {},
   "outputs": [],
   "source": [
    "# combine sexism_data_1 & sexism_data_2\n",
    "sexism = pd.concat([sexism_data_1,sexism_data_2], axis=0, ignore_index=True)"
   ]
  },
  {
   "cell_type": "code",
   "execution_count": 42,
   "metadata": {},
   "outputs": [
    {
     "data": {
      "text/plain": [
       "none       11115\n",
       "neither     5729\n",
       "sexism      3963\n",
       "both          35\n",
       "Name: Labels, dtype: int64"
      ]
     },
     "execution_count": 42,
     "metadata": {},
     "output_type": "execute_result"
    }
   ],
   "source": [
    "# Labels\n",
    "sexism['Labels'].value_counts()"
   ]
  },
  {
   "cell_type": "code",
   "execution_count": 44,
   "metadata": {},
   "outputs": [],
   "source": [
    "# Encoding (sexist tweet = 1, none = 0)\n",
    "sexism['Labels'].replace('none','0', inplace=True)\n",
    "sexism['Labels'].replace('neither','0', inplace=True)\n",
    "sexism['Labels'].replace('sexism','1', inplace=True)\n",
    "sexism['Labels'].replace('both','1', inplace=True)"
   ]
  },
  {
   "cell_type": "code",
   "execution_count": 45,
   "metadata": {},
   "outputs": [
    {
     "data": {
      "text/plain": [
       "0    16844\n",
       "1     3998\n",
       "Name: Labels, dtype: int64"
      ]
     },
     "execution_count": 45,
     "metadata": {},
     "output_type": "execute_result"
    }
   ],
   "source": [
    "# Labels (verification) \n",
    "sexism['Labels'].value_counts()"
   ]
  },
  {
   "cell_type": "code",
   "execution_count": 46,
   "metadata": {},
   "outputs": [],
   "source": [
    "# Export the sexism dataset \n",
    "sexism.to_csv('Data/sexism.csv', index_label=False)"
   ]
  }
 ],
 "metadata": {
  "kernelspec": {
   "display_name": "Python 3",
   "language": "python",
   "name": "python3"
  },
  "language_info": {
   "codemirror_mode": {
    "name": "ipython",
    "version": 3
   },
   "file_extension": ".py",
   "mimetype": "text/x-python",
   "name": "python",
   "nbconvert_exporter": "python",
   "pygments_lexer": "ipython3",
   "version": "3.7.4"
  }
 },
 "nbformat": 4,
 "nbformat_minor": 4
}
