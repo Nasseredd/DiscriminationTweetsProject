{
 "cells": [
  {
   "cell_type": "markdown",
   "metadata": {},
   "source": [
    "## Libraries "
   ]
  },
  {
   "cell_type": "code",
   "execution_count": 110,
   "metadata": {},
   "outputs": [],
   "source": [
    "import pandas as pd "
   ]
  },
  {
   "cell_type": "markdown",
   "metadata": {},
   "source": [
    "## Data set wassem_css.csv"
   ]
  },
  {
   "cell_type": "code",
   "execution_count": 111,
   "metadata": {},
   "outputs": [],
   "source": [
    "# Import the data set \n",
    "wassem_1 = pd.read_csv('Data/wassem_css.csv', sep='\\t', error_bad_lines=True)"
   ]
  },
  {
   "cell_type": "code",
   "execution_count": 112,
   "metadata": {},
   "outputs": [
    {
     "data": {
      "text/plain": [
       "(6667, 6)"
      ]
     },
     "execution_count": 112,
     "metadata": {},
     "output_type": "execute_result"
    }
   ],
   "source": [
    "# Shape \n",
    "wassem_1.shape"
   ]
  },
  {
   "cell_type": "code",
   "execution_count": 113,
   "metadata": {},
   "outputs": [
    {
     "data": {
      "text/html": [
       "<div>\n",
       "<style scoped>\n",
       "    .dataframe tbody tr th:only-of-type {\n",
       "        vertical-align: middle;\n",
       "    }\n",
       "\n",
       "    .dataframe tbody tr th {\n",
       "        vertical-align: top;\n",
       "    }\n",
       "\n",
       "    .dataframe thead th {\n",
       "        text-align: right;\n",
       "    }\n",
       "</style>\n",
       "<table border=\"1\" class=\"dataframe\">\n",
       "  <thead>\n",
       "    <tr style=\"text-align: right;\">\n",
       "      <th></th>\n",
       "      <th>Tweet_ID</th>\n",
       "      <th>Previous</th>\n",
       "      <th>User_ID</th>\n",
       "      <th>Text</th>\n",
       "      <th>Expert_Annotation</th>\n",
       "      <th>Amateur_Annotations</th>\n",
       "    </tr>\n",
       "  </thead>\n",
       "  <tbody>\n",
       "    <tr>\n",
       "      <th>0</th>\n",
       "      <td>570775709343461377</td>\n",
       "      <td>5.707751e+17</td>\n",
       "      <td>24414732</td>\n",
       "      <td>@TVBachelor @NewJerzeyBoy what about the femin...</td>\n",
       "      <td>both</td>\n",
       "      <td>[neither,sexism,sexism]</td>\n",
       "    </tr>\n",
       "    <tr>\n",
       "      <th>1</th>\n",
       "      <td>596730741490253824</td>\n",
       "      <td>5.967300e+17</td>\n",
       "      <td>13857342</td>\n",
       "      <td>@ThelmaSleaze uh... did you watch the video? o...</td>\n",
       "      <td>both</td>\n",
       "      <td>[neither,racism,sexism]</td>\n",
       "    </tr>\n",
       "  </tbody>\n",
       "</table>\n",
       "</div>"
      ],
      "text/plain": [
       "             Tweet_ID      Previous   User_ID  \\\n",
       "0  570775709343461377  5.707751e+17  24414732   \n",
       "1  596730741490253824  5.967300e+17  13857342   \n",
       "\n",
       "                                                Text Expert_Annotation  \\\n",
       "0  @TVBachelor @NewJerzeyBoy what about the femin...              both   \n",
       "1  @ThelmaSleaze uh... did you watch the video? o...              both   \n",
       "\n",
       "       Amateur_Annotations  \n",
       "0  [neither,sexism,sexism]  \n",
       "1  [neither,racism,sexism]  "
      ]
     },
     "execution_count": 113,
     "metadata": {},
     "output_type": "execute_result"
    }
   ],
   "source": [
    "# preview  \n",
    "wassem_1.head(2)"
   ]
  },
  {
   "cell_type": "code",
   "execution_count": 114,
   "metadata": {},
   "outputs": [],
   "source": [
    "# Select tweets and Annotations \n",
    "wassem_1 = wassem_1[['Text','Expert_Annotation']]"
   ]
  },
  {
   "cell_type": "code",
   "execution_count": 115,
   "metadata": {},
   "outputs": [
    {
     "data": {
      "text/plain": [
       "neither    5729\n",
       "sexism      815\n",
       "racism       88\n",
       "both         35\n",
       "Name: Expert_Annotation, dtype: int64"
      ]
     },
     "execution_count": 115,
     "metadata": {},
     "output_type": "execute_result"
    }
   ],
   "source": [
    "# Annotations (Labels)\n",
    "wassem_1['Expert_Annotation'].value_counts()"
   ]
  },
  {
   "cell_type": "code",
   "execution_count": 116,
   "metadata": {},
   "outputs": [],
   "source": [
    "# Extract Racism dataset and Sexism dataset \n",
    "racism_data_1 = wassem_1[wassem_1['Expert_Annotation']!='sexism']\n",
    "sexism_data_1 = wassem_1[wassem_1['Expert_Annotation']!='racism']"
   ]
  },
  {
   "cell_type": "markdown",
   "metadata": {},
   "source": [
    "## Data set wassem_hovy_naacl.csv"
   ]
  },
  {
   "cell_type": "code",
   "execution_count": 117,
   "metadata": {},
   "outputs": [],
   "source": [
    "# Import the data set \n",
    "wassem_2 = pd.read_csv('Data/wassem_hovy_naacl.csv', sep='\\t')"
   ]
  },
  {
   "cell_type": "code",
   "execution_count": 118,
   "metadata": {},
   "outputs": [
    {
     "data": {
      "text/plain": [
       "(16202, 5)"
      ]
     },
     "execution_count": 118,
     "metadata": {},
     "output_type": "execute_result"
    }
   ],
   "source": [
    "# Shape \n",
    "wassem_2.shape"
   ]
  },
  {
   "cell_type": "code",
   "execution_count": 119,
   "metadata": {},
   "outputs": [
    {
     "data": {
      "text/html": [
       "<div>\n",
       "<style scoped>\n",
       "    .dataframe tbody tr th:only-of-type {\n",
       "        vertical-align: middle;\n",
       "    }\n",
       "\n",
       "    .dataframe tbody tr th {\n",
       "        vertical-align: top;\n",
       "    }\n",
       "\n",
       "    .dataframe thead th {\n",
       "        text-align: right;\n",
       "    }\n",
       "</style>\n",
       "<table border=\"1\" class=\"dataframe\">\n",
       "  <thead>\n",
       "    <tr style=\"text-align: right;\">\n",
       "      <th></th>\n",
       "      <th>Tweet_ID</th>\n",
       "      <th>Previous</th>\n",
       "      <th>User_ID</th>\n",
       "      <th>Text</th>\n",
       "      <th>Label</th>\n",
       "    </tr>\n",
       "  </thead>\n",
       "  <tbody>\n",
       "    <tr>\n",
       "      <th>0</th>\n",
       "      <td>567080871472017408</td>\n",
       "      <td>5.670786e+17</td>\n",
       "      <td>2941145694</td>\n",
       "      <td>@truaemusic The followers of the religion give...</td>\n",
       "      <td>racism</td>\n",
       "    </tr>\n",
       "    <tr>\n",
       "      <th>1</th>\n",
       "      <td>566098518616449024</td>\n",
       "      <td>5.660874e+17</td>\n",
       "      <td>2941145694</td>\n",
       "      <td>@Love___Egypt @washingtonpost All the land tha...</td>\n",
       "      <td>racism</td>\n",
       "    </tr>\n",
       "  </tbody>\n",
       "</table>\n",
       "</div>"
      ],
      "text/plain": [
       "             Tweet_ID      Previous     User_ID  \\\n",
       "0  567080871472017408  5.670786e+17  2941145694   \n",
       "1  566098518616449024  5.660874e+17  2941145694   \n",
       "\n",
       "                                                Text   Label  \n",
       "0  @truaemusic The followers of the religion give...  racism  \n",
       "1  @Love___Egypt @washingtonpost All the land tha...  racism  "
      ]
     },
     "execution_count": 119,
     "metadata": {},
     "output_type": "execute_result"
    }
   ],
   "source": [
    "# Preview \n",
    "wassem_2.head(2)"
   ]
  },
  {
   "cell_type": "code",
   "execution_count": 120,
   "metadata": {},
   "outputs": [],
   "source": [
    "# Select tweets and Annotations \n",
    "wassem_2 = wassem_2[['Text','Label']]"
   ]
  },
  {
   "cell_type": "code",
   "execution_count": 121,
   "metadata": {},
   "outputs": [],
   "source": [
    "# Extract Racism dataset and Sexism dataset \n",
    "racism_data_2 = wassem_2[wassem_2['Label']!='sexism']\n",
    "sexism_data_2 = wassem_2[wassem_2['Label']!='racism']"
   ]
  },
  {
   "cell_type": "markdown",
   "metadata": {},
   "source": [
    "## Racism Dataset "
   ]
  },
  {
   "cell_type": "code",
   "execution_count": 122,
   "metadata": {},
   "outputs": [
    {
     "data": {
      "text/plain": [
       "neither    5729\n",
       "racism       88\n",
       "both         35\n",
       "Name: Expert_Annotation, dtype: int64"
      ]
     },
     "execution_count": 122,
     "metadata": {},
     "output_type": "execute_result"
    }
   ],
   "source": [
    "# Annotations of racism_data_1\n",
    "racism_data_1['Expert_Annotation'].value_counts()"
   ]
  },
  {
   "cell_type": "code",
   "execution_count": 123,
   "metadata": {},
   "outputs": [
    {
     "data": {
      "text/plain": [
       "none      11115\n",
       "racism     1939\n",
       "Name: Label, dtype: int64"
      ]
     },
     "execution_count": 123,
     "metadata": {},
     "output_type": "execute_result"
    }
   ],
   "source": [
    "# Annotations of racism_data_2\n",
    "racism_data_2['Label'].value_counts()"
   ]
  },
  {
   "cell_type": "code",
   "execution_count": 124,
   "metadata": {},
   "outputs": [],
   "source": [
    "# rename columns \n",
    "racism_data_1.columns = [\"Tweets\",\"Labels\"]\n",
    "racism_data_2.columns = [\"Tweets\",\"Labels\"]"
   ]
  },
  {
   "cell_type": "code",
   "execution_count": 125,
   "metadata": {},
   "outputs": [],
   "source": [
    "# combine racism_data_1 & racism_data_2\n",
    "racism = pd.concat([racism_data_1,racism_data_2], axis=0, ignore_index=True)"
   ]
  },
  {
   "cell_type": "code",
   "execution_count": 126,
   "metadata": {},
   "outputs": [
    {
     "data": {
      "text/plain": [
       "none       11115\n",
       "neither     5729\n",
       "racism      2027\n",
       "both          35\n",
       "Name: Labels, dtype: int64"
      ]
     },
     "execution_count": 126,
     "metadata": {},
     "output_type": "execute_result"
    }
   ],
   "source": [
    "# Labels \n",
    "racism['Labels'].value_counts()"
   ]
  },
  {
   "cell_type": "code",
   "execution_count": 127,
   "metadata": {},
   "outputs": [],
   "source": [
    "# Encoding (racist tweet = 1, none = 0)\n",
    "racism['Labels'].replace('none','0', inplace=True)\n",
    "racism['Labels'].replace('neither','0', inplace=True)\n",
    "racism['Labels'].replace('racism','1', inplace=True)\n",
    "racism['Labels'].replace('both','1', inplace=True)"
   ]
  },
  {
   "cell_type": "code",
   "execution_count": 128,
   "metadata": {},
   "outputs": [
    {
     "data": {
      "text/plain": [
       "0    16844\n",
       "1     2062\n",
       "Name: Labels, dtype: int64"
      ]
     },
     "execution_count": 128,
     "metadata": {},
     "output_type": "execute_result"
    }
   ],
   "source": [
    "# Labels (verification) \n",
    "racism['Labels'].value_counts()"
   ]
  },
  {
   "cell_type": "code",
   "execution_count": 129,
   "metadata": {},
   "outputs": [],
   "source": [
    "# Export the racism dataset \n",
    "racism.to_csv('Data/racism.csv', index_label=False)"
   ]
  },
  {
   "cell_type": "markdown",
   "metadata": {},
   "source": [
    "## Sexism data set "
   ]
  },
  {
   "cell_type": "code",
   "execution_count": 130,
   "metadata": {},
   "outputs": [
    {
     "data": {
      "text/plain": [
       "neither    5729\n",
       "sexism      815\n",
       "both         35\n",
       "Name: Expert_Annotation, dtype: int64"
      ]
     },
     "execution_count": 130,
     "metadata": {},
     "output_type": "execute_result"
    }
   ],
   "source": [
    "# Annotations of sexism_data_1\n",
    "sexism_data_1['Expert_Annotation'].value_counts()"
   ]
  },
  {
   "cell_type": "code",
   "execution_count": 131,
   "metadata": {},
   "outputs": [
    {
     "data": {
      "text/plain": [
       "none      11115\n",
       "sexism     3148\n",
       "Name: Label, dtype: int64"
      ]
     },
     "execution_count": 131,
     "metadata": {},
     "output_type": "execute_result"
    }
   ],
   "source": [
    "# Annotations of sexism_data_2\n",
    "sexism_data_2['Label'].value_counts()"
   ]
  },
  {
   "cell_type": "code",
   "execution_count": 132,
   "metadata": {},
   "outputs": [],
   "source": [
    "# rename columns \n",
    "sexism_data_1.columns = [\"Tweets\",\"Labels\"]\n",
    "sexism_data_2.columns = [\"Tweets\",\"Labels\"]"
   ]
  },
  {
   "cell_type": "code",
   "execution_count": 133,
   "metadata": {},
   "outputs": [],
   "source": [
    "# combine sexism_data_1 & sexism_data_2\n",
    "sexism = pd.concat([sexism_data_1,sexism_data_2], axis=0, ignore_index=True)"
   ]
  },
  {
   "cell_type": "code",
   "execution_count": 134,
   "metadata": {},
   "outputs": [
    {
     "data": {
      "text/plain": [
       "none       11115\n",
       "neither     5729\n",
       "sexism      3963\n",
       "both          35\n",
       "Name: Labels, dtype: int64"
      ]
     },
     "execution_count": 134,
     "metadata": {},
     "output_type": "execute_result"
    }
   ],
   "source": [
    "# Labels\n",
    "sexism['Labels'].value_counts()"
   ]
  },
  {
   "cell_type": "code",
   "execution_count": 135,
   "metadata": {},
   "outputs": [],
   "source": [
    "# Encoding (sexist tweet = 1, none = 0)\n",
    "sexism['Labels'].replace('none','0', inplace=True)\n",
    "sexism['Labels'].replace('neither','0', inplace=True)\n",
    "sexism['Labels'].replace('sexism','1', inplace=True)\n",
    "sexism['Labels'].replace('both','1', inplace=True)"
   ]
  },
  {
   "cell_type": "code",
   "execution_count": 136,
   "metadata": {},
   "outputs": [
    {
     "data": {
      "text/plain": [
       "0    16844\n",
       "1     3998\n",
       "Name: Labels, dtype: int64"
      ]
     },
     "execution_count": 136,
     "metadata": {},
     "output_type": "execute_result"
    }
   ],
   "source": [
    "# Labels (verification) \n",
    "sexism['Labels'].value_counts()"
   ]
  },
  {
   "cell_type": "code",
   "execution_count": 137,
   "metadata": {},
   "outputs": [],
   "source": [
    "# Export the sexism dataset \n",
    "sexism.to_csv('Data/sexism.csv', index_label=False)"
   ]
  },
  {
   "cell_type": "markdown",
   "metadata": {},
   "source": [
    "## Discrimination data set (Racism and Sexism) "
   ]
  },
  {
   "cell_type": "code",
   "execution_count": 138,
   "metadata": {},
   "outputs": [
    {
     "data": {
      "text/plain": [
       "0    16844\n",
       "1     2062\n",
       "Name: Labels, dtype: int64"
      ]
     },
     "execution_count": 138,
     "metadata": {},
     "output_type": "execute_result"
    }
   ],
   "source": [
    "# Racism data set \n",
    "racism['Labels'].value_counts()"
   ]
  },
  {
   "cell_type": "code",
   "execution_count": 139,
   "metadata": {},
   "outputs": [
    {
     "data": {
      "text/plain": [
       "0    16844\n",
       "1     3998\n",
       "Name: Labels, dtype: int64"
      ]
     },
     "execution_count": 139,
     "metadata": {},
     "output_type": "execute_result"
    }
   ],
   "source": [
    "# Sexism data set \n",
    "sexism['Labels'].value_counts()"
   ]
  },
  {
   "cell_type": "code",
   "execution_count": 140,
   "metadata": {},
   "outputs": [],
   "source": [
    "# convert the value 1 to 2 for sexism \n",
    "sexism['Labels'][sexism['Labels'] == '1'] = '2'"
   ]
  },
  {
   "cell_type": "code",
   "execution_count": 141,
   "metadata": {},
   "outputs": [
    {
     "data": {
      "text/plain": [
       "0    16844\n",
       "2     3998\n",
       "Name: Labels, dtype: int64"
      ]
     },
     "execution_count": 141,
     "metadata": {},
     "output_type": "execute_result"
    }
   ],
   "source": [
    "# verification \n",
    "sexism['Labels'].value_counts()"
   ]
  },
  {
   "cell_type": "code",
   "execution_count": 143,
   "metadata": {},
   "outputs": [
    {
     "name": "stdout",
     "output_type": "stream",
     "text": [
      "discrimination dataset shape :  (22904, 2)\n"
     ]
    },
    {
     "data": {
      "text/plain": [
       "0    16844\n",
       "2     3998\n",
       "1     2062\n",
       "Name: MultiClass_Labels, dtype: int64"
      ]
     },
     "execution_count": 143,
     "metadata": {},
     "output_type": "execute_result"
    }
   ],
   "source": [
    "# Combine racism and sexism \n",
    "discrimination = pd.concat([racism,sexism[sexism['Labels']=='2']], axis=0, ignore_index=True)\n",
    "discrimination.columns = ['Tweets','MultiClass_Labels']\n",
    "\n",
    "print(\"discrimination dataset shape : \", discrimination.shape)\n",
    "discrimination['MultiClass_Labels'].value_counts()"
   ]
  },
  {
   "cell_type": "code",
   "execution_count": 144,
   "metadata": {},
   "outputs": [
    {
     "data": {
      "text/html": [
       "<div>\n",
       "<style scoped>\n",
       "    .dataframe tbody tr th:only-of-type {\n",
       "        vertical-align: middle;\n",
       "    }\n",
       "\n",
       "    .dataframe tbody tr th {\n",
       "        vertical-align: top;\n",
       "    }\n",
       "\n",
       "    .dataframe thead th {\n",
       "        text-align: right;\n",
       "    }\n",
       "</style>\n",
       "<table border=\"1\" class=\"dataframe\">\n",
       "  <thead>\n",
       "    <tr style=\"text-align: right;\">\n",
       "      <th></th>\n",
       "      <th>Tweets</th>\n",
       "      <th>MultiClass_Labels</th>\n",
       "    </tr>\n",
       "  </thead>\n",
       "  <tbody>\n",
       "    <tr>\n",
       "      <th>0</th>\n",
       "      <td>@TVBachelor @NewJerzeyBoy what about the femin...</td>\n",
       "      <td>1</td>\n",
       "    </tr>\n",
       "    <tr>\n",
       "      <th>1</th>\n",
       "      <td>@ThelmaSleaze uh... did you watch the video? o...</td>\n",
       "      <td>1</td>\n",
       "    </tr>\n",
       "    <tr>\n",
       "      <th>2</th>\n",
       "      <td>Managed to hit a bird and a small rodent on my...</td>\n",
       "      <td>1</td>\n",
       "    </tr>\n",
       "    <tr>\n",
       "      <th>3</th>\n",
       "      <td>If you believe a #holohoax or #gays, LGBT &amp;amp...</td>\n",
       "      <td>1</td>\n",
       "    </tr>\n",
       "    <tr>\n",
       "      <th>4</th>\n",
       "      <td>Rid yourself of #Feminazi, #Fag &amp;amp; #Jewf. E...</td>\n",
       "      <td>1</td>\n",
       "    </tr>\n",
       "  </tbody>\n",
       "</table>\n",
       "</div>"
      ],
      "text/plain": [
       "                                              Tweets MultiClass_Labels\n",
       "0  @TVBachelor @NewJerzeyBoy what about the femin...                 1\n",
       "1  @ThelmaSleaze uh... did you watch the video? o...                 1\n",
       "2  Managed to hit a bird and a small rodent on my...                 1\n",
       "3  If you believe a #holohoax or #gays, LGBT &amp...                 1\n",
       "4  Rid yourself of #Feminazi, #Fag &amp; #Jewf. E...                 1"
      ]
     },
     "execution_count": 144,
     "metadata": {},
     "output_type": "execute_result"
    }
   ],
   "source": [
    "# Preview \n",
    "discrimination.head()"
   ]
  },
  {
   "cell_type": "code",
   "execution_count": 145,
   "metadata": {},
   "outputs": [
    {
     "data": {
      "text/plain": [
       "0    16844\n",
       "1     6060\n",
       "dtype: int64"
      ]
     },
     "execution_count": 145,
     "metadata": {},
     "output_type": "execute_result"
    }
   ],
   "source": [
    "# Create a MultiClass Label column \n",
    "disc = []\n",
    "for label in discrimination['MultiClass_Labels']: \n",
    "    if label != '0': disc.append('1') \n",
    "    else : disc.append('0')\n",
    "Labels = pd.DataFrame(disc)\n",
    "Labels.value_counts()"
   ]
  },
  {
   "cell_type": "code",
   "execution_count": 148,
   "metadata": {},
   "outputs": [
    {
     "data": {
      "text/plain": [
       "0    16844\n",
       "1     6060\n",
       "Name: Labels, dtype: int64"
      ]
     },
     "execution_count": 148,
     "metadata": {},
     "output_type": "execute_result"
    }
   ],
   "source": [
    "# Add Binary Labels \n",
    "discrimination['Labels'] = Labels\n",
    "discrimination['Labels'].value_counts()"
   ]
  },
  {
   "cell_type": "code",
   "execution_count": 150,
   "metadata": {},
   "outputs": [
    {
     "data": {
      "text/html": [
       "<div>\n",
       "<style scoped>\n",
       "    .dataframe tbody tr th:only-of-type {\n",
       "        vertical-align: middle;\n",
       "    }\n",
       "\n",
       "    .dataframe tbody tr th {\n",
       "        vertical-align: top;\n",
       "    }\n",
       "\n",
       "    .dataframe thead th {\n",
       "        text-align: right;\n",
       "    }\n",
       "</style>\n",
       "<table border=\"1\" class=\"dataframe\">\n",
       "  <thead>\n",
       "    <tr style=\"text-align: right;\">\n",
       "      <th></th>\n",
       "      <th>Tweets</th>\n",
       "      <th>MultiClass_Labels</th>\n",
       "      <th>Labels</th>\n",
       "    </tr>\n",
       "  </thead>\n",
       "  <tbody>\n",
       "    <tr>\n",
       "      <th>0</th>\n",
       "      <td>@TVBachelor @NewJerzeyBoy what about the femin...</td>\n",
       "      <td>1</td>\n",
       "      <td>1</td>\n",
       "    </tr>\n",
       "    <tr>\n",
       "      <th>1</th>\n",
       "      <td>@ThelmaSleaze uh... did you watch the video? o...</td>\n",
       "      <td>1</td>\n",
       "      <td>1</td>\n",
       "    </tr>\n",
       "    <tr>\n",
       "      <th>2</th>\n",
       "      <td>Managed to hit a bird and a small rodent on my...</td>\n",
       "      <td>1</td>\n",
       "      <td>1</td>\n",
       "    </tr>\n",
       "    <tr>\n",
       "      <th>3</th>\n",
       "      <td>If you believe a #holohoax or #gays, LGBT &amp;amp...</td>\n",
       "      <td>1</td>\n",
       "      <td>1</td>\n",
       "    </tr>\n",
       "    <tr>\n",
       "      <th>4</th>\n",
       "      <td>Rid yourself of #Feminazi, #Fag &amp;amp; #Jewf. E...</td>\n",
       "      <td>1</td>\n",
       "      <td>1</td>\n",
       "    </tr>\n",
       "  </tbody>\n",
       "</table>\n",
       "</div>"
      ],
      "text/plain": [
       "                                              Tweets MultiClass_Labels Labels\n",
       "0  @TVBachelor @NewJerzeyBoy what about the femin...                 1      1\n",
       "1  @ThelmaSleaze uh... did you watch the video? o...                 1      1\n",
       "2  Managed to hit a bird and a small rodent on my...                 1      1\n",
       "3  If you believe a #holohoax or #gays, LGBT &amp...                 1      1\n",
       "4  Rid yourself of #Feminazi, #Fag &amp; #Jewf. E...                 1      1"
      ]
     },
     "execution_count": 150,
     "metadata": {},
     "output_type": "execute_result"
    }
   ],
   "source": [
    "# Preview \n",
    "discrimination.head()"
   ]
  },
  {
   "cell_type": "code",
   "execution_count": 151,
   "metadata": {},
   "outputs": [],
   "source": [
    "discrimination.to_csv('Data/discrimination.csv', index_label=False)"
   ]
  }
 ],
 "metadata": {
  "kernelspec": {
   "display_name": "Python 3",
   "language": "python",
   "name": "python3"
  },
  "language_info": {
   "codemirror_mode": {
    "name": "ipython",
    "version": 3
   },
   "file_extension": ".py",
   "mimetype": "text/x-python",
   "name": "python",
   "nbconvert_exporter": "python",
   "pygments_lexer": "ipython3",
   "version": "3.7.4"
  }
 },
 "nbformat": 4,
 "nbformat_minor": 4
}
